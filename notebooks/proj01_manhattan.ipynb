{
  "nbformat": 4,
  "nbformat_minor": 0,
  "metadata": {
    "colab": {
      "provenance": [],
      "collapsed_sections": [],
      "toc_visible": true
    },
    "kernelspec": {
      "name": "python3",
      "display_name": "Python 3"
    },
    "language_info": {
      "name": "python"
    }
  },
  "cells": [
    {
      "cell_type": "markdown",
      "source": [
        "# Assignment\n",
        "\n",
        "Using matplotlib/pyplot, implement a function that receives a pandas dataframe with three columns (chromosome, position, pvalue) and draws a manhattan plot with a result similar to this:\n",
        "\n",
        "![manhattan](https://github.com/ne1s0n/dataviz_python/raw/main/resources/proj01_manhattan_target.png)\n",
        "\n",
        "\n",
        "\n"
      ],
      "metadata": {
        "id": "CbxyzhEUKTu3"
      }
    },
    {
      "cell_type": "markdown",
      "source": [
        "# Data\n",
        "\n",
        "It is provided a GWAS result dataset originally included with the [Plink](https://github.com/ShujiaHuang/qmplot/blob/main/tests/data/gwas_plink_result.tsv) software, which I saved in the course repo for extra security. The file is:\n",
        "\n",
        "* tab separated\n",
        "* without header\n",
        "* 9224 rows (one per SNP)\n",
        "* 12 columns:\n",
        "  * `\"CHROM\", \"POS\", \"ID\", \"REF\", \"ALT\", \"A1\", \"TEST\", \"OBS_CT\", \"BETA\", \"SE\", \"T_STAT\", \"P\"`\n",
        "* some rows have a missing value in the `P` column, and need to be removed (see [.dropna()](https://pandas.pydata.org/pandas-docs/stable/reference/api/pandas.DataFrame.dropna.html#pandas.DataFrame.dropna))\n",
        "\n",
        "You may need a refresh on the [pandas.read_csv()](https://pandas.pydata.org/pandas-docs/stable/reference/api/pandas.read_csv.html) function.\n",
        "\n",
        "The dataset is available at the following address:\n"
      ],
      "metadata": {
        "id": "upCfe1plLGfi"
      }
    },
    {
      "cell_type": "code",
      "execution_count": null,
      "metadata": {
        "id": "iVkIN23KKCNS"
      },
      "outputs": [],
      "source": [
        "GWAS_RESULTS_URL = 'https://github.com/ne1s0n/dataviz_python/raw/main/resources/gwas_plink_result_cleaned.tsv'"
      ]
    },
    {
      "cell_type": "markdown",
      "source": [
        "# Is there anybody NOT familiar with manhattan plots?\n",
        "\n",
        "Raise your hand!"
      ],
      "metadata": {
        "id": "zs_vQ-plKnb0"
      }
    },
    {
      "cell_type": "markdown",
      "source": [
        "# Existing solutions\n",
        "\n",
        "Many software solutions are already available to create manhattan plots with more options that we will ever able to implement. There's no doubt that if you *need* to do a manhattan plot it's better to not reinvent the wheel and use something stable and published. The whole point of this project is to do meaningful exercise, though, not to create a competitive tool. \n",
        "\n",
        "That said, you may want to take a look to:\n",
        "\n",
        "* [manhattan plots with bioinfokit](https://www.reneshbedre.com/blog/manhattan-plot.html), a bioinformatics-oriented package\n",
        "* [manhattan plots with plotly](https://plotly.com/python/manhattan-plot/), a generic visualization library with emphasis on interactivity\n",
        "* [manhattan plots with qmplot](https://pythonawesome.com/a-python-package-for-creating-high-quality-manhattan-and-q-q-plots-from-gwas-results/) : a dedicated package for creating high-quality manhattan and Q-Q plots from GWAS results "
      ],
      "metadata": {
        "id": "GsFfuFa1KXPY"
      }
    },
    {
      "cell_type": "markdown",
      "source": [
        "# That's it\n",
        "\n",
        "That's the assignment. Keep scrolling if you want to read and follow the subassignments (SA).\n",
        "\n",
        "<br><br><br><br><br><br>\n",
        "<br><br><br><br><br><br>\n",
        "<br><br><br><br><br><br>\n",
        "<br><br><br><br><br><br>\n",
        "<br><br><br><br><br><br>\n",
        "<br><br><br><br><br><br>\n",
        "<br><br><br><br><br><br>\n",
        "<br><br><br><br><br><br>\n",
        "<br><br><br><br><br><br>\n",
        "<br><br><br><br><br><br>\n",
        "<br><br><br><br><br><br>\n",
        "<br><br><br><br><br><br>\n",
        "<br><br><br><br><br><br>\n",
        "<br><br><br><br><br><br>\n",
        "<br><br><br><br><br><br>\n",
        "<br><br><br><br><br><br>"
      ],
      "metadata": {
        "id": "E76H-7mDqTZG"
      }
    },
    {
      "cell_type": "markdown",
      "source": [
        "# SA0) Read the data\n",
        "\n",
        "Read the data from the remote url saved in `GWAS_RESULTS_URL` variable, remembering that there's no file header but you should name the columns\n",
        "\n",
        "`\"CHROM\", \"POS\", \"ID\", \"REF\", \"ALT\", \"A1\", \"TEST\", \"OBS_CT\", \"BETA\", \"SE\", \"T_STAT\", \"P\"`\n",
        "\n",
        "Moreover remember to\n",
        "\n",
        "* remove lines with missing (`NA`) P values\n",
        "* compute -log10(p)"
      ],
      "metadata": {
        "id": "9Y6ZZgP7qxTj"
      }
    },
    {
      "cell_type": "code",
      "source": [
        "# your solution here"
      ],
      "metadata": {
        "id": "_ftuI5DOHqS3"
      },
      "execution_count": null,
      "outputs": []
    },
    {
      "cell_type": "markdown",
      "source": [
        "# SA1) A simpler problem: single chromosome manhattan plot \n",
        "\n",
        "At this point you should already be able to do a single chromosome plot."
      ],
      "metadata": {
        "id": "aoLchaQpKQla"
      }
    },
    {
      "cell_type": "code",
      "source": [
        "# your solution here"
      ],
      "metadata": {
        "id": "y6HN0_yXIGl3"
      },
      "execution_count": null,
      "outputs": []
    },
    {
      "cell_type": "markdown",
      "source": [
        "# SA2) Sort the data by chromosome"
      ],
      "metadata": {
        "id": "sFz-UZp9Nk9m"
      }
    },
    {
      "cell_type": "code",
      "source": [
        "# your solution here"
      ],
      "metadata": {
        "id": "_m6_uwLpNkbz"
      },
      "execution_count": null,
      "outputs": []
    },
    {
      "cell_type": "markdown",
      "source": [
        "# SA3) Compute the length of each chromosome\n",
        "\n",
        "This will certainly come handy. Put the values in a variable.\n",
        "\n"
      ],
      "metadata": {
        "id": "U-ze98PdMSv9"
      }
    },
    {
      "cell_type": "code",
      "source": [
        "# your solution here"
      ],
      "metadata": {
        "id": "ndqh7ZExME7M"
      },
      "execution_count": null,
      "outputs": []
    },
    {
      "cell_type": "markdown",
      "source": [
        "# SA4) Create a new column SHIFT column\n",
        "\n",
        "For chrom 1, SHIFT should be zero\n",
        "\n",
        "For chrom 2, SHIFT should be the lenght of chrom 1\n",
        "\n",
        "For chrom 3, SHIFT should be the lenght of chrom 1 plus the length of chrom 2\n",
        "\n",
        "And so forth.\n"
      ],
      "metadata": {
        "id": "gasxR3OKP0oa"
      }
    },
    {
      "cell_type": "code",
      "source": [
        "# your solution here"
      ],
      "metadata": {
        "id": "hsGTQWVsP6TS"
      },
      "execution_count": null,
      "outputs": []
    },
    {
      "cell_type": "markdown",
      "source": [
        "# SA5) Create new column X (POS + SHIFT)"
      ],
      "metadata": {
        "id": "DWasAi-pSSvS"
      }
    },
    {
      "cell_type": "code",
      "source": [
        "# your solution here"
      ],
      "metadata": {
        "id": "p8osIK_QSEQu"
      },
      "execution_count": null,
      "outputs": []
    },
    {
      "cell_type": "markdown",
      "source": [
        "# SA6) Do the plot"
      ],
      "metadata": {
        "id": "kKKeXJ2JSzWg"
      }
    },
    {
      "cell_type": "code",
      "source": [
        "# your solution here"
      ],
      "metadata": {
        "id": "vFUsncLRSnMd"
      },
      "execution_count": null,
      "outputs": []
    },
    {
      "cell_type": "markdown",
      "source": [
        "# SA7) Define a chrom-color dictionary\n",
        "\n",
        "That is, a dictionary where chromosome names are keys and named colors are values. To obtain the same result as in the example shown at the beginning of this document just alternate \"red\" and \"blue\"."
      ],
      "metadata": {
        "id": "KVVoNVq1TCmI"
      }
    },
    {
      "cell_type": "code",
      "source": [
        "# your solution here"
      ],
      "metadata": {
        "id": "b4wzx7CdTW7M"
      },
      "execution_count": null,
      "outputs": []
    },
    {
      "cell_type": "markdown",
      "source": [
        "# SA8) Redo the plot, using the color map defined\n",
        "\n",
        "You need to specify the color for every row in your dataframe. However we can use the dictonary we just defined above and the handy [.map()](https://pandas.pydata.org/pandas-docs/stable/reference/api/pandas.Series.map.html) pandas function to do the job for us."
      ],
      "metadata": {
        "id": "HOxBEcOHViWy"
      }
    },
    {
      "cell_type": "code",
      "source": [
        "# your solution here"
      ],
      "metadata": {
        "id": "1FsLR1KoVWsC"
      },
      "execution_count": null,
      "outputs": []
    },
    {
      "cell_type": "markdown",
      "source": [
        "# SA9) Compute, for each chromosome, the median point"
      ],
      "metadata": {
        "id": "xYw1FFMPV6Sj"
      }
    },
    {
      "cell_type": "code",
      "source": [
        "# your solution here"
      ],
      "metadata": {
        "id": "x1hOwF_rXZ2J"
      },
      "execution_count": null,
      "outputs": []
    },
    {
      "cell_type": "markdown",
      "source": [
        "# SA10) Add a tick + label on the x axis in the middle of each chromosome\n",
        "\n",
        "You should look for a function that manages X ticks. I wonder how it could be called."
      ],
      "metadata": {
        "id": "rC0wI8O7V_5N"
      }
    },
    {
      "cell_type": "code",
      "source": [
        "# your solution here"
      ],
      "metadata": {
        "id": "YObWDP4AXmAk"
      },
      "execution_count": null,
      "outputs": []
    },
    {
      "cell_type": "markdown",
      "source": [
        "# SA11) Put everything in a function\n",
        "\n",
        "Functions are handy."
      ],
      "metadata": {
        "id": "Uyf4SEpMWODL"
      }
    },
    {
      "cell_type": "code",
      "source": [
        "# your solution here"
      ],
      "metadata": {
        "id": "6ECrhq0ZtUhv"
      },
      "execution_count": null,
      "outputs": []
    },
    {
      "cell_type": "markdown",
      "source": [
        "# SA12) Put the function in a module\n",
        "\n",
        "You'll need to do that from YOUR computer."
      ],
      "metadata": {
        "id": "q8WUprulWS3Q"
      }
    }
  ]
}