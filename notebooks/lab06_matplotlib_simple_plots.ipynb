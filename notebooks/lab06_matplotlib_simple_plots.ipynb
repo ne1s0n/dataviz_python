{
  "nbformat": 4,
  "nbformat_minor": 0,
  "metadata": {
    "colab": {
      "provenance": [],
      "collapsed_sections": [],
      "toc_visible": true
    },
    "kernelspec": {
      "name": "python3",
      "display_name": "Python 3"
    },
    "language_info": {
      "name": "python"
    }
  },
  "cells": [
    {
      "cell_type": "markdown",
      "source": [
        "# Simple plots with matplotlib/pyplot\n",
        "\n"
      ],
      "metadata": {
        "id": "wct6w5IgVcxR"
      }
    },
    {
      "cell_type": "markdown",
      "source": [
        "# The Canada immigration dataset\n",
        "\n",
        "We'll use a dataset describing immigration to Canada in the 1980-2013 period. The data list, for 196 nations, the number of immigrants. There's also a few metadata columns describing the nation.\n",
        "\n",
        "Load the data with Pandas using the following code:"
      ],
      "metadata": {
        "id": "aghNqv_WVkSX"
      }
    },
    {
      "cell_type": "code",
      "execution_count": null,
      "metadata": {
        "id": "LTM1UfW8TzEY"
      },
      "outputs": [],
      "source": [
        "import pandas as pd\n",
        "\n",
        "#doc: https://pandas.pydata.org/pandas-docs/stable/reference/api/pandas.read_excel.html\n",
        "df_canada = pd.read_excel(\n",
        "    'https://github.com/ne1s0n/dataviz_python/raw/main/resources/Canada.xlsx',\n",
        "    sheet_name = 'Canada by Citizenship',  #the file contains three sheets\n",
        "    skiprows = range(20), #skip the first twenty rows\n",
        "    skipfooter = 2        #skip the last two rows\n",
        ")"
      ]
    },
    {
      "cell_type": "code",
      "source": [
        "df_canada.head()"
      ],
      "metadata": {
        "id": "lJ7YDTp9W0fj"
      },
      "execution_count": null,
      "outputs": []
    },
    {
      "cell_type": "code",
      "source": [
        "df_canada.info()"
      ],
      "metadata": {
        "id": "3nGp7TyqWtwX"
      },
      "execution_count": null,
      "outputs": []
    },
    {
      "cell_type": "code",
      "source": [
        "df_canada.describe()"
      ],
      "metadata": {
        "id": "9aorozOOW9ah"
      },
      "execution_count": null,
      "outputs": []
    },
    {
      "cell_type": "markdown",
      "source": [
        "Let's rename the \"OdName\" column to \"Country\", and set it to be the index."
      ],
      "metadata": {
        "id": "emjIYqoIXdIq"
      }
    },
    {
      "cell_type": "code",
      "source": [
        "#renaming a column\n",
        "#doc: https://pandas.pydata.org/pandas-docs/stable/reference/api/pandas.DataFrame.rename.html\n",
        "df_canada.rename(columns = {'OdName':'Country'}, inplace = True)\n",
        "\n",
        "#using Country as index\n",
        "#doc: https://pandas.pydata.org/pandas-docs/stable/reference/api/pandas.DataFrame.set_index.html\n",
        "df_canada.set_index('Country', inplace = True)\n",
        "\n",
        "df_canada.head()"
      ],
      "metadata": {
        "id": "DROgfs2jXgOd"
      },
      "execution_count": null,
      "outputs": []
    },
    {
      "cell_type": "code",
      "source": [
        "#we can now directly refer to country names\n",
        "#can you guess what's the role of mycols variable?\n",
        "mycols = df_canada.columns[0:15]\n",
        "df_canada.loc['Albania', mycols]"
      ],
      "metadata": {
        "id": "lXEEIoRMX1e-"
      },
      "execution_count": null,
      "outputs": []
    },
    {
      "cell_type": "markdown",
      "source": [
        "We want to add a \"Total\" column, at "
      ],
      "metadata": {
        "id": "xqCSZqAEaJS2"
      }
    },
    {
      "cell_type": "markdown",
      "source": [
        "---\n",
        "\n",
        "# ASSIGNMENT! Add a \"Total\" column\n",
        "\n",
        "It's important that everybody does this assignment, since we are going to change the `df_canada` dataframe and then use this updated version in some examples and excercises.\n",
        "\n",
        "Remember to \"Runtime/Run before\", so that you actually have a `df_canada` dataframe :-)\n",
        "\n",
        "We want to add a new column to the dataframe named \"Total\" (keep an eye on the case) which contains the total of immigrants for each country.\n",
        "\n",
        "To do so we need to add, for each row, the contents of *some* columns, i.e. those named after a year.\n",
        "\n",
        "---"
      ],
      "metadata": {
        "id": "g1mDziKKaYvg"
      }
    },
    {
      "cell_type": "code",
      "source": [
        "# your solution here"
      ],
      "metadata": {
        "id": "zp36MDCIYiym"
      },
      "execution_count": null,
      "outputs": []
    },
    {
      "cell_type": "markdown",
      "source": [
        "# Plotting setup\n",
        "\n",
        "Nothing too fancy here."
      ],
      "metadata": {
        "id": "drhlYpkAheK0"
      }
    },
    {
      "cell_type": "code",
      "source": [
        "import numpy as np\n",
        "import matplotlib.pyplot as plt"
      ],
      "metadata": {
        "id": "ntD9bSYihiNX"
      },
      "execution_count": null,
      "outputs": []
    },
    {
      "cell_type": "markdown",
      "source": [
        "# Line plot\n",
        "\n",
        "The very basic. Let's plot the number of immigrants from Italy (or any country of your choice) for each year"
      ],
      "metadata": {
        "id": "ujUwD0rfgnGO"
      }
    },
    {
      "cell_type": "code",
      "source": [
        "#this is handy to select only the correct columns\n",
        "years = df_canada.columns[8:42]\n",
        "y = df_canada.loc['Italy', years]\n",
        "\n",
        "plt.plot(y)"
      ],
      "metadata": {
        "id": "SPqEH1Qzbx_B"
      },
      "execution_count": null,
      "outputs": []
    },
    {
      "cell_type": "code",
      "source": [
        "type(y)"
      ],
      "metadata": {
        "id": "bV7m1v8VhT5m"
      },
      "execution_count": null,
      "outputs": []
    },
    {
      "cell_type": "markdown",
      "source": [
        "A bit of aestetics:"
      ],
      "metadata": {
        "id": "bNpl7XediXvo"
      }
    },
    {
      "cell_type": "code",
      "source": [
        "y = df_canada.loc['Italy', years]\n",
        "\n",
        "plt.figure(figsize = (12, 8))\n",
        "plt.plot(y, marker='.', ms=10)\n",
        "plt.ylabel('Immigrants')\n",
        "plt.title('Immigrants from Italy to Canada')\n",
        "plt.grid()"
      ],
      "metadata": {
        "id": "UpYWIPTQh7lP"
      },
      "execution_count": null,
      "outputs": []
    },
    {
      "cell_type": "markdown",
      "source": [
        "Let's examine the structure of the above code:\n",
        "\n",
        "```\n",
        "y = df_canada.loc['Italy', years]\n",
        "```\n",
        "We already know this instruction, it returns a Pandas `Series`, i.e. a 1D set of values ([see doc for more](https://pandas.pydata.org/pandas-docs/stable/reference/api/pandas.Series.html))\n",
        "\n",
        "```\n",
        "plt.figure(figsize = (12, 8))\n",
        "```\n",
        "Here we ask pyplot (not matplotlib) to instantiate a new figure ([see doc for more](https://matplotlib.org/stable/api/_as_gen/matplotlib.pyplot.figure.html)). Internally several Artist layer are instantiated.\n",
        "\n",
        "```\n",
        "plt.plot(y, marker='.', ms=10)\n",
        "```\n",
        "We add an actual plot. Its default beviour is to create a blue line plot with the y axis zoomed to the minimum size able to show the data. We add dot markers on each data point and increase the marker size (`ms`) a bit.\n",
        "\n",
        "```\n",
        "plt.ylabel('Immigrants')\n",
        "plt.title('Immigrants from Italy to Canada')\n",
        "plt.grid()\n",
        "```\n",
        "These are all function that operate on the currently active plot, adding labels and decorations.\n"
      ],
      "metadata": {
        "id": "lJVG2tIWAH0U"
      }
    },
    {
      "cell_type": "markdown",
      "source": [
        "---\n",
        "\n",
        "# ASSIGNMENT! Custom line plot\n",
        "\n",
        "You are required to update the plot above, but changing the aspect of the line so to obtain:\n",
        "\n",
        "* thicker line\n",
        "* red color\n",
        "* dashed instead of continuous\n",
        "\n",
        "Please refer to documentation of [plot()](https://matplotlib.org/stable/api/_as_gen/matplotlib.pyplot.plot.html#matplotlib.pyplot.plot), which you may notice internally refers to [Line2D()](https://matplotlib.org/stable/api/_as_gen/matplotlib.lines.Line2D.html#matplotlib.lines.Line2D), to be consulted for all the supported graphical options.\n",
        "\n",
        "---"
      ],
      "metadata": {
        "id": "2qWCZWYcHS11"
      }
    },
    {
      "cell_type": "code",
      "source": [
        "# Your solution here"
      ],
      "metadata": {
        "id": "VMbKow-hHmBW"
      },
      "execution_count": null,
      "outputs": []
    },
    {
      "cell_type": "markdown",
      "source": [
        "# LineS plot\n",
        "\n",
        "Since we have so many countries, let's add a couple more lines! It should be easy, let's just select two more countries."
      ],
      "metadata": {
        "id": "N6MDMSwgB4Y_"
      }
    },
    {
      "cell_type": "code",
      "source": [
        "y = df_canada.loc[['Italy', 'France', 'Germany'], years]\n",
        "\n",
        "plt.plot(y)"
      ],
      "metadata": {
        "id": "i-toitWOiwVV"
      },
      "execution_count": null,
      "outputs": []
    },
    {
      "cell_type": "markdown",
      "source": [
        "What happened?"
      ],
      "metadata": {
        "id": "cwFMQyiyCVDU"
      }
    },
    {
      "cell_type": "code",
      "source": [
        "countries = ['Italy', 'France', 'Germany']\n",
        "\n",
        "y = df_canada.loc[countries, years].transpose()\n",
        "\n",
        "plt.plot(y, label = countries)"
      ],
      "metadata": {
        "id": "h4lgrycOCHil"
      },
      "execution_count": null,
      "outputs": []
    },
    {
      "cell_type": "markdown",
      "source": [
        "This works, but if we want more control on the appearance of the line we need a slightly more complex code:"
      ],
      "metadata": {
        "id": "klTRH_ZJGj00"
      }
    },
    {
      "cell_type": "code",
      "source": [
        "countries = ['Italy', 'France', 'Germany']\n",
        "\n",
        "for country in countries:\n",
        "  y = df_canada.loc[country, years]\n",
        "  plt.plot(y, label = country)\n",
        "\n",
        "#since we are at it, let's add a legend\n",
        "plt.legend(loc='upper left')"
      ],
      "metadata": {
        "id": "Ed1vZ8wbEoLL"
      },
      "execution_count": null,
      "outputs": []
    },
    {
      "cell_type": "markdown",
      "source": [
        "# Scatter plot\n",
        "\n",
        "Similar to a line plot, a scatter plot is obtained when each data point contains an x and y value. Let's plot the immigration from Italy vs. France to see if there's any kind of correlation."
      ],
      "metadata": {
        "id": "D0lODvEKKrdQ"
      }
    },
    {
      "cell_type": "code",
      "source": [
        "x = df_canada.loc['France', years]\n",
        "y = df_canada.loc['Italy', years]\n",
        "\n",
        "plt.scatter(x, y)\n",
        "\n",
        "#computing and printing pearson's correlation, notice the dtype cast\n",
        "#from \"object\" to \"float\"\n",
        "np.corrcoef(x.to_numpy().astype(float), y.to_numpy().astype(float))"
      ],
      "metadata": {
        "id": "MIBtDWqCMrBm"
      },
      "execution_count": null,
      "outputs": []
    },
    {
      "cell_type": "code",
      "source": [
        "x = df_canada.loc['France', years]\n",
        "y = df_canada.loc['China', years]\n",
        "\n",
        "plt.scatter(x, y)\n",
        "\n",
        "#computing and printing pearson's correlation, notice the dtype cast\n",
        "#from \"object\" to \"float\"\n",
        "np.corrcoef(x.to_numpy().astype(float), y.to_numpy().astype(float))"
      ],
      "metadata": {
        "id": "nUdatU7QEttD"
      },
      "execution_count": null,
      "outputs": []
    },
    {
      "cell_type": "markdown",
      "source": [
        "--- \n",
        "\n",
        "# ASSIGNMENT! Double scatter\n",
        "\n",
        "Put together the two plots above (or other pairing of nations, as for your liking). Let's say:\n",
        "\n",
        "* Italy-France in green\n",
        "* France-China in red\n",
        "\n",
        "---"
      ],
      "metadata": {
        "id": "MztAwMONOz0S"
      }
    },
    {
      "cell_type": "code",
      "source": [
        "#your solution here"
      ],
      "metadata": {
        "id": "9tVTsTEUPJld"
      },
      "execution_count": null,
      "outputs": []
    },
    {
      "cell_type": "markdown",
      "source": [
        "# Bubble plot\n",
        "\n",
        "Bubble plots are a special type of scatter plot where the size (and optionally the color) of the drawn data points vary, according to another variable.\n",
        "\n",
        "They may be hard to read, since the human eye is not very well suited for comparing differences in area (or shade). Still, they may be interesting.\n",
        "\n",
        "To obtain a bubble plot using pyplot just regular call to `scatter()` and add an array with the sizes to the parameter `s`. Since the sice is expressed in points squared (which is not super intuitive) some adjustment may be required.\n",
        "\n",
        "As an example, we plot the number of immigrants from france over the year, but assign a random size to each dot."
      ],
      "metadata": {
        "id": "PoPx54mdke3H"
      }
    },
    {
      "cell_type": "code",
      "source": [
        "#normally a scatter plot needs an x and a y\n",
        "x = years\n",
        "y = df_canada.loc['France', years]\n",
        "\n",
        "#we create a random array of the correct size,\n",
        "#multiplied by 100 to get sensible results\n",
        "size = np.random.random_sample(len(x)) * 100\n",
        "\n",
        "#the bubble plot is obtaines as if it were a \n",
        "#normal scatter plot\n",
        "plt.scatter(x=x, y=y, s=size)"
      ],
      "metadata": {
        "id": "pX_tnhOGfOSA"
      },
      "execution_count": null,
      "outputs": []
    },
    {
      "cell_type": "code",
      "source": [
        "#your solution here"
      ],
      "metadata": {
        "id": "AkqyAvFrP2cP"
      },
      "execution_count": null,
      "outputs": []
    },
    {
      "cell_type": "markdown",
      "source": [
        "# Bar plot\n",
        "\n",
        "Similar to line plot, a bar plot is most suited when x contains categorical data. We keep in mind the [bar() documentation](https://matplotlib.org/stable/api/_as_gen/matplotlib.pyplot.bar.html) and have no problem at this point in creating a bar plot. Keep in mind that we need to explicitly pass two arguments, `x` and `height`.\n",
        "\n",
        "Let's create a bar plot with two countries, China and India."
      ],
      "metadata": {
        "id": "Kwi-VWkNYMvN"
      }
    },
    {
      "cell_type": "code",
      "source": [
        "country = 'China'\n",
        "y = df_canada.loc[country, years]\n",
        "plt.bar(x=years, height=y, label = country)\n",
        "\n",
        "country = 'India'\n",
        "y = df_canada.loc[country, years]\n",
        "plt.bar(x=years, height=y, label = country)\n",
        "\n",
        "#since we are at it, let's add a legend\n",
        "plt.legend(loc='upper left')"
      ],
      "metadata": {
        "id": "dnQ-sSydnoCU"
      },
      "execution_count": null,
      "outputs": []
    },
    {
      "cell_type": "markdown",
      "source": [
        "The plot is done, but the result is not completely satisfying. The bars from India are in foreground and can completely cover China. There are two workarounds:\n",
        "\n",
        "* make India bars partially transparent, so that it's possible to see through\n",
        "* put the two countries side by side"
      ],
      "metadata": {
        "id": "wk6hh1Vyo41I"
      }
    },
    {
      "cell_type": "markdown",
      "source": [
        "---\n",
        "\n",
        "# ASSIGNMENT! Bar chart with two series\n",
        "\n",
        "Implement one (or both!) the solutions described above.\n",
        "\n",
        "Hints\n",
        "\n",
        "* the first solution (using transparency) is easier. Keep in mind that the trasparency parameter is conventionally called \"alpha\" (even outside python)\n",
        "* the second solution (side by side) requires you to manipulate two different arguments of the `bar()` function\n",
        "\n",
        "---"
      ],
      "metadata": {
        "id": "_-z03XGBpXqg"
      }
    },
    {
      "cell_type": "code",
      "source": [
        "#your solution here"
      ],
      "metadata": {
        "id": "bdIC9zLPpihE"
      },
      "execution_count": null,
      "outputs": []
    },
    {
      "cell_type": "markdown",
      "source": [
        "Both solutions are not super handy and extend with some difficulty to more than two series. We'll see easier approaches with Seaborn."
      ],
      "metadata": {
        "id": "9dFo1lGVs9fJ"
      }
    },
    {
      "cell_type": "markdown",
      "source": [
        "# Pie chart\n",
        "\n",
        "A pie chart is rarely used in scientific publications, since it's generally considered a poor visualization tool.\n",
        "\n",
        "Consider, for example, the following charts representing the election results for five parties in three different elections:\n",
        "\n",
        "![pie1](https://github.com/ne1s0n/dataviz_python/raw/main/resources/wikipedia-pie-charts-1.png)\n",
        "\n",
        "It's difficult to easily notice if there's some clear trend, and even if one notices that the black slice is shrinking it's hard to quantify of how much. \n",
        "\n",
        "Compare with the following bar plot:\n",
        "\n",
        "![pie2](https://github.com/ne1s0n/dataviz_python/raw/main/resources/wikipedia-pie-charts-2.png)\n",
        "\n",
        "Now it's clear what's going on. For more in depth analysis of the pitfalls of pie chart go to ataccama.com article [\"Why pie chart are evil\"](https://www.ataccama.com/blog/why-pie-charts-are-evil).\n",
        "\n",
        "Anyway, you may sometimes be required to do a pie chart, so let's do one and then move along.\n",
        "\n"
      ],
      "metadata": {
        "id": "nrlv82r2QpMz"
      }
    },
    {
      "cell_type": "code",
      "source": [
        "#let's group our immigration data by continent\n",
        "df_continent = df_canada.groupby(by='AreaName', axis=0).sum()\n",
        "\n",
        "#Did it work? What happened to non-numeric columns?\n",
        "df_continent.head()"
      ],
      "metadata": {
        "id": "B_KgT-KAWm7U"
      },
      "execution_count": null,
      "outputs": []
    },
    {
      "cell_type": "code",
      "source": [
        "plt.pie(df_continent['Total'])"
      ],
      "metadata": {
        "id": "xcedPd93WuSe"
      },
      "execution_count": null,
      "outputs": []
    },
    {
      "cell_type": "markdown",
      "source": [
        "Meh. Let's clean up a bit, keeping in mind our options from the [pie() documentation](https://matplotlib.org/stable/api/_as_gen/matplotlib.pyplot.pie.html)"
      ],
      "metadata": {
        "id": "ixAVJ15yXIGK"
      }
    },
    {
      "cell_type": "code",
      "source": [
        "colors = ['red', 'green', 'blue', 'yellow', 'pink']\n",
        "labels = df_continent.index\n",
        "expl = [0, 0.1, 0, 0.1, 0, 0]\n",
        "\n",
        "plt.pie(df_continent['Total'], colors=colors, labels=labels, explode=expl)"
      ],
      "metadata": {
        "id": "mjJt2MuAXCux"
      },
      "execution_count": null,
      "outputs": []
    },
    {
      "cell_type": "markdown",
      "source": [
        "\n",
        "# Histograms\n",
        "\n",
        "Histograms are an excellent way to explore the data distribution, i.e. understand what are the most common values and what are the most rare.\n",
        "\n",
        "A histogram represents data using bars of various heights. Each bar groups numbers into specific ranges. Taller bars show that more data falls within that specific range.\n",
        "\n",
        "To do so data are grouped in \"bins\". So there's a bin counting e.g. the number of values between 1 and 10, another for values between 11 and 20 and so forth.\n",
        "\n",
        "In pyplot histograms are obtained via the [hist()](https://matplotlib.org/stable/api/_as_gen/matplotlib.pyplot.hist.html) function. Internally, the function uses numpy, and in particular [np.histogram()](https://numpy.org/doc/stable/reference/generated/numpy.histogram.html#numpy.histogram) to compute the bins. It then invokes the pyplot [plt.stairs()](https://matplotlib.org/stable/api/_as_gen/matplotlib.pyplot.stairs.html) to actually draw the plot.\n",
        "\n",
        "Let's see a simple example: the distribution of immigrants for year 2013"
      ],
      "metadata": {
        "id": "cgVrtJ8clCMd"
      }
    },
    {
      "cell_type": "code",
      "source": [
        "plt.hist(df_canada.loc[:, 2013])"
      ],
      "metadata": {
        "id": "Li3axah_ltYM"
      },
      "execution_count": null,
      "outputs": []
    },
    {
      "cell_type": "markdown",
      "source": [
        "Taking a look at the bins:"
      ],
      "metadata": {
        "id": "WpXFyMGXnJlH"
      }
    },
    {
      "cell_type": "code",
      "source": [
        "counts, bins = np.histogram(df_canada.loc[:, 2013])\n",
        "print(bins)\n",
        "print(counts)"
      ],
      "metadata": {
        "id": "PLFol6gdnUQq"
      },
      "execution_count": null,
      "outputs": []
    },
    {
      "cell_type": "markdown",
      "source": [
        "Doing histograms with more than one distribution is technically possile, but easily becomes messy. It incurs in the same limitations as barplots, and it's better done using libraries built upon matplotlib/pyplot."
      ],
      "metadata": {
        "id": "i5_kBiJrnkV9"
      }
    },
    {
      "cell_type": "markdown",
      "source": [
        "# Box plots\n",
        "\n",
        "Box plots are a handy way to compare distributions of more than one variable. In fact, there's little use in doing a box plot with a single variable. In this aspect, they are somewhat the opposite of histograms. \n",
        "\n",
        "Unsurprisingly, the pyplot function for creating a boxplot is called [boxplot()](https://matplotlib.org/stable/api/_as_gen/matplotlib.pyplot.boxplot.html)\n",
        "\n",
        "A boxplot works with medians and quartiles, like this:\n",
        "\n",
        "```\n",
        "     Q1-1.5IQR   Q1   median  Q3   Q3+1.5IQR\n",
        "                  |-----:-----|\n",
        "  o      |--------|     :     |--------|    o  o\n",
        "                  |-----:-----|\n",
        "flier             <----------->            fliers\n",
        "                       IQR\n",
        "```\n",
        "\n",
        "(ASCII art courtesy of pyplot documentation)\n",
        "\n",
        "Let's compare the distribution of immigrants coming from the first 10 countries in the dataframe.\n"
      ],
      "metadata": {
        "id": "eACRRbYsSc6J"
      }
    },
    {
      "cell_type": "code",
      "source": [
        "countries = df_canada.index[0:10]\n",
        "df_10 = df_canada.loc[countries, years]\n",
        "\n",
        "plt.boxplot(df_10)"
      ],
      "metadata": {
        "id": "kgVMBWF1TCvL"
      },
      "execution_count": null,
      "outputs": []
    },
    {
      "cell_type": "markdown",
      "source": [
        "---\n",
        "\n",
        "# ASSIGNMENT! Boxplot\n",
        "\n",
        "Improve the appearance of the above box plot by:\n",
        "\n",
        "* making it horizontal instead of vertical\n",
        "* add the names of the countries\n",
        "* change the symbol for the outliers (named \"fliers\" in pyplot lingo) to something else of your liking\n",
        "\n",
        "---"
      ],
      "metadata": {
        "id": "P0mwQFXQVhvD"
      }
    },
    {
      "cell_type": "code",
      "source": [
        "# your solution here\n",
        "plt.figure(figsize=(15, 8))\n",
        "a = plt.boxplot(df_10, labels = countries, vert=False, sym='+')"
      ],
      "metadata": {
        "id": "IiESQ4i-U4gb"
      },
      "execution_count": null,
      "outputs": []
    },
    {
      "cell_type": "markdown",
      "source": [
        "# Subplots\n",
        "\n",
        "It is often necessary to collate side by side different plots. That's where subplots come into play. The [subplot()](https://matplotlib.org/stable/api/_as_gen/matplotlib.pyplot.subplot.html) function\n",
        "splits the existing figure into a rectangular grid, and selects a piece of the grid as target for the successive graphical calls.\n",
        "\n",
        "You will need to specify the number of rows, columns, and active cell (counting by rows)."
      ],
      "metadata": {
        "id": "lMtB5SRPlDW2"
      }
    },
    {
      "cell_type": "code",
      "source": [
        "#create a plot\n",
        "plt.figure(figsize = (18, 8))\n",
        "\n",
        "#first subplot\n",
        "plt.subplot(1, 2, 1) #rows, columns, current subplot\n",
        "plt.plot(df_canada.loc['Italy', years])\n",
        "plt.title('Italy')\n",
        "\n",
        "#second subplot\n",
        "plt.subplot(1, 2, 2) #rows, columns, current subplot\n",
        "plt.plot(df_canada.loc['France', years])\n",
        "plt.title('France')"
      ],
      "metadata": {
        "id": "E7S_kFpboV_2"
      },
      "execution_count": null,
      "outputs": []
    },
    {
      "cell_type": "markdown",
      "source": [
        "It's possible to mix and match different grids. Just be sure to avoid overlapping subplots."
      ],
      "metadata": {
        "id": "nNpfM8PhsMCi"
      }
    },
    {
      "cell_type": "code",
      "source": [
        "#create a plot\n",
        "plt.figure(figsize = (18, 8))\n",
        "\n",
        "#first subplot\n",
        "#  +---+---+\n",
        "#  | x |   |\n",
        "#  +---+---+\n",
        "plt.subplot(1, 2, 1) #rows, columns, current subplot\n",
        "plt.plot(df_canada.loc['China', years])\n",
        "plt.title('China')\n",
        "\n",
        "#second subplot\n",
        "#  +---+---+\n",
        "#  |   | x |\n",
        "#  +---+---+\n",
        "#  |   |   |\n",
        "#  +---+---+\n",
        "plt.subplot(2, 2, 2) #rows, columns, current subplot\n",
        "plt.plot(df_canada.loc['Italy', years])\n",
        "plt.title('Italy')\n",
        "\n",
        "#third subplot\n",
        "#  +---+---+\n",
        "#  |   |   |\n",
        "#  +---+---+\n",
        "#  |   | x |\n",
        "#  +---+---+\n",
        "plt.subplot(2, 2, 4) #rows, columns, current subplot\n",
        "plt.plot(df_canada.loc['France', years])\n",
        "plt.title('France')"
      ],
      "metadata": {
        "id": "HQTppkqcoz66"
      },
      "execution_count": null,
      "outputs": []
    },
    {
      "cell_type": "markdown",
      "source": [
        "# Missing\n",
        "\n",
        "Stuff that you may want to investigate:\n",
        "\n",
        "* color definition (RGB...)\n",
        "* axis ticks (major and minor, symbol, position...)\n",
        "* axis labels (font size, formatting...)\n",
        "* axis transformation (flipping x and y, log scale...)\n",
        "* spines (the border of the plot) and background"
      ],
      "metadata": {
        "id": "GvEbi_fpu7iX"
      }
    },
    {
      "cell_type": "code",
      "source": [],
      "metadata": {
        "id": "WbZWGYjtv0Vb"
      },
      "execution_count": null,
      "outputs": []
    }
  ]
}