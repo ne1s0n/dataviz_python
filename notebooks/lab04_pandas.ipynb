{
  "nbformat": 4,
  "nbformat_minor": 0,
  "metadata": {
    "colab": {
      "provenance": [],
      "collapsed_sections": [
        "tEne2BaaEPKu",
        "W6w5GPzjNwkC",
        "MVzFjouB5lvN",
        "5pU47b-X7dN7"
      ],
      "toc_visible": true
    },
    "kernelspec": {
      "name": "python3",
      "display_name": "Python 3"
    },
    "language_info": {
      "name": "python"
    }
  },
  "cells": [
    {
      "cell_type": "markdown",
      "source": [
        "# Introduction to pandas\n",
        "\n",
        "Python module to work with tabular data (multidimensional), in the form of mainly **dataframes**. For extra tutorials [see here](https://pandas.pydata.org/pandas-docs/stable/getting_started/tutorials.html).\n",
        "\n",
        "We start by loading the module and create a first dataframe filled with random values:\n"
      ],
      "metadata": {
        "id": "tEne2BaaEPKu"
      }
    },
    {
      "cell_type": "code",
      "execution_count": null,
      "metadata": {
        "id": "C6QFq306DfwG"
      },
      "outputs": [],
      "source": [
        "import numpy as np\n",
        "import pandas as pd\n",
        "\n",
        "df = pd.DataFrame(np.random.randn(8, 4), columns=['A', 'B', 'C', 'D'])\n",
        "df"
      ]
    },
    {
      "cell_type": "markdown",
      "source": [
        "A direct print results in a less formatted output:"
      ],
      "metadata": {
        "id": "nvBYr5S_M63u"
      }
    },
    {
      "cell_type": "code",
      "source": [
        "print(df)"
      ],
      "metadata": {
        "id": "9rNfG-VFEbxK"
      },
      "execution_count": null,
      "outputs": []
    },
    {
      "cell_type": "markdown",
      "source": [
        "With the dataframe attribute ``.dtypes`` we can get the data type of each column in a Pandas dataframe:"
      ],
      "metadata": {
        "id": "aLcI_QtbNI0h"
      }
    },
    {
      "cell_type": "code",
      "source": [
        "df.dtypes"
      ],
      "metadata": {
        "id": "aoJeQ8W3NG9j"
      },
      "execution_count": null,
      "outputs": []
    },
    {
      "cell_type": "markdown",
      "source": [
        "The dataframe method `head()` will show the first few rows of the dataframe; the attribute `.columns` returns the column names."
      ],
      "metadata": {
        "id": "YRcmLrR5NQfz"
      }
    },
    {
      "cell_type": "code",
      "source": [
        "df.head()"
      ],
      "metadata": {
        "id": "HuVR7TigNMTG"
      },
      "execution_count": null,
      "outputs": []
    },
    {
      "cell_type": "code",
      "source": [
        "df.columns"
      ],
      "metadata": {
        "id": "MwjYULoJNX5P"
      },
      "execution_count": null,
      "outputs": []
    },
    {
      "cell_type": "markdown",
      "source": [
        "With the method `to_numpy()` we convert a dataframe to an array; then we can slice it as we already saw for numpy arrays"
      ],
      "metadata": {
        "id": "3zIBlNm0Nlul"
      }
    },
    {
      "cell_type": "code",
      "source": [
        "arr = df.to_numpy()\n",
        "print(arr)"
      ],
      "metadata": {
        "id": "NliAYAgyNamH"
      },
      "execution_count": null,
      "outputs": []
    },
    {
      "cell_type": "code",
      "source": [
        "arr[:,1] ## get second column"
      ],
      "metadata": {
        "id": "tf2u8-gKNoFF"
      },
      "execution_count": null,
      "outputs": []
    },
    {
      "cell_type": "markdown",
      "source": [
        "It is possible to create a data frame from a standard python dictionary, or from another dataframe"
      ],
      "metadata": {
        "id": "MbN4M1PNVSUU"
      }
    },
    {
      "cell_type": "code",
      "source": [
        "my_dict = {\n",
        "    'name' : ['Annah', 'Giorgia', 'Luca'],\n",
        "    'surname' : ['Montana', 'Smoth', 'Guerri'],\n",
        "    'age' : [12, 20, 88]\n",
        "}\n",
        "df_from_dict = pd.DataFrame(my_dict)\n",
        "\n",
        "df_from_dict"
      ],
      "metadata": {
        "id": "-s_F6dyDVdOR"
      },
      "execution_count": null,
      "outputs": []
    },
    {
      "cell_type": "code",
      "source": [
        "df_from_df = pd.DataFrame(df_from_dict)\n",
        "df_from_df"
      ],
      "metadata": {
        "id": "EJyGGb8IV7D5"
      },
      "execution_count": null,
      "outputs": []
    },
    {
      "cell_type": "markdown",
      "source": [
        "# Slicing, in several ways\n",
        "\n",
        "You can also slice directly the Pandas dataframe:\n",
        "\n",
        "1. by column name"
      ],
      "metadata": {
        "id": "W6w5GPzjNwkC"
      }
    },
    {
      "cell_type": "code",
      "source": [
        "df['A']"
      ],
      "metadata": {
        "id": "aIOcEVGoNpVC"
      },
      "execution_count": null,
      "outputs": []
    },
    {
      "cell_type": "markdown",
      "source": [
        "2. by slicing by rows"
      ],
      "metadata": {
        "id": "Fg6jVQ9bN1Op"
      }
    },
    {
      "cell_type": "code",
      "source": [
        "df[0:2]"
      ],
      "metadata": {
        "id": "_uh30AKqN3qp"
      },
      "execution_count": null,
      "outputs": []
    },
    {
      "cell_type": "markdown",
      "source": [
        "3a. by column names using the `.loc` syntax"
      ],
      "metadata": {
        "id": "tV3mHbpdN6i1"
      }
    },
    {
      "cell_type": "code",
      "source": [
        "print(df.loc[0:3, :])\n",
        "df.loc[:, ['B','C']]"
      ],
      "metadata": {
        "id": "WA8ZNuPkN6Lo"
      },
      "execution_count": null,
      "outputs": []
    },
    {
      "cell_type": "markdown",
      "source": [
        "3b. by row names using the `.loc` syntax (passing through an index)\n",
        "\n",
        "(see the doc for [.set_index()](https://pandas.pydata.org/pandas-docs/stable/reference/api/pandas.DataFrame.set_index.html) method for more details on setting indexes)"
      ],
      "metadata": {
        "id": "GtQ1p3vSOyTh"
      }
    },
    {
      "cell_type": "code",
      "source": [
        "#adding a new column\n",
        "df['Fruits'] = ['Apple', 'Banana', 'Coconut', 'Date', 'Elderberry', 'Fig', 'Grape', 'Juniper']\n",
        "\n",
        "#setting the column as new index\n",
        "df = df.set_index('Fruits')\n",
        "\n",
        "#taking a look\n",
        "df"
      ],
      "metadata": {
        "id": "jFy2sARUOC00"
      },
      "execution_count": null,
      "outputs": []
    },
    {
      "cell_type": "code",
      "source": [
        "#extracting two rows\n",
        "df.loc[['Apple', 'Banana'], :]"
      ],
      "metadata": {
        "id": "I4ZuetpdOgcG"
      },
      "execution_count": null,
      "outputs": []
    },
    {
      "cell_type": "markdown",
      "source": [
        "4. by position using the `.iloc` syntax (this is similar to numpy slicing)"
      ],
      "metadata": {
        "id": "lw9XKpcuQ3BB"
      }
    },
    {
      "cell_type": "code",
      "source": [
        "df.iloc[0:2,2:4]"
      ],
      "metadata": {
        "id": "53szLSaTQzBj"
      },
      "execution_count": null,
      "outputs": []
    },
    {
      "cell_type": "markdown",
      "source": [
        "# Reading from a text file\n",
        "\n",
        "It is possible to read a Pandas dataframe directly from a .csv file, either local or accessible from the web. We'll use the function [read_csv()](https://pandas.pydata.org/pandas-docs/stable/reference/api/pandas.read_csv.html) which in its simplest form looks like this:"
      ],
      "metadata": {
        "id": "zDgpcX4J0iEL"
      }
    },
    {
      "cell_type": "code",
      "source": [
        "FILE_URL = 'https://raw.githubusercontent.com/ne1s0n/dataviz_python/main/resources/planets.csv'\n",
        "planets = pd.read_csv(FILE_URL)\n",
        "\n",
        "planets"
      ],
      "metadata": {
        "id": "jrxbtgXz1Tp-"
      },
      "execution_count": null,
      "outputs": []
    },
    {
      "cell_type": "markdown",
      "source": [
        "Taking a look at the types we can discover a few interesting things. What happened to Rotation and Axis tilt?"
      ],
      "metadata": {
        "id": "C5AFXnFJ7Fjd"
      }
    },
    {
      "cell_type": "code",
      "source": [
        "planets.dtypes"
      ],
      "metadata": {
        "id": "Si52niGn5MPk"
      },
      "execution_count": null,
      "outputs": []
    },
    {
      "cell_type": "markdown",
      "source": [
        "---\n",
        "\n",
        "# ASSIGNMENT (reading csv)\n",
        "\n",
        "Take a look at the documentation for [read_csv()](https://pandas.pydata.org/pandas-docs/stable/reference/api/pandas.read_csv.html) to read the data again, but this time you'll need to: \n",
        "\n",
        "* specify that the column with the names of the planets needs to be used as index, so that we can then invoke something like `planets.loc['Venus', :]` \n",
        "* find a way to not read the last line, since Pluto is not a planet anymore :(\n",
        "\n",
        "---"
      ],
      "metadata": {
        "id": "MVzFjouB5lvN"
      }
    },
    {
      "cell_type": "code",
      "source": [
        "# your solution here"
      ],
      "metadata": {
        "id": "7--o0kzb6UQR"
      },
      "execution_count": null,
      "outputs": []
    },
    {
      "cell_type": "markdown",
      "source": [
        "## What about other formats?\n",
        "\n",
        "There's several options, depending if you need to read:\n",
        "\n",
        "* spreadsheet (excel, openoffice): use [read_excel()](https://pandas.pydata.org/pandas-docs/stable/reference/api/pandas.read_excel.html)\n",
        "* xml: use [read_xml()](https://pandas.pydata.org/pandas-docs/stable/reference/api/pandas.read_xml.html)\n",
        "* json (java script object notation): use [read_json()](https://pandas.pydata.org/pandas-docs/stable/reference/api/pandas.read_json.html)\n",
        "* text, but fixed width: use [read_fwf()](https://pandas.pydata.org/pandas-docs/stable/reference/api/pandas.read_fwf.html)\n",
        "* ... and many more\n",
        "\n",
        "In general pandas is very well suited to import table-like pieces of data, so before writing your own import function take a look at what's available."
      ],
      "metadata": {
        "id": "5pU47b-X7dN7"
      }
    },
    {
      "cell_type": "markdown",
      "source": [
        "# Doing statistics on dataframes\n",
        "\n",
        "A large number of methods compute descriptive statistics on dataframe. Most of these are aggregations like [sum()](https://pandas.pydata.org/pandas-docs/stable/reference/api/pandas.DataFrame.sum.html), [mean()](https://pandas.pydata.org/pandas-docs/stable/reference/api/pandas.DataFrame.mean.html), but some of them, like [cumsum()](https://pandas.pydata.org/pandas-docs/stable/reference/api/pandas.DataFrame.cumsum.html), produce an object of the same size. \n",
        "\n",
        "Generally speaking, these methods take an axis argument, easily specified by an integer (axis=0 makes the operation go along the rows, axis=1 along the columns and so forth)."
      ],
      "metadata": {
        "id": "nNDPHheW0eX2"
      }
    },
    {
      "cell_type": "code",
      "source": [
        "# a dataframe of random integers\n",
        "df = pd.DataFrame(np.random.randint(100, size = (10, 4)), columns=['A', 'B', 'C', 'D'])\n",
        "df"
      ],
      "metadata": {
        "id": "NVmXgz7yQ5_t"
      },
      "execution_count": null,
      "outputs": []
    },
    {
      "cell_type": "code",
      "source": [
        "#mean - default is by column\n",
        "df.mean()"
      ],
      "metadata": {
        "id": "ryZjr9PbXXnv"
      },
      "execution_count": null,
      "outputs": []
    },
    {
      "cell_type": "code",
      "source": [
        "#mean - specifying by row\n",
        "df.mean(axis = 1)"
      ],
      "metadata": {
        "id": "owMTuFovXsao"
      },
      "execution_count": null,
      "outputs": []
    },
    {
      "cell_type": "code",
      "source": [
        "#can you guess what happens here?\n",
        "df.mean(axis = 2)"
      ],
      "metadata": {
        "id": "GthsA7awX-FT"
      },
      "execution_count": null,
      "outputs": []
    },
    {
      "cell_type": "code",
      "source": [
        "#cumulative sum along the default axis\n",
        "df.cumsum()"
      ],
      "metadata": {
        "id": "vcQzELQ3Yvwi"
      },
      "execution_count": null,
      "outputs": []
    },
    {
      "cell_type": "markdown",
      "source": [
        "--- \n",
        "\n",
        "# ASSIGNMENT! (pandas replacement)\n",
        "\n",
        "* create a pandas dataframe with 5 rows, 15 columns, and filled with random numbers between 1 and 10\n",
        "* search the Pandas dataframe documentation for a method to replace all values equal to 8 with the number 888\n",
        "\n",
        "---"
      ],
      "metadata": {
        "id": "j8aCOhXlZtOO"
      }
    },
    {
      "cell_type": "code",
      "source": [
        "# your solution here"
      ],
      "metadata": {
        "id": "BZ_ObhmFYxZ0"
      },
      "execution_count": null,
      "outputs": []
    },
    {
      "cell_type": "markdown",
      "source": [
        "# Grouping\n",
        "\n",
        "A very important pattern of operations when working with dataframes is grouping, also called \"split-apply-combine\". The idea is to split the dataframe rows depending on some value of the columns, and then apply some statistics operation on it. An example will clarify."
      ],
      "metadata": {
        "id": "0whhSmgIbgLM"
      }
    },
    {
      "cell_type": "code",
      "source": [
        "#the planets example\n",
        "FILE_URL = 'https://raw.githubusercontent.com/ne1s0n/dataviz_python/main/resources/planets.csv'\n",
        "planets = pd.read_csv(FILE_URL)\n",
        "\n",
        "#focusing on just two columns, for simplicity\n",
        "my_df = planets[['Type', 'Mass (x ME)' , 'Diameter (km)']]\n",
        "\n",
        "#group by Type, compute the average of everything else\n",
        "my_df.groupby('Type').mean()"
      ],
      "metadata": {
        "id": "yKYY8dQga0sJ"
      },
      "execution_count": null,
      "outputs": []
    },
    {
      "cell_type": "markdown",
      "source": [
        "The last command did several things:\n",
        "\n",
        "* it split the dataframe in two groups using the values of the column \"Type\"\n",
        "* it computed the required function (`.mean()`) on the split dataframe\n",
        "* it recreated the index using the grouping column\n",
        "* it returned a new dataframe. Notice that the original one is untouched\n",
        "\n",
        "We could have avoided using the small `my_df` dataframe with a slightly more complex command:"
      ],
      "metadata": {
        "id": "oXsPTI-GdC1K"
      }
    },
    {
      "cell_type": "code",
      "source": [
        "#can you guess what's going on?\n",
        "planets.groupby('Type')[['Mass (x ME)', 'Diameter (km)']].mean().reset_index()"
      ],
      "metadata": {
        "id": "j1nB368fb-rR"
      },
      "execution_count": null,
      "outputs": []
    },
    {
      "cell_type": "markdown",
      "source": [
        "It's possible to easily group by more than one column:"
      ],
      "metadata": {
        "id": "Y280ECO3hM6N"
      }
    },
    {
      "cell_type": "code",
      "source": [
        "planets.groupby(['Type', 'Discovered'])[['Mass (x ME)', 'Diameter (km)']].mean().reset_index()"
      ],
      "metadata": {
        "id": "oXqeoiQDeE0E"
      },
      "execution_count": null,
      "outputs": []
    },
    {
      "cell_type": "markdown",
      "source": [
        "---\n",
        "\n",
        "# ASSIGNMENT! (dataframe aggregate)\n",
        "\n",
        "Count how many planets were discovered by babilonian astronomers using the `.groupby()` method\n",
        "\n",
        "---"
      ],
      "metadata": {
        "id": "f4PBOPVQhmmL"
      }
    },
    {
      "cell_type": "code",
      "source": [
        "#your solution here"
      ],
      "metadata": {
        "id": "6VwdYx0Uhceg"
      },
      "execution_count": null,
      "outputs": []
    },
    {
      "cell_type": "markdown",
      "source": [
        "# Out of the box descriptions\n",
        "\n",
        "There's a couple of functions that produce a quick description of a dataframe and can be useful to make sense of the data. They are [.info()](https://pandas.pydata.org/pandas-docs/stable/reference/api/pandas.DataFrame.info.html) and [.describe()](https://pandas.pydata.org/pandas-docs/stable/reference/api/pandas.DataFrame.describe.html)\n",
        "\n"
      ],
      "metadata": {
        "id": "7twkL9Cpiniu"
      }
    },
    {
      "cell_type": "code",
      "source": [
        "planets.info()"
      ],
      "metadata": {
        "id": "KHTyufv-iCrp"
      },
      "execution_count": null,
      "outputs": []
    },
    {
      "cell_type": "code",
      "source": [
        "#aren'ts we missing something?\n",
        "planets.describe()"
      ],
      "metadata": {
        "id": "lbFr1N_HjPK4"
      },
      "execution_count": null,
      "outputs": []
    }
  ]
}