{
  "nbformat": 4,
  "nbformat_minor": 0,
  "metadata": {
    "colab": {
      "provenance": [],
      "collapsed_sections": [],
      "toc_visible": true
    },
    "kernelspec": {
      "name": "python3",
      "display_name": "Python 3"
    },
    "language_info": {
      "name": "python"
    }
  },
  "cells": [
    {
      "cell_type": "markdown",
      "source": [
        "# Assignment\n",
        "\n",
        "Using matplotlib/pyplot, implement a function that receives a pandas dataframe with three columns (chromosome, position, pvalue) and draws a manhattan plot with a result similar to this:\n",
        "\n",
        "![manhattan](https://github.com/ne1s0n/dataviz_python/raw/main/resources/proj01_manhattan_target.png)\n",
        "\n",
        "\n",
        "\n"
      ],
      "metadata": {
        "id": "CbxyzhEUKTu3"
      }
    },
    {
      "cell_type": "markdown",
      "source": [
        "# Data\n",
        "\n",
        "It is provided a GWAS result dataset originally included with the [Plink](https://github.com/ShujiaHuang/qmplot/blob/main/tests/data/gwas_plink_result.tsv) software, which I saved in the course repo for extra security. The file is:\n",
        "\n",
        "* tab separated\n",
        "* without header\n",
        "* 9224 rows (one per SNP)\n",
        "* 12 columns:\n",
        "  * `\"CHROM\", \"POS\", \"ID\", \"REF\", \"ALT\", \"A1\", \"TEST\", \"OBS_CT\", \"BETA\", \"SE\", \"T_STAT\", \"P\"`\n",
        "* some rows have a missing value in the `P` column, and need to be removed (see [.dropna()](https://pandas.pydata.org/pandas-docs/stable/reference/api/pandas.DataFrame.dropna.html#pandas.DataFrame.dropna))\n",
        "\n",
        "You may need a refresh on the [pandas.read_csv()](https://pandas.pydata.org/pandas-docs/stable/reference/api/pandas.read_csv.html) function.\n",
        "\n",
        "The dataset is available at the following address:\n"
      ],
      "metadata": {
        "id": "upCfe1plLGfi"
      }
    },
    {
      "cell_type": "code",
      "execution_count": null,
      "metadata": {
        "id": "iVkIN23KKCNS"
      },
      "outputs": [],
      "source": [
        "GWAS_RESULTS_URL = 'https://github.com/ne1s0n/dataviz_python/raw/main/resources/gwas_plink_result_cleaned.tsv'"
      ]
    },
    {
      "cell_type": "markdown",
      "source": [
        "# Is there anybody NOT familiar with manhattan plots?\n",
        "\n",
        "Raise your hand!"
      ],
      "metadata": {
        "id": "zs_vQ-plKnb0"
      }
    },
    {
      "cell_type": "markdown",
      "source": [
        "# Existing solutions\n",
        "\n",
        "Many software solutions are already available to create manhattan plots with more options that we will ever able to implement. There's no doubt that if you *need* to do a manhattan plot it's better to not reinvent the wheel and use something stable and published. The whole point of this project is to do meaningful exercise, though, not to create a competitive tool. \n",
        "\n",
        "That said, you may want to take a look to:\n",
        "\n",
        "* [manhattan plots with bioinfokit](https://www.reneshbedre.com/blog/manhattan-plot.html), a bioinformatics-oriented package\n",
        "* [manhattan plots with plotly](https://plotly.com/python/manhattan-plot/), a generic visualization library with emphasis on interactivity\n",
        "* [manhattan plots with qmplot](https://pythonawesome.com/a-python-package-for-creating-high-quality-manhattan-and-q-q-plots-from-gwas-results/) : a dedicated package for creating high-quality manhattan and Q-Q plots from GWAS results "
      ],
      "metadata": {
        "id": "GsFfuFa1KXPY"
      }
    },
    {
      "cell_type": "markdown",
      "source": [
        "# That's it\n",
        "\n",
        "That's the assignment. Keep scrolling if you want to read and follow the subassignments (SA).\n",
        "\n",
        "<br><br><br><br><br><br>\n",
        "<br><br><br><br><br><br>\n",
        "<br><br><br><br><br><br>\n",
        "<br><br><br><br><br><br>\n",
        "<br><br><br><br><br><br>\n",
        "<br><br><br><br><br><br>\n",
        "<br><br><br><br><br><br>\n",
        "<br><br><br><br><br><br>\n",
        "<br><br><br><br><br><br>\n",
        "<br><br><br><br><br><br>\n",
        "<br><br><br><br><br><br>\n",
        "<br><br><br><br><br><br>\n",
        "<br><br><br><br><br><br>\n",
        "<br><br><br><br><br><br>\n",
        "<br><br><br><br><br><br>\n",
        "<br><br><br><br><br><br>"
      ],
      "metadata": {
        "id": "E76H-7mDqTZG"
      }
    },
    {
      "cell_type": "markdown",
      "source": [
        "# SA0) Read the data\n",
        "\n",
        "Read the data from the remote url saved in `GWAS_RESULTS_URL` variable, remembering that there's no file header but you should name the columns\n",
        "\n",
        "`\"CHROM\", \"POS\", \"ID\", \"REF\", \"ALT\", \"A1\", \"TEST\", \"OBS_CT\", \"BETA\", \"SE\", \"T_STAT\", \"P\"`\n",
        "\n",
        "Moreover remember to\n",
        "\n",
        "* remove lines with missing (`NA`) P values\n",
        "* compute -log10(p)"
      ],
      "metadata": {
        "id": "9Y6ZZgP7qxTj"
      }
    },
    {
      "cell_type": "code",
      "source": [
        "import pandas as pd\n",
        "import numpy as np\n",
        "\n",
        "colnames = [\"CHROM\", \"POS\", \"ID\", \"REF\", \"ALT\", \"A1\", \"TEST\", \"OBS_CT\", \"BETA\", \"SE\", \"T_STAT\", \"P\"]\n",
        "df = pd.read_csv(filepath_or_buffer = GWAS_RESULTS_URL, sep = '\\t', names = colnames)\n",
        "print(df.shape)\n",
        "df.dropna(inplace = True)\n",
        "print(df.shape)\n",
        "\n",
        "#computing the -log10(p)\n",
        "df['SCORE'] = -np.log10(df['P'])\n",
        "print(df.shape)\n",
        "\n",
        "\n",
        "df.head()"
      ],
      "metadata": {
        "id": "_ftuI5DOHqS3"
      },
      "execution_count": null,
      "outputs": []
    },
    {
      "cell_type": "markdown",
      "source": [
        "# SA1) A simpler problem: single chromosome manhattan plot \n",
        "\n",
        "At this point you should already be able to do a single chromosome plot."
      ],
      "metadata": {
        "id": "aoLchaQpKQla"
      }
    },
    {
      "cell_type": "code",
      "source": [
        "import matplotlib.pyplot as plt\n",
        "\n",
        "#focusing on chromosome 1\n",
        "df_ch1 = df[df['CHROM'] == 'chr01']\n",
        "\n",
        "plt.scatter(x = df_ch1['POS'], y=df_ch1['SCORE'])"
      ],
      "metadata": {
        "id": "y6HN0_yXIGl3"
      },
      "execution_count": null,
      "outputs": []
    },
    {
      "cell_type": "markdown",
      "source": [
        "# SA2) Sort the data by chromosome"
      ],
      "metadata": {
        "id": "sFz-UZp9Nk9m"
      }
    },
    {
      "cell_type": "code",
      "source": [
        "df.sort_values(by = 'CHROM', inplace = True)"
      ],
      "metadata": {
        "id": "_m6_uwLpNkbz"
      },
      "execution_count": null,
      "outputs": []
    },
    {
      "cell_type": "markdown",
      "source": [
        "# SA3) Compute the length of each chromosome\n",
        "\n",
        "This will certainly come handy. Put the values in a variable.\n",
        "\n"
      ],
      "metadata": {
        "id": "U-ze98PdMSv9"
      }
    },
    {
      "cell_type": "code",
      "source": [
        "chroms = df.groupby('CHROM')['POS'].max()\n",
        "print(chroms)"
      ],
      "metadata": {
        "id": "ndqh7ZExME7M"
      },
      "execution_count": null,
      "outputs": []
    },
    {
      "cell_type": "code",
      "source": [
        "chroms['chr01'] * 3"
      ],
      "metadata": {
        "id": "axTXAI76MzwJ"
      },
      "execution_count": null,
      "outputs": []
    }
  ]
}