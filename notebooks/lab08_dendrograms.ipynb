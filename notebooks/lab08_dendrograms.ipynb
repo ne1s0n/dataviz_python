{
  "nbformat": 4,
  "nbformat_minor": 0,
  "metadata": {
    "colab": {
      "provenance": [],
      "collapsed_sections": []
    },
    "kernelspec": {
      "name": "python3",
      "display_name": "Python 3"
    },
    "language_info": {
      "name": "python"
    }
  },
  "cells": [
    {
      "cell_type": "markdown",
      "source": [
        "# Trees and dendrograms"
      ],
      "metadata": {
        "id": "GWNASq13k_fN"
      }
    },
    {
      "cell_type": "markdown",
      "source": [
        "## An example: the tree of life\n",
        "\n",
        "<img src=\"https://raw.githubusercontent.com/ne1s0n/dataviz_python/main/resources/Phylogenetic%20tree%20of%20life.svg\" width=\"800\">\n",
        "\n",
        "Source: [LUCA on wikipedia](https://raw.githubusercontent.com/ne1s0n/dataviz_python/main/resources/Phylogenetic%20tree%20of%20life.svg)\n",
        "<br>\n",
        "\n",
        "\n"
      ],
      "metadata": {
        "id": "SNiugJhReu7d"
      }
    },
    {
      "cell_type": "markdown",
      "source": [
        "## What other people is doing\n",
        "\n",
        "<img src=\"https://github.com/ne1s0n/dataviz_python/raw/main/resources/dendro_screenshot.png\" width = \"1000\">"
      ],
      "metadata": {
        "id": "DxB29jV0imiu"
      }
    },
    {
      "cell_type": "markdown",
      "source": [
        "# Problem: the data/plot separation\n",
        "\n",
        "Dendrograms are not simple graphs, and the kind of information to be plotted is complex, since it describe a hierarchy between groups (in fact dendrogram are typically used to represent results from [hierarchical clustering](https://en.wikipedia.org/wiki/Hierarchical_clustering) analyses).\n",
        "\n",
        "This complicates a lot the topic, so much so that's difficul to achieve a good separation between the tool used to create the data and the tools used to plot the data. This means that you will have a hard time to apply our usual approach of \"*load the numbers into a dataframe and then plot everything*\".\n",
        "\n",
        "In practical terms, the simplest solutions are achieved when the same tool that computes the dedrogram is also used for plotting. We'll see two solutions of this kind.\n"
      ],
      "metadata": {
        "id": "LHdb9AU4lV6q"
      }
    },
    {
      "cell_type": "markdown",
      "source": [
        "# Dendrograms with scipy\n",
        "\n",
        "[Scipy](https://scipy.org/) is a library that provides:\n",
        "\n",
        "> Fundamental algorithms for scientific computing in Python: optimization, integration, interpolation, eigenvalue problems, algebraic equations, differential equations, statistics and many other classes of problems \n",
        "\n",
        "(from Scipy homepage)\n",
        "\n"
      ],
      "metadata": {
        "id": "bwb2gVMbm9HK"
      }
    },
    {
      "cell_type": "markdown",
      "source": [
        "# Libraries \n",
        "\n",
        "All the libraries we are going to use in this lab"
      ],
      "metadata": {
        "id": "zY0jJITX8Ct4"
      }
    },
    {
      "cell_type": "code",
      "source": [
        "# Libraries\n",
        "import pandas as pd\n",
        "from matplotlib import pyplot as plt\n",
        "import numpy as np\n",
        "from scipy.cluster.hierarchy import dendrogram, linkage"
      ],
      "metadata": {
        "id": "CXhRJ9sbJfDe"
      },
      "execution_count": null,
      "outputs": []
    },
    {
      "cell_type": "markdown",
      "source": [
        "# A note of scipy version"
      ],
      "metadata": {
        "id": "mSPPdsBucsup"
      }
    },
    {
      "cell_type": "code",
      "source": [
        "import scipy\n",
        "print(scipy.__version__)"
      ],
      "metadata": {
        "id": "JoSrLBWScwJA"
      },
      "execution_count": null,
      "outputs": []
    },
    {
      "cell_type": "markdown",
      "source": [
        "Just keep that in mind when reading the documentation"
      ],
      "metadata": {
        "id": "T1fKURz5dzBI"
      }
    },
    {
      "cell_type": "markdown",
      "source": [
        "# Data \n",
        "\n",
        "Import the Canada dataset and keep only years (numeric) variables.\n"
      ],
      "metadata": {
        "id": "VdRQzq6u748w"
      }
    },
    {
      "cell_type": "code",
      "execution_count": null,
      "metadata": {
        "id": "AQX_8AC3JRQi"
      },
      "outputs": [],
      "source": [
        "#reading the data in\n",
        "df_canada = pd.read_excel(\n",
        "    'https://github.com/ne1s0n/dataviz_python/raw/main/resources/Canada.xlsx',\n",
        "    sheet_name = 'Canada by Citizenship',  #the file contains three sheets\n",
        "    skiprows = range(20), #skip the first twenty rows\n",
        "    skipfooter = 2        #skip the last two rows\n",
        ")\n",
        "\n",
        "#renaming a column\n",
        "df_canada.rename(columns = {'OdName':'Country'}, inplace = True)\n",
        "\n",
        "#using Country as index\n",
        "df_canada.set_index('Country', inplace = True)\n",
        "\n",
        "\n",
        "#selectors for years only and for the first 30 countries to keep the plots small\n",
        "years = df_canada.columns[8:42]\n",
        "countries = df_canada.index[0:30]\n",
        "\n",
        "#putting aside the continent column, we'll use it later\n",
        "continents = df_canada.loc[countries, 'AreaName']\n",
        "\n",
        "#subsetting the dataframe\n",
        "df_canada = df_canada.loc[countries, years]\n",
        "\n",
        "#let's check the result\n",
        "print(df_canada.shape)\n",
        "df_canada.head()"
      ]
    },
    {
      "cell_type": "markdown",
      "source": [
        "# Distance matrix, hierarchical clustering\n",
        "\n",
        "Hierarchical clustering is an iterative process that starts from the original `N` observations and groups them in clusters, two at a time.\n",
        "\n",
        "Let's comment an example of hierarchical clustering\n",
        "\n",
        "<img src=\"https://raw.githubusercontent.com/ne1s0n/dataviz_python/main/resources/UPGMA_Dendrogram_Hierarchical.svg\" width = 600>\n",
        "\n",
        "By definition we see that the number of defined cluster is `N-1`, with `N` being the number of original observations.\n",
        "\n",
        "To properly define the result of a hierarchical clustering we'll need the following pieces of data for each cluster:\n",
        "\n",
        "* the two constituents, either original observations or other clusters\n",
        "* the \"distance\" between the two constituents\n",
        "* the total number of samples (this is not strictly required but for sure it's handy)\n",
        "\n",
        "So we would expect the result to be a `(N-1)x4` matrix. This is not a casual choice, since it's exactly what's returned by [scipy.cluster.hierarchy.linkage()](https://docs.scipy.org/doc/scipy/reference/generated/scipy.cluster.hierarchy.linkage.html) function, which we are going to use in few moments.\n",
        "\n",
        "One key tool used in the clustering process is the concept of \"distance matrix\":\n",
        "\n",
        "> If observations were N cities, a distance matrix would be a NxN symmetrical matrix reporting on each cell (i, j) the actual distance in Km between city i and city j\n",
        "\n",
        "There are several ways of computing a distance matrix, depending on the distance function you adopt. The geographical example above would use the [Euclidean distance](https://en.wikipedia.org/wiki/Euclidean_distance) (ignoring Earth's curvature). Scipy supports many, many distances, as you can see in the documentation for funtion [`pdist()`](https://docs.scipy.org/doc/scipy/reference/generated/scipy.spatial.distance.pdist.html) (here \"p\" stands for paired).\n",
        "\n",
        "A distance it's easily understood between observations. What about between clusters? There are several strategies (called `method`s in scipy lingo). Suppose that you are trying to compute the distance between cluster A and cluster B, knowing that cluster A is made putting together X and Y (being clusters or original observations). You may chose:\n",
        "\n",
        "* `method=’single’` (aka \"nearest point algorithm\") : the distance is defined as the **minimum** distance between any points of cluster A and cluster B\n",
        "* `method=’complete’` (aks Farthest Point Algorithm or Voor Hees Algorithm) : the distance is defined as the **maximum** distance between any points of cluster A and cluster B\n",
        "* `method=’average’` : average distance between all possible pairing\n",
        "* `method=’weighted’` (aka WPGMA) : given that `(X+Y) -> A` and we are trying to calculate `(A+B)`, you can distribute the operation and take the average `d(A, B) = [d(X, B) + d(Y, B)] / 2`\n",
        "* `method=’centroid’` (aka UPGMC) : for each cluster you compute a \"centroid\", i.e. a new phantom entry that becomes representative for the cluster. You then use directly the centroid for distances. When putting together two clusters all elements are joined and a new centroid is recomputed\n",
        "* `method=’median’` (aka WPGMC) : as above, but when joining clusters the new centroid is the average of the previous two centroids \n",
        "* `method=’ward’` (aka incremental algorithm) : it's [complicated](https://en.wikipedia.org/wiki/Ward%27s_method). Also usually creates compact, even-sized clusters, hence its popularity"
      ],
      "metadata": {
        "id": "qVa8HhaQ8NBT"
      }
    },
    {
      "cell_type": "code",
      "source": [
        "# compute the linkage matrix\n",
        "Z = linkage(df_canada, method='ward', metric='euclidean')"
      ],
      "metadata": {
        "id": "LRhmKtkI8Uq4"
      },
      "execution_count": null,
      "outputs": []
    },
    {
      "cell_type": "code",
      "source": [
        "#can you guess what it will print?\n",
        "Z.shape"
      ],
      "metadata": {
        "id": "j3Gj2bwL7qby"
      },
      "execution_count": null,
      "outputs": []
    },
    {
      "cell_type": "markdown",
      "source": [
        "Once we obtained the linkage matrix `Z` its just a matter of creating the plot using Scipy [`dendrogram()`](https://docs.scipy.org/doc/scipy/reference/generated/scipy.cluster.hierarchy.dendrogram.html?highlight=dendrogram) function. "
      ],
      "metadata": {
        "id": "-tdn6ls4L4Pl"
      }
    },
    {
      "cell_type": "code",
      "source": [
        "# Plot title\n",
        "plt.title('Hierarchical Clustering Dendrogram')\n",
        "\n",
        "# Plot axis labels\n",
        "plt.xlabel('Countries')\n",
        "plt.ylabel('distance (Euclidean + Ward)')\n",
        "\n",
        "# Make the dendrogram\n",
        "dendrogram(Z, labels=df_canada.index, leaf_rotation=90);"
      ],
      "metadata": {
        "id": "9iexdYZE8cFm"
      },
      "execution_count": null,
      "outputs": []
    },
    {
      "cell_type": "markdown",
      "source": [
        "# Aesthetics"
      ],
      "metadata": {
        "id": "Irno5xPrM71s"
      }
    },
    {
      "cell_type": "markdown",
      "source": [
        "## Horizontal, bigger plot"
      ],
      "metadata": {
        "id": "g_vqp_HjM8p6"
      }
    },
    {
      "cell_type": "code",
      "source": [
        "plt.figure(figsize = (14, 8))\n",
        "dendrogram(Z, labels=df_canada.index, orientation = 'right');"
      ],
      "metadata": {
        "id": "fg_a8y_eNBMp"
      },
      "execution_count": null,
      "outputs": []
    },
    {
      "cell_type": "markdown",
      "source": [
        "## Threshold line\n",
        "\n",
        "A common feature for dendrograms analysis. We impose a threshold and the clusters above it will have the same color.\n",
        "\n",
        "We can also add a line using the same threshold with regular pyplot, just to have a visual reference."
      ],
      "metadata": {
        "id": "VCfq6dfGZI1M"
      }
    },
    {
      "cell_type": "code",
      "source": [
        "my_threshold = 5000\n",
        "\n",
        "plt.figure(figsize = (14, 8))\n",
        "dendrogram(Z, labels=df_canada.index, orientation = 'right',  color_threshold=my_threshold);\n",
        "plt.axvline(x=my_threshold, c='grey', lw=1, linestyle='dashed')"
      ],
      "metadata": {
        "id": "ZmVwyp1AMYRr"
      },
      "execution_count": null,
      "outputs": []
    },
    {
      "cell_type": "markdown",
      "source": [
        "## Custom colors\n",
        "\n",
        "Cluster colors are set up using the dedicated function [`set_link_color_palette()`](https://docs.scipy.org/doc/scipy/reference/generated/scipy.cluster.hierarchy.set_link_color_palette.html)\n",
        "\n",
        "The \"above threshold\" color has its own parameter in the `dendrogram()` call."
      ],
      "metadata": {
        "id": "wSjNRjFwPjHp"
      }
    },
    {
      "cell_type": "code",
      "source": [
        "from scipy.cluster.hierarchy import set_link_color_palette\n",
        "\n",
        "my_threshold = 5000\n",
        "\n",
        "plt.figure(figsize = (14, 8))\n",
        "set_link_color_palette(['#FF00FF','#FFFF00', '#00FFFF'])\n",
        "dendrogram(Z, labels=df_canada.index, orientation = 'right',  \n",
        "           color_threshold=my_threshold,\n",
        "           above_threshold_color='grey');\n",
        "plt.axvline(x=my_threshold, c='grey', lw=1, linestyle='dashed')\n",
        "\n",
        " "
      ],
      "metadata": {
        "id": "ybZ57l0HPqoP"
      },
      "execution_count": null,
      "outputs": []
    },
    {
      "cell_type": "markdown",
      "source": [
        "---\n",
        "\n",
        "# ASSIGNMENT! Custom dendrogram\n",
        "\n",
        "Test a different distance/method and compare the results.\n",
        "\n",
        "Also, there's too many levels! Find a way to limit the number of clustering levels to three.\n",
        "\n",
        "---"
      ],
      "metadata": {
        "id": "JqL0ouoNQ83X"
      }
    },
    {
      "cell_type": "code",
      "source": [
        "# Your solution here"
      ],
      "metadata": {
        "id": "aJloEnlkTwz-"
      },
      "execution_count": null,
      "outputs": []
    },
    {
      "cell_type": "markdown",
      "source": [
        "# An alternative: Seaborn's clustermap\n",
        "\n",
        "We have seen that Seaborn is able to plot heatmaps, i.e. a color coding of tabular (wide) data. The library also allows to add dendrograms to rows and columns, to show the relationship between variables.\n",
        "\n"
      ],
      "metadata": {
        "id": "NHokArOxX29q"
      }
    },
    {
      "cell_type": "code",
      "source": [
        "from seaborn import clustermap\n",
        "clustermap(df_canada)"
      ],
      "metadata": {
        "id": "y5qMK5V50N9z"
      },
      "execution_count": null,
      "outputs": []
    },
    {
      "cell_type": "markdown",
      "source": [
        "The default options has:\n",
        "\n",
        "* dendrograms (and reordering) on both columns and rows\n",
        "* method='average'\n",
        "* metric='euclidean'"
      ],
      "metadata": {
        "id": "VHARsY0F0qV_"
      }
    },
    {
      "cell_type": "markdown",
      "source": [
        "---\n",
        "\n",
        "# ASSIGNMENT! Better clustermap\n",
        "\n",
        "We want to improve Seaborn's clustermap on two aspects:\n",
        "\n",
        "1. use the same Ward algorithm we used with Scipy and then check that the results are coherent\n",
        "2. remove clustering for columns\n",
        "3. add a small column color-coded that reports the continent to which each country belongs\n",
        "\n",
        "For your convenience we already saved variable `continents`, and for colors you may use the following dictionary:\n",
        "\n",
        "```\n",
        "mycolors = {\n",
        "    'Africa' : 'green',\n",
        "    'Asia' : 'red',\n",
        "    'Europe' : 'blue',\n",
        "    'Latin America and the Caribbean' : 'purple',\n",
        "    'Oceania' : 'orange'\n",
        "}\n",
        "```\n",
        "\n",
        "You need to find the correct parameter in ['clustermap()'](https://seaborn.pydata.org/generated/seaborn.clustermap.html) function and understand how to use the dictionary.\n",
        "\n",
        "---"
      ],
      "metadata": {
        "id": "X0f21dIN5Tgb"
      }
    },
    {
      "cell_type": "code",
      "source": [
        "# Your solution here"
      ],
      "metadata": {
        "id": "ZJgY_jIX2ezI"
      },
      "execution_count": null,
      "outputs": []
    }
  ]
}