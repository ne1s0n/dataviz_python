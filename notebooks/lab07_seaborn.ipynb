{
  "nbformat": 4,
  "nbformat_minor": 0,
  "metadata": {
    "colab": {
      "provenance": [],
      "collapsed_sections": [],
      "toc_visible": true
    },
    "kernelspec": {
      "name": "python3",
      "display_name": "Python 3"
    },
    "language_info": {
      "name": "python"
    }
  },
  "cells": [
    {
      "cell_type": "markdown",
      "source": [
        "# Intro to Seaborn\n",
        "\n",
        "> Seaborn is a Python data visualization library based on matplotlib. It provides a high-level interface for drawing attractive and informative statistical graphics.\n",
        "\n",
        "(from [Seaborn homepage](https://seaborn.pydata.org/))\n",
        "\n",
        "Seaborn makes (usually) very easy the task of creating clean and visually appealing plots. It supports themes and tries to relieve the user from needing to worry about many details. \n",
        "\n",
        "For reference, keep in mind the official material:\n",
        "\n",
        "* [seaborn website](https://seaborn.pydata.org/)\n",
        "* [example gallery](https://seaborn.pydata.org/examples/index.html)\n",
        "* [tutorials](https://seaborn.pydata.org/tutorial.html)\n"
      ],
      "metadata": {
        "id": "DGtjRCacST-0"
      }
    },
    {
      "cell_type": "markdown",
      "source": [
        "# If Seaborn is so cool, why we study pyplot?\n",
        "\n",
        "Let's discuss pros and cons."
      ],
      "metadata": {
        "id": "Pqb6stXSQkBh"
      }
    },
    {
      "cell_type": "markdown",
      "source": [
        "# Setup"
      ],
      "metadata": {
        "id": "su08tB8kST-G"
      }
    },
    {
      "cell_type": "code",
      "execution_count": null,
      "metadata": {
        "id": "OBBVo0kblRrN"
      },
      "outputs": [],
      "source": [
        "#default Colab seaborn is a lagging a bit behind...\n",
        "!pip install seaborn>=0.12.0\n",
        "\n",
        "#the standard seaborn import\n",
        "import seaborn as sns\n",
        "print(sns.__version__)\n",
        "\n",
        "#other stuff that we'll use for sure\n",
        "import matplotlib.pyplot as plt\n",
        "import numpy as np\n",
        "import pandas as pd"
      ]
    },
    {
      "cell_type": "markdown",
      "source": [
        "# Data\n",
        "\n",
        "We are going to use again the Canada immigration dataset, as seen with pyplot."
      ],
      "metadata": {
        "id": "EWvHPnY0y-ol"
      }
    },
    {
      "cell_type": "code",
      "source": [
        "#reading the data in\n",
        "df_canada = pd.read_excel(\n",
        "    'https://github.com/ne1s0n/dataviz_python/raw/main/resources/Canada.xlsx',\n",
        "    sheet_name = 'Canada by Citizenship',  #the file contains three sheets\n",
        "    skiprows = range(20), #skip the first twenty rows\n",
        "    skipfooter = 2        #skip the last two rows\n",
        ")\n",
        "\n",
        "#renaming a column\n",
        "df_canada.rename(columns = {'OdName':'Country'}, inplace = True)\n",
        "\n",
        "#using Country as index\n",
        "df_canada.set_index('Country', inplace = True)\n",
        "\n",
        "#a handy variable to select years\n",
        "years = df_canada.columns[8:42]\n",
        "\n",
        "#adding a \"Total\" column\n",
        "df_canada['Total'] = df_canada.loc[:, years].sum(axis=1)\n",
        "\n",
        "#let's check the result\n",
        "print(df_canada.shape)\n",
        "df_canada.head()"
      ],
      "metadata": {
        "id": "toeqhwVEj2lA"
      },
      "execution_count": null,
      "outputs": []
    },
    {
      "cell_type": "markdown",
      "source": [
        "# Wide vs. long data format\n",
        "\n",
        "Seaborn and many other graphical libraries prefer data in long format. \n",
        "With reference to our immigration datas, we would have\n",
        "\n",
        "**WIDE FORMAT**\n",
        "\n",
        "| Country      | 1980  | 1981  | 1982  |  1983 | \n",
        "|--------------|------:|------:|------:|------:|\n",
        "| Italy        |   1   |     2 |     3 |     4 |\n",
        "| France       |   5   |     6 |     7 |     8 |\n",
        "| Spain        |   9   |    10 |    11 |    12 |\n",
        "\n",
        "\n",
        "**LONG FORMAT**\n",
        "\n",
        "| Country      | Year  | Immigrants |\n",
        "|--------------|------:|------:|\n",
        "| Italy        | 1980  |     1 |\n",
        "| Italy        | 1981  |     2 |\n",
        "| Italy        | 1982  |     3 |\n",
        "| Italy        | 1983  |     4 |\n",
        "| France       | 1980  |     5 |\n",
        "| France       | 1981  |     6 |\n",
        "| France       | 1982  |     7 |\n",
        "| France       | 1983  |     8 |\n",
        "| Spain        | 1980  |     9 |\n",
        "| Spain        | 1981  |    10 |\n",
        "| Spain        | 1982  |    11 |\n",
        "| Spain        | 1983  |    12 |\n",
        "\n",
        "This is easily obtained using method [melt()](https://pandas.pydata.org/pandas-docs/stable/reference/api/pandas.DataFrame.melt.html) from Pandas dataframes."
      ],
      "metadata": {
        "id": "_rweO8cd15Nz"
      }
    },
    {
      "cell_type": "code",
      "source": [
        "#selecting interesting columns\n",
        "df_canada.loc[:, years].head()"
      ],
      "metadata": {
        "id": "VfzZ7OGg2X0W"
      },
      "execution_count": null,
      "outputs": []
    },
    {
      "cell_type": "code",
      "source": [
        "#putting back the index as a regular column\n",
        "df_canada.loc[:, years].reset_index().head()"
      ],
      "metadata": {
        "id": "93A2qgLZbo3M"
      },
      "execution_count": null,
      "outputs": []
    },
    {
      "cell_type": "code",
      "source": [
        "#melting\n",
        "df_canada.loc[:, years].reset_index().melt(id_vars = 'Country').head()"
      ],
      "metadata": {
        "id": "TSqf5JJybfJr"
      },
      "execution_count": null,
      "outputs": []
    },
    {
      "cell_type": "code",
      "source": [
        "#melting using more meaningful column names\n",
        "df_canada_long = df_canada.loc[:, years].reset_index().melt(id_vars = 'Country', var_name='Year', value_name='Immigrants')\n",
        "df_canada_long.head()"
      ],
      "metadata": {
        "id": "Oa019BRnbY5k"
      },
      "execution_count": null,
      "outputs": []
    },
    {
      "cell_type": "code",
      "source": [
        "df_canada_long.shape"
      ],
      "metadata": {
        "id": "OzmvoqWecP4H"
      },
      "execution_count": null,
      "outputs": []
    },
    {
      "cell_type": "markdown",
      "source": [
        "# Quick example: barplot\n",
        "\n",
        "We'll redo a barplot with the number of immigrants from three countries (to select them check the [.isin()](https://pandas.pydata.org/pandas-docs/stable/reference/api/pandas.DataFrame.isin.html) method in Pandas dataframes. The corresponding Seaborn function is called, unsurprisingly, [barplot()](https://seaborn.pydata.org/generated/seaborn.barplot.html)\n",
        "\n",
        "We'll pass three arguments:\n",
        "\n",
        "* data: the full dataframe\n",
        "* x: name of the column to be used for X axis\n",
        "* y: name of the column to be used for Y axis"
      ],
      "metadata": {
        "id": "j7s1W-is0DVr"
      }
    },
    {
      "cell_type": "code",
      "source": [
        "#limiting to three countries instead of two hundreds...\n",
        "countries = ['Italy', 'France', 'Spain']\n",
        "small_df = df_canada_long[df_canada_long['Country'].isin(countries)]\n",
        "\n",
        "sns.barplot(x = 'Country', y = 'Immigrants', data = small_df)\n",
        "\n",
        "if False:\n",
        "  #alternative coding\n",
        "  tmp = df_canada_long[df_canada_long['Country'].isin(countries)]\n",
        "  sns.barplot(x = small_df['Country'], y = small_df['Immigrants'])"
      ],
      "metadata": {
        "id": "vTS08qmoztze"
      },
      "execution_count": null,
      "outputs": []
    },
    {
      "cell_type": "markdown",
      "source": [
        "Notice the 95% confidence interval. The shown values (\"estimators\") are just the mean values.\n",
        "\n",
        "Let's change the color."
      ],
      "metadata": {
        "id": "3s5ZsyWwz_Lj"
      }
    },
    {
      "cell_type": "code",
      "source": [
        "#fixed color\n",
        "sns.barplot(x = 'Country', y = 'Immigrants', data = small_df, color = 'red')"
      ],
      "metadata": {
        "id": "DxOi-rF41JN1"
      },
      "execution_count": null,
      "outputs": []
    },
    {
      "cell_type": "markdown",
      "source": [
        "Using [palettes](https://seaborn.pydata.org/tutorial/color_palettes.html)"
      ],
      "metadata": {
        "id": "_zqmMV211dXo"
      }
    },
    {
      "cell_type": "code",
      "source": [
        "sns.barplot(x = 'Country', y = 'Immigrants', data = small_df, palette = 'mako')"
      ],
      "metadata": {
        "id": "ZOAMZa6M1Z6j"
      },
      "execution_count": null,
      "outputs": []
    },
    {
      "cell_type": "markdown",
      "source": [
        "Grouping using the `hue` parameter."
      ],
      "metadata": {
        "id": "AoJ-cj1A37MX"
      }
    },
    {
      "cell_type": "code",
      "source": [
        "plt.figure(figsize = (20, 5))\n",
        "sns.barplot(x = 'Year', y = 'Immigrants', hue = 'Country', data = small_df)"
      ],
      "metadata": {
        "id": "kG1seEvc36JW"
      },
      "execution_count": null,
      "outputs": []
    },
    {
      "cell_type": "markdown",
      "source": [
        "--- \n",
        "\n",
        "# ASSIGNMENT! Customize the barplot\n",
        "\n",
        "Redo the three columns, aggretate barplot, but make it:\n",
        "\n",
        "* horizontal\n",
        "* with a different palette\n",
        "* showing the max instead of the mean\n",
        "\n",
        "---"
      ],
      "metadata": {
        "id": "Xrhl3A0ov51C"
      }
    },
    {
      "cell_type": "code",
      "source": [
        "#your solution here"
      ],
      "metadata": {
        "id": "bf1dD0HPv-uX"
      },
      "execution_count": null,
      "outputs": []
    },
    {
      "cell_type": "markdown",
      "source": [
        "# Styling a plot\n",
        "\n",
        "Seaborn offers several ways to change the plot appearance. Many are directly inherited from pyplot, so it's going to be easy."
      ],
      "metadata": {
        "id": "SXsuxJW1Bqd2"
      }
    },
    {
      "cell_type": "markdown",
      "source": [
        "## Title, axis labels, figure size\n",
        "\n",
        "This is straightforward from pyplot. "
      ],
      "metadata": {
        "id": "AiKh9poanc8V"
      }
    },
    {
      "cell_type": "code",
      "source": [
        "plt.figure(figsize = (10, 5))\n",
        "sns.barplot(x = 'Country', y = 'Immigrants', data = small_df)\n",
        "plt.title('My very complex plot')\n",
        "plt.xlabel('Countries in this plot')\n",
        "plt.ylabel('People immigrated to Canada')"
      ],
      "metadata": {
        "id": "9s7PZHzS7RZM"
      },
      "execution_count": null,
      "outputs": []
    },
    {
      "cell_type": "markdown",
      "source": [
        "## Themes\n",
        "\n",
        "Seaborn has a set of predefined themes, configurable via [`.set_style()`](https://seaborn.pydata.org/generated/seaborn.set_style.html)\n",
        "\n",
        "See also [Seaborn's tutorial](https://seaborn.pydata.org/tutorial/aesthetics.html) on how to control figure aesthetics in general terms."
      ],
      "metadata": {
        "id": "4E26TUxjnVY6"
      }
    },
    {
      "cell_type": "code",
      "source": [
        "#the supported themes\n",
        "themes = [\"whitegrid\", \"darkgrid\", \"white\", \"dark\", \"ticks\"]\n",
        "\n",
        "#testing all of them, one at a time\n",
        "for current_theme in themes:\n",
        "  sns.set_style(current_theme)\n",
        "  sns.barplot(x = 'Country', y = 'Immigrants', data = small_df)\n",
        "  plt.title(current_theme)\n",
        "  #this is needed, otherwise jupyter would only show the last one\n",
        "  plt.show()"
      ],
      "metadata": {
        "id": "fUguvxqFvzoq"
      },
      "execution_count": null,
      "outputs": []
    },
    {
      "cell_type": "markdown",
      "source": [
        "## Multiple charts\n",
        "\n",
        "It is always possible to treat seaborn plots as pyplot subplots:"
      ],
      "metadata": {
        "id": "rl54kCKdniY4"
      }
    },
    {
      "cell_type": "code",
      "source": [
        "plt.figure(figsize = (12, 5))\n",
        "\n",
        "plt.subplot(1, 2, 1)\n",
        "sns.barplot(x = 'Country', y = 'Immigrants', data = small_df)\n",
        "plt.title('First subplot')\n",
        "\n",
        "plt.subplot(1, 2, 2)\n",
        "sns.barplot(x = 'Country', y = 'Immigrants', data = small_df)\n",
        "plt.title('Second subplot')"
      ],
      "metadata": {
        "id": "EBsL3CbyRug2"
      },
      "execution_count": null,
      "outputs": []
    },
    {
      "cell_type": "markdown",
      "source": [
        "However, a number of Seaborn function support \"faceting\", meaning that they will automatically create subplot based on the values of a (discrete) variable. When that's the case the function will support a `col` parameter. Here \"col\" stands for columns, not color. \n",
        "\n",
        "An easy example comes from function [`.relplot()`](https://seaborn.pydata.org/generated/seaborn.relplot.html)\n"
      ],
      "metadata": {
        "id": "jNAeUziOSKZH"
      }
    },
    {
      "cell_type": "code",
      "source": [
        "sns.relplot(data = small_df, x = 'Year', y = 'Immigrants', col = 'Country')"
      ],
      "metadata": {
        "id": "TpkDihCC79ZK"
      },
      "execution_count": null,
      "outputs": []
    },
    {
      "cell_type": "markdown",
      "source": [
        "Each specific subplot can support multiple series, as usual, via the `hue` parameter."
      ],
      "metadata": {
        "id": "b4BjkrZ4StDe"
      }
    },
    {
      "cell_type": "code",
      "source": [
        "#producing a dataset with two levels hierarchy of series\n",
        "#can you guess the final content/shape of variable tmp?\n",
        "tmp = df_canada.groupby(['AreaName', 'RegName']).sum()\n",
        "tmp = tmp.loc[:, years].reset_index().melt(id_vars = ['AreaName', 'RegName'], var_name='Year', value_name='Immigrants')\n",
        "\n",
        "#col commands number of panels\n",
        "#hue commands number of lines\n",
        "sns.relplot(data = tmp, x = 'Year', y = 'Immigrants', col = 'AreaName', hue = 'RegName', col_wrap = 3, kind = 'line')"
      ],
      "metadata": {
        "id": "VYHICxwD85ko"
      },
      "execution_count": null,
      "outputs": []
    },
    {
      "cell_type": "markdown",
      "source": [
        "## Adding notes to the plots\n",
        "\n",
        "Again, this is done using pyplot. The main function for custom notes is [`.annotate()`](https://matplotlib.org/stable/api/_as_gen/matplotlib.pyplot.annotate.html). See also the annotation [tutorial](https://matplotlib.org/stable/tutorials/text/annotations.html#plotting-guide-annotation) for boxes, labels and other decorations.\n"
      ],
      "metadata": {
        "id": "Ast6WZpCo2Uv"
      }
    },
    {
      "cell_type": "code",
      "source": [
        "sns.barplot(x = 'Country', y = 'Immigrants', data = small_df)\n",
        "plt.annotate('A simple note', xy = (1, 3000))\n",
        "plt.annotate('A note with\\nan arrow', xy = (1, 600), xytext = (1.5, 1500), \n",
        "              arrowprops=dict(facecolor='black', shrink=0.05),\n",
        "              horizontalalignment='center', verticalalignment='top'\n",
        "             )"
      ],
      "metadata": {
        "id": "3B1t_Fgseb9m"
      },
      "execution_count": null,
      "outputs": []
    },
    {
      "cell_type": "markdown",
      "source": [
        "# A gallery of interesting plots\n",
        "\n",
        "Mostly stuff that it's hard to do in basic pyplot"
      ],
      "metadata": {
        "id": "5oKUAf3P17Cj"
      }
    },
    {
      "cell_type": "markdown",
      "source": [
        "## Countplot\n",
        "\n",
        "Show the counts of observations in each categorical bin using bars. See [countplot()](https://seaborn.pydata.org/generated/seaborn.countplot.html) function"
      ],
      "metadata": {
        "id": "h8jE0oE92TfK"
      }
    },
    {
      "cell_type": "code",
      "source": [
        "#vertical\n",
        "plt.figure(figsize = (15, 5))\n",
        "sns.countplot(data = df_canada, x = 'AreaName')"
      ],
      "metadata": {
        "id": "FR0-KP-R11hn"
      },
      "execution_count": null,
      "outputs": []
    },
    {
      "cell_type": "code",
      "source": [
        "#horizontal\n",
        "plt.figure(figsize = (15, 5))\n",
        "sns.countplot(data = df_canada, y = 'AreaName')"
      ],
      "metadata": {
        "id": "HONM19kg2mQL"
      },
      "execution_count": null,
      "outputs": []
    },
    {
      "cell_type": "markdown",
      "source": [
        "## Plotting distributions\n",
        "\n",
        "We are going to use [`histplot()`](https://seaborn.pydata.org/generated/seaborn.histplot.html) and NOT `distplot()` (deprecated, but you still find tutorials online with it)."
      ],
      "metadata": {
        "id": "bespouMy4Hm3"
      }
    },
    {
      "cell_type": "code",
      "source": [
        "sns.histplot(data = small_df[small_df['Country'] == 'Italy'], x='Immigrants', kde = True)"
      ],
      "metadata": {
        "id": "opQwxx6J3qnj"
      },
      "execution_count": null,
      "outputs": []
    },
    {
      "cell_type": "code",
      "source": [
        "plt.figure(figsize = (15, 8))\n",
        "sns.histplot(data = small_df, x='Immigrants', hue = 'Country', multiple = 'dodge', shrink = 0.8)"
      ],
      "metadata": {
        "id": "ccshmxV64Uu3"
      },
      "execution_count": null,
      "outputs": []
    },
    {
      "cell_type": "markdown",
      "source": [
        "## Heatmaps\n",
        "\n",
        "Heatmaps are color coded matrix-like data. The function is [`.heatmap()`](https://seaborn.pydata.org/generated/seaborn.heatmap.html)\n",
        "\n",
        "We use data in the wide format, since it's already matrix-like.*italicized text*"
      ],
      "metadata": {
        "id": "p5FCTxlc0Zzu"
      }
    },
    {
      "cell_type": "code",
      "source": [
        "#twenty countries to keep everythin manageable\n",
        "cnt_20 = df_canada.index[0:20]\n",
        "\n",
        "plt.figure(figsize = (15, 10))\n",
        "sns.heatmap(df_canada.loc[cnt_20, years])"
      ],
      "metadata": {
        "id": "ZEI9Q-C75KmL"
      },
      "execution_count": null,
      "outputs": []
    },
    {
      "cell_type": "markdown",
      "source": [
        "For small heatmaps you can anotate the actual values."
      ],
      "metadata": {
        "id": "fJAIarWn27Mh"
      }
    },
    {
      "cell_type": "code",
      "source": [
        "#four countries, 5 years\n",
        "cnt_4 = df_canada.index[0:4]\n",
        "years_5 = years[0:5]\n",
        "\n",
        "plt.figure(figsize = (15, 10))\n",
        "sns.heatmap(df_canada.loc[cnt_4, years_5], annot = True)"
      ],
      "metadata": {
        "id": "qEDzkS2I1nL0"
      },
      "execution_count": null,
      "outputs": []
    },
    {
      "cell_type": "markdown",
      "source": [
        "## Line regression plot\n",
        "\n",
        "This is usually a scatter plot (which would be obtained using the [`.scatterplot()`](https://seaborn.pydata.org/generated/seaborn.scatterplot.html) function) upon which is imprinted a linear regression, with or without confidence intervals. It's obtained usin the [`.lmplot()`](https://seaborn.pydata.org/generated/seaborn.lmplot.html) (here lm stands for linear model).\n",
        "\n",
        "To do this kind of plot both X and Y variables must be numeric (it doesn't make sense to do a regression otherwise). In so far the `Year` column is considered as strings, but it can actually be easily converted to integer numbers. We do that in a copy of the dataframe to keep the original data format."
      ],
      "metadata": {
        "id": "eXlKLuVo3hYF"
      }
    },
    {
      "cell_type": "code",
      "source": [
        "#copy data and convert year to int\n",
        "tmp = small_df\n",
        "tmp = tmp.astype({\"Year\": int})\n",
        "\n",
        "sns.lmplot(data = tmp, x='Year', y='Immigrants', hue = 'Country')"
      ],
      "metadata": {
        "id": "rM4jsTCg3UAx"
      },
      "execution_count": null,
      "outputs": []
    },
    {
      "cell_type": "markdown",
      "source": [
        "We can raise the order of the fitter polynomial. Here we fit paraboles:"
      ],
      "metadata": {
        "id": "vHtp5UJb9mGS"
      }
    },
    {
      "cell_type": "code",
      "source": [
        "sns.lmplot(data = tmp, x='Year', y='Immigrants', hue = 'Country', order = 2)"
      ],
      "metadata": {
        "id": "d87KphUe40Hu"
      },
      "execution_count": null,
      "outputs": []
    },
    {
      "cell_type": "markdown",
      "source": [
        "## Violin plot\n",
        "\n",
        "A violin plot combines a box plot and a kernel density estimate. They can easily become very beautiful piece of graphic and as easily become hard to interpret. The seaborn function to use is called\n",
        "[`.violinplot()`](https://seaborn.pydata.org/generated/seaborn.violinplot.html)"
      ],
      "metadata": {
        "id": "z7nqKWkm-LAC"
      }
    },
    {
      "cell_type": "code",
      "source": [
        "sns.violinplot(data = small_df, x='Country', y='Immigrants')"
      ],
      "metadata": {
        "id": "FIkGvoGJ5QLS"
      },
      "execution_count": null,
      "outputs": []
    },
    {
      "cell_type": "markdown",
      "source": [
        "Let' go to a different choice of countries, something that would allow us to appreciate better the plot."
      ],
      "metadata": {
        "id": "6majLMB4BFcS"
      }
    },
    {
      "cell_type": "code",
      "source": [
        "countries = ['China', 'India']\n",
        "tmp = df_canada_long[df_canada_long['Country'].isin(countries)]\n",
        "\n",
        "sns.violinplot(data = tmp, x='Country', y='Immigrants')"
      ],
      "metadata": {
        "id": "tBR6Lf4r-vrE"
      },
      "execution_count": null,
      "outputs": []
    },
    {
      "cell_type": "markdown",
      "source": [
        "It doesn't make sense to have negative immigrants, let's limit to the actual recorded values. Moreove, let's get rid of the internal boxplot and put the true observations there."
      ],
      "metadata": {
        "id": "bY_42FBkAYpy"
      }
    },
    {
      "cell_type": "code",
      "source": [
        "sns.violinplot(data = tmp, x='Country', y='Immigrants', cut = True, inner = 'point')"
      ],
      "metadata": {
        "id": "WTJVu1Es_Ost"
      },
      "execution_count": null,
      "outputs": []
    },
    {
      "cell_type": "markdown",
      "source": [
        "## Pairplot\n",
        "\n",
        "Quick and powerful tool to do exploratory data analysis on a set of variables. It will show univariate distribution and bivariate scatterplots. It's obtained using the function [`pairplot()`](https://seaborn.pydata.org/generated/seaborn.pairplot.html)"
      ],
      "metadata": {
        "id": "50cCUdAqDG8m"
      }
    },
    {
      "cell_type": "code",
      "source": [
        "countries = ['Italy', 'France', 'Spain', 'China', 'India']\n",
        "sns.pairplot(df_canada.loc[countries, years].transpose())"
      ],
      "metadata": {
        "id": "H9VD4QArSqXu"
      },
      "execution_count": null,
      "outputs": []
    },
    {
      "cell_type": "markdown",
      "source": [
        "Beware of your data shape! `pairplot()` works with wide-format and consider each *column* as a variable. Moreover, it will create a number of subplot that goes with the **square** of the number of variables. \n",
        "\n",
        "In the code above if we didn't traspose and we just ran:\n",
        "\n",
        "```\n",
        "sns.pairplot(df_canada.loc[countries, years])\n",
        "```\n",
        "\n",
        "it would have created a year vs. year pairplot, so 34 x 34 = 1156 subplots!"
      ],
      "metadata": {
        "id": "AHDVqdkbVtPL"
      }
    },
    {
      "cell_type": "markdown",
      "source": [
        "## Jointplot\n",
        "\n",
        "A more specilized version of pairplot, [`jointplot()`](https://seaborn.pydata.org/generated/seaborn.jointplot.html) allows for an in-depth comparison of two variables."
      ],
      "metadata": {
        "id": "-Xl5ZTijDfPd"
      }
    },
    {
      "cell_type": "code",
      "source": [
        "sns.jointplot(data = df_canada.loc[:, years].transpose(), x = 'Italy', y = 'France')"
      ],
      "metadata": {
        "id": "hVypXyGclBmG"
      },
      "execution_count": null,
      "outputs": []
    },
    {
      "cell_type": "markdown",
      "source": [
        "Using KDE to extract level curves. \n",
        "\n",
        "If you are interested in this kind of plot there's also a [`kdeplot()`](https://seaborn.pydata.org/generated/seaborn.kdeplot.html) without the marginal distributions."
      ],
      "metadata": {
        "id": "o_PbRYQ0mlnh"
      }
    },
    {
      "cell_type": "code",
      "source": [
        "sns.jointplot(data = df_canada.loc[:, years].transpose(), x = 'Italy', y = 'France', kind = 'kde')"
      ],
      "metadata": {
        "id": "LTUu_oTYl_Ta"
      },
      "execution_count": null,
      "outputs": []
    },
    {
      "cell_type": "markdown",
      "source": [
        "--- \n",
        "\n",
        "# ASSIGNMENT! Analysis by year\n",
        "\n",
        "Investigate the distribution of immigrants to Canada for years 1980, 1990, 2000, 2010. Produce at least one plot showing all four selected years and one plot with two of them (you chose which one).\n",
        "\n",
        "---"
      ],
      "metadata": {
        "id": "AjWCusSN28Ps"
      }
    },
    {
      "cell_type": "code",
      "source": [
        "#your solution here"
      ],
      "metadata": {
        "id": "AuIA9tRs6ErG"
      },
      "execution_count": null,
      "outputs": []
    }
  ]
}