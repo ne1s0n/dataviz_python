{
  "nbformat": 4,
  "nbformat_minor": 0,
  "metadata": {
    "colab": {
      "provenance": [],
      "collapsed_sections": [],
      "toc_visible": true
    },
    "kernelspec": {
      "name": "python3",
      "display_name": "Python 3"
    },
    "language_info": {
      "name": "python"
    }
  },
  "cells": [
    {
      "cell_type": "markdown",
      "source": [
        "# Why matplotlib?\n",
        "\n",
        "* very robust, well documented, stable\n",
        "* many other graphical modules are built on matplotlib\n",
        "* wide codebase (examples, help, tutorials, Q&A...)\n",
        "* powerful - with a price\n",
        "* has [its own website](https://matplotlib.org/)"
      ],
      "metadata": {
        "id": "MwiUKqbE9tUC"
      }
    },
    {
      "cell_type": "markdown",
      "source": [
        "# A bit of history\n",
        "\n",
        "The library was first created by [John D. Hunter](https://en.wikipedia.org/wiki/John_D._Hunter) in early 2003 to elaborate electroencephalogram (EEG) data.\n",
        "\n",
        "It was based on the Scipy and Numpy frameworks. Originally, it was created as a patch to enable MATLAB style plotting in Python, since John's group had only one licence for the existing plotting library...\n",
        "\n",
        "John preferred to release the patch as a separate package known as matplotlib. More importantly, Matplotlib gained recognition when it was chosen as the plotting tool by the Space Telescope Science Institute ([STScI](http://www.stsci.edu/)). Since then the version is getting updated regularly.\n",
        "\n",
        "Learn more on matplotlib architecture and history [on aosabook.org](http://aosabook.org/en/matplotlib.html)"
      ],
      "metadata": {
        "id": "EC448BHPP4A-"
      }
    },
    {
      "cell_type": "markdown",
      "source": [
        "# Matplotlib architecture\n",
        "\n",
        "The library is built on a three-levels structure with growing levels of abstraction:\n",
        "\n",
        "![arch](https://github.com/ne1s0n/dataviz_python/raw/main/resources/matplotlib_architecture.png)\n",
        "\n",
        "(Image credits: [Toward data science](https://towardsdatascience.com/data-visualization-say-it-with-charts-in-python-138c77973a56))\n",
        "\n"
      ],
      "metadata": {
        "id": "jGQPu2-lBYyQ"
      }
    },
    {
      "cell_type": "markdown",
      "source": [
        "## Backend layer\n",
        "\n",
        "The backend layer is the lower level of abstraction, and is concerned with the actual \"physical\" act of drawing, being either coloring pixels on the screen using the correct hue or saving an image file with the correct values. In a parallel with natural language, this would be the syntactic level.\n",
        "\n",
        "In contains:\n",
        "\n",
        "* the figure canvas: the actual space where the figure is drawn\n",
        "* the rendered: an instance of an object (of class Rendered) which knows how to draw\n",
        "* the event layer: the set of functions that monitor user interaction\n",
        "\n",
        "Chances are you are never going to use it directly."
      ],
      "metadata": {
        "id": "JHXOjL_EDMJq"
      }
    },
    {
      "cell_type": "markdown",
      "source": [
        "## Artist layer\n",
        "\n",
        "This layer is about pieces of drawing that have their own identity: lines, rectangles, axis, text... In a parallel with natural language, this would be the semantic level.\n",
        "\n",
        "The core component it's a class called Artist. Anything that gets drawn is an Artist instance. An Artists object:\n",
        "\n",
        "* knows how to use the Rendered to draw on the Canvas\n",
        "* titles, lines, labels are all and each an Artist instance\n",
        "* can be *primitive* (line, rectangle, text...) or *composite* (axis, figure, stuff containing other stuff)\n",
        "* \"figure\" is the top level composite Artist and contains everything that gets drawn (i.e. all other artists)\n",
        "* the most important is the *axes* artist, not to be confused with the *axis*\n",
        "\n",
        "![axis_vs_axes](https://github.com/ne1s0n/dataviz_python/raw/main/resources/axis_vs_axes.png)\n",
        "\n",
        "For a more detailed breakdown of the elements of the artist layer, see:\n",
        "\n",
        "* [this other figure](https://github.com/ne1s0n/dataviz_python/raw/main/resources/matplotlib_anatomy.png)\n",
        "* matplotlib doc on [the anatomy of a figure](https://matplotlib.org/stable/tutorials/introductory/usage.html#parts-of-a-figure)\n",
        "* matplotlib doc on [how to use axes](https://matplotlib.org/stable/tutorials/introductory/usage.html#axes)\n"
      ],
      "metadata": {
        "id": "MDkLWsErP9Id"
      }
    },
    {
      "cell_type": "markdown",
      "source": [
        "## Scripting layer\n",
        "\n",
        "It's where all high-level library interfaces are defined. Here you'll find functions to do stuff like histograms, scatter plots, pie charts. In a parallel with natural language, this would be the discourse.\n",
        "\n",
        "For matplotlib this is essentially the [pyplot submodule](https://matplotlib.org/stable/api/pyplot_summary.html)."
      ],
      "metadata": {
        "id": "Feiz3BPQP-2g"
      }
    },
    {
      "cell_type": "markdown",
      "source": [
        "## Artist vs scripting\n",
        "\n",
        "We'll now briefly show some code to create an histogram in two different ways: using the Artist layer and using the Scripting layer. This is a good chance for discussing the differences."
      ],
      "metadata": {
        "id": "A2_hM3h1QCoK"
      }
    },
    {
      "cell_type": "code",
      "source": [
        "#ten thousands random numbers, so that we have something to plot\n",
        "import numpy as np\n",
        "x = np.random.randn(10000)\n",
        "\n",
        "#agg -> anti grain geometry, attractive plots, see https://matplotlib.org/stable/api/backend_agg_api.html\n",
        "from matplotlib.backends.backend_agg import FigureCanvasAgg as FigureCanvas #a canvas class\n",
        "from matplotlib.figure import Figure #an artist class\n",
        "\n",
        "#instantiate an artist and give it a figure to draw on\n",
        "fig = Figure()\n",
        "can = FigureCanvas(fig)\n",
        "\n",
        "#create an axes artist, add it to the Figure artist\n",
        "ax = fig.add_subplot(111)\n",
        "ax.hist(x, 100) #this creates a sequence of rectangle artists (one per bin) and\n",
        "                #add thems to the axes artist\n",
        "\n",
        "#decorating the figure with a title\n",
        "ax.set_title('My first histogram, $\\mu=0, \\sigma=1$')\n",
        "\n",
        "#showing it in the jupiter notebook\n",
        "fig.savefig('matplotlib_hist_using_artists.png')"
      ],
      "metadata": {
        "id": "nDxkWX8TP-ZZ"
      },
      "execution_count": null,
      "outputs": []
    },
    {
      "cell_type": "markdown",
      "source": [
        "The above code saved a .png image in the disk.\n",
        "\n",
        "Let's now use the scripting layer to plot the same thing."
      ],
      "metadata": {
        "id": "aI4LWiqlQxBg"
      }
    },
    {
      "cell_type": "code",
      "source": [
        "import matplotlib.pyplot as plt\n",
        "\n",
        "plt.hist(x, 100)\n",
        "plt.title('My first histogram, $\\mu=0, \\sigma=1$')\n",
        "plt.savefig('matplotlib_hist_using_pyplot.png')\n",
        "\n",
        "#implicit\n",
        "#plt.show()"
      ],
      "metadata": {
        "id": "w6-S8KPWQo6Y"
      },
      "execution_count": null,
      "outputs": []
    }
  ]
}