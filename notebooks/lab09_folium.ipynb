{
  "nbformat": 4,
  "nbformat_minor": 0,
  "metadata": {
    "colab": {
      "provenance": [],
      "collapsed_sections": [],
      "toc_visible": true
    },
    "kernelspec": {
      "name": "python3",
      "display_name": "Python 3"
    },
    "language_info": {
      "name": "python"
    }
  },
  "cells": [
    {
      "cell_type": "markdown",
      "source": [
        "# Folium\n",
        "\n",
        "\n",
        "\n",
        "> folium makes it easy to visualize data that’s been manipulated in Python on an interactive leaflet map. It enables both the binding of data to a map for choropleth visualizations as well as passing rich vector/raster/HTML visualizations as markers on the map.\n",
        "From [folium homepage](https://python-visualization.github.io/folium/)\n",
        "\n",
        "Folium is a python module that makes easy to produce maps, either static or with some light interactivity (zoom, panning, tooltips, ...)\n",
        "\n",
        "It leverages existing database of geographical data like [OpenStreetMap](https://www.openstreetmap.org) and [Stamen](maps.stamen.com/), and it's built on the [leaflet.js](https://leafletjs.com/) library for the basic map functionality. It's a bit like Seaborn being built on matplotlib, but for maps.\n",
        "\n",
        "If you are more interested in producing static images you may want to check out an alternative to Folium called [Cartopy](https://scitools.org.uk/cartopy/docs/latest/).\n",
        "\n"
      ],
      "metadata": {
        "id": "XgDNwkvaVOat"
      }
    },
    {
      "cell_type": "markdown",
      "source": [
        "# Basic maps with Folium\n",
        "\n",
        "Let's take a look at the default map"
      ],
      "metadata": {
        "id": "wxjZ6FHhi5JS"
      }
    },
    {
      "cell_type": "code",
      "source": [
        "import folium\n",
        "folium.__version__"
      ],
      "metadata": {
        "id": "nlxRnafUg_Xx",
        "colab": {
          "base_uri": "https://localhost:8080/",
          "height": 35
        },
        "outputId": "b078834b-4246-4ffe-d6df-6870a240c129"
      },
      "execution_count": 71,
      "outputs": [
        {
          "output_type": "execute_result",
          "data": {
            "text/plain": [
              "'0.12.1.post1'"
            ],
            "application/vnd.google.colaboratory.intrinsic+json": {
              "type": "string"
            }
          },
          "metadata": {},
          "execution_count": 71
        }
      ]
    },
    {
      "cell_type": "code",
      "source": [
        "map = folium.Map()\n",
        "map"
      ],
      "metadata": {
        "id": "ZmlRD--JhGsg",
        "colab": {
          "base_uri": "https://localhost:8080/",
          "height": 794
        },
        "outputId": "21c22767-5945-4314-cab0-e719498df195"
      },
      "execution_count": 72,
      "outputs": [
        {
          "output_type": "execute_result",
          "data": {
            "text/plain": [
              "<folium.folium.Map at 0x7f843d385950>"
            ],
            "text/html": [
              "<div style=\"width:100%;\"><div style=\"position:relative;width:100%;height:0;padding-bottom:60%;\"><span style=\"color:#565656\">Make this Notebook Trusted to load map: File -> Trust Notebook</span><iframe srcdoc=\"&lt;!DOCTYPE html&gt;\n",
              "&lt;head&gt;    \n",
              "    &lt;meta http-equiv=&quot;content-type&quot; content=&quot;text/html; charset=UTF-8&quot; /&gt;\n",
              "    \n",
              "        &lt;script&gt;\n",
              "            L_NO_TOUCH = false;\n",
              "            L_DISABLE_3D = false;\n",
              "        &lt;/script&gt;\n",
              "    \n",
              "    &lt;style&gt;html, body {width: 100%;height: 100%;margin: 0;padding: 0;}&lt;/style&gt;\n",
              "    &lt;style&gt;#map {position:absolute;top:0;bottom:0;right:0;left:0;}&lt;/style&gt;\n",
              "    &lt;script src=&quot;https://cdn.jsdelivr.net/npm/leaflet@1.6.0/dist/leaflet.js&quot;&gt;&lt;/script&gt;\n",
              "    &lt;script src=&quot;https://code.jquery.com/jquery-1.12.4.min.js&quot;&gt;&lt;/script&gt;\n",
              "    &lt;script src=&quot;https://maxcdn.bootstrapcdn.com/bootstrap/3.2.0/js/bootstrap.min.js&quot;&gt;&lt;/script&gt;\n",
              "    &lt;script src=&quot;https://cdnjs.cloudflare.com/ajax/libs/Leaflet.awesome-markers/2.0.2/leaflet.awesome-markers.js&quot;&gt;&lt;/script&gt;\n",
              "    &lt;link rel=&quot;stylesheet&quot; href=&quot;https://cdn.jsdelivr.net/npm/leaflet@1.6.0/dist/leaflet.css&quot;/&gt;\n",
              "    &lt;link rel=&quot;stylesheet&quot; href=&quot;https://maxcdn.bootstrapcdn.com/bootstrap/3.2.0/css/bootstrap.min.css&quot;/&gt;\n",
              "    &lt;link rel=&quot;stylesheet&quot; href=&quot;https://maxcdn.bootstrapcdn.com/bootstrap/3.2.0/css/bootstrap-theme.min.css&quot;/&gt;\n",
              "    &lt;link rel=&quot;stylesheet&quot; href=&quot;https://maxcdn.bootstrapcdn.com/font-awesome/4.6.3/css/font-awesome.min.css&quot;/&gt;\n",
              "    &lt;link rel=&quot;stylesheet&quot; href=&quot;https://cdnjs.cloudflare.com/ajax/libs/Leaflet.awesome-markers/2.0.2/leaflet.awesome-markers.css&quot;/&gt;\n",
              "    &lt;link rel=&quot;stylesheet&quot; href=&quot;https://cdn.jsdelivr.net/gh/python-visualization/folium/folium/templates/leaflet.awesome.rotate.min.css&quot;/&gt;\n",
              "    \n",
              "            &lt;meta name=&quot;viewport&quot; content=&quot;width=device-width,\n",
              "                initial-scale=1.0, maximum-scale=1.0, user-scalable=no&quot; /&gt;\n",
              "            &lt;style&gt;\n",
              "                #map_c20035baa41a117e55b83df2a2cbd6e5 {\n",
              "                    position: relative;\n",
              "                    width: 100.0%;\n",
              "                    height: 100.0%;\n",
              "                    left: 0.0%;\n",
              "                    top: 0.0%;\n",
              "                }\n",
              "            &lt;/style&gt;\n",
              "        \n",
              "&lt;/head&gt;\n",
              "&lt;body&gt;    \n",
              "    \n",
              "            &lt;div class=&quot;folium-map&quot; id=&quot;map_c20035baa41a117e55b83df2a2cbd6e5&quot; &gt;&lt;/div&gt;\n",
              "        \n",
              "&lt;/body&gt;\n",
              "&lt;script&gt;    \n",
              "    \n",
              "            var map_c20035baa41a117e55b83df2a2cbd6e5 = L.map(\n",
              "                &quot;map_c20035baa41a117e55b83df2a2cbd6e5&quot;,\n",
              "                {\n",
              "                    center: [0, 0],\n",
              "                    crs: L.CRS.EPSG3857,\n",
              "                    zoom: 1,\n",
              "                    zoomControl: true,\n",
              "                    preferCanvas: false,\n",
              "                }\n",
              "            );\n",
              "\n",
              "            \n",
              "\n",
              "        \n",
              "    \n",
              "            var tile_layer_d59cf95fe20ac3b4e5a081111ac07efd = L.tileLayer(\n",
              "                &quot;https://{s}.tile.openstreetmap.org/{z}/{x}/{y}.png&quot;,\n",
              "                {&quot;attribution&quot;: &quot;Data by \\u0026copy; \\u003ca href=\\&quot;http://openstreetmap.org\\&quot;\\u003eOpenStreetMap\\u003c/a\\u003e, under \\u003ca href=\\&quot;http://www.openstreetmap.org/copyright\\&quot;\\u003eODbL\\u003c/a\\u003e.&quot;, &quot;detectRetina&quot;: false, &quot;maxNativeZoom&quot;: 18, &quot;maxZoom&quot;: 18, &quot;minZoom&quot;: 0, &quot;noWrap&quot;: false, &quot;opacity&quot;: 1, &quot;subdomains&quot;: &quot;abc&quot;, &quot;tms&quot;: false}\n",
              "            ).addTo(map_c20035baa41a117e55b83df2a2cbd6e5);\n",
              "        \n",
              "&lt;/script&gt;\" style=\"position:absolute;width:100%;height:100%;left:0;top:0;border:none !important;\" allowfullscreen webkitallowfullscreen mozallowfullscreen></iframe></div></div>"
            ]
          },
          "metadata": {},
          "execution_count": 72
        }
      ]
    },
    {
      "cell_type": "markdown",
      "source": [
        "Setting initial location and zoom level"
      ],
      "metadata": {
        "id": "KRpkRGRohPPo"
      }
    },
    {
      "cell_type": "code",
      "source": [
        "map = folium.Map(\n",
        "    location = [45, 0],\n",
        "    zoom_start = 4\n",
        ")\n",
        "map"
      ],
      "metadata": {
        "id": "ApHKxIfShOlZ",
        "colab": {
          "base_uri": "https://localhost:8080/",
          "height": 794
        },
        "outputId": "bb9f7b17-e0bf-47c3-d568-ac6534c47f92"
      },
      "execution_count": 73,
      "outputs": [
        {
          "output_type": "execute_result",
          "data": {
            "text/plain": [
              "<folium.folium.Map at 0x7f843d30ce50>"
            ],
            "text/html": [
              "<div style=\"width:100%;\"><div style=\"position:relative;width:100%;height:0;padding-bottom:60%;\"><span style=\"color:#565656\">Make this Notebook Trusted to load map: File -> Trust Notebook</span><iframe srcdoc=\"&lt;!DOCTYPE html&gt;\n",
              "&lt;head&gt;    \n",
              "    &lt;meta http-equiv=&quot;content-type&quot; content=&quot;text/html; charset=UTF-8&quot; /&gt;\n",
              "    \n",
              "        &lt;script&gt;\n",
              "            L_NO_TOUCH = false;\n",
              "            L_DISABLE_3D = false;\n",
              "        &lt;/script&gt;\n",
              "    \n",
              "    &lt;style&gt;html, body {width: 100%;height: 100%;margin: 0;padding: 0;}&lt;/style&gt;\n",
              "    &lt;style&gt;#map {position:absolute;top:0;bottom:0;right:0;left:0;}&lt;/style&gt;\n",
              "    &lt;script src=&quot;https://cdn.jsdelivr.net/npm/leaflet@1.6.0/dist/leaflet.js&quot;&gt;&lt;/script&gt;\n",
              "    &lt;script src=&quot;https://code.jquery.com/jquery-1.12.4.min.js&quot;&gt;&lt;/script&gt;\n",
              "    &lt;script src=&quot;https://maxcdn.bootstrapcdn.com/bootstrap/3.2.0/js/bootstrap.min.js&quot;&gt;&lt;/script&gt;\n",
              "    &lt;script src=&quot;https://cdnjs.cloudflare.com/ajax/libs/Leaflet.awesome-markers/2.0.2/leaflet.awesome-markers.js&quot;&gt;&lt;/script&gt;\n",
              "    &lt;link rel=&quot;stylesheet&quot; href=&quot;https://cdn.jsdelivr.net/npm/leaflet@1.6.0/dist/leaflet.css&quot;/&gt;\n",
              "    &lt;link rel=&quot;stylesheet&quot; href=&quot;https://maxcdn.bootstrapcdn.com/bootstrap/3.2.0/css/bootstrap.min.css&quot;/&gt;\n",
              "    &lt;link rel=&quot;stylesheet&quot; href=&quot;https://maxcdn.bootstrapcdn.com/bootstrap/3.2.0/css/bootstrap-theme.min.css&quot;/&gt;\n",
              "    &lt;link rel=&quot;stylesheet&quot; href=&quot;https://maxcdn.bootstrapcdn.com/font-awesome/4.6.3/css/font-awesome.min.css&quot;/&gt;\n",
              "    &lt;link rel=&quot;stylesheet&quot; href=&quot;https://cdnjs.cloudflare.com/ajax/libs/Leaflet.awesome-markers/2.0.2/leaflet.awesome-markers.css&quot;/&gt;\n",
              "    &lt;link rel=&quot;stylesheet&quot; href=&quot;https://cdn.jsdelivr.net/gh/python-visualization/folium/folium/templates/leaflet.awesome.rotate.min.css&quot;/&gt;\n",
              "    \n",
              "            &lt;meta name=&quot;viewport&quot; content=&quot;width=device-width,\n",
              "                initial-scale=1.0, maximum-scale=1.0, user-scalable=no&quot; /&gt;\n",
              "            &lt;style&gt;\n",
              "                #map_20b1727e3bf8a209adff444d57a4429b {\n",
              "                    position: relative;\n",
              "                    width: 100.0%;\n",
              "                    height: 100.0%;\n",
              "                    left: 0.0%;\n",
              "                    top: 0.0%;\n",
              "                }\n",
              "            &lt;/style&gt;\n",
              "        \n",
              "&lt;/head&gt;\n",
              "&lt;body&gt;    \n",
              "    \n",
              "            &lt;div class=&quot;folium-map&quot; id=&quot;map_20b1727e3bf8a209adff444d57a4429b&quot; &gt;&lt;/div&gt;\n",
              "        \n",
              "&lt;/body&gt;\n",
              "&lt;script&gt;    \n",
              "    \n",
              "            var map_20b1727e3bf8a209adff444d57a4429b = L.map(\n",
              "                &quot;map_20b1727e3bf8a209adff444d57a4429b&quot;,\n",
              "                {\n",
              "                    center: [45.0, 0.0],\n",
              "                    crs: L.CRS.EPSG3857,\n",
              "                    zoom: 4,\n",
              "                    zoomControl: true,\n",
              "                    preferCanvas: false,\n",
              "                }\n",
              "            );\n",
              "\n",
              "            \n",
              "\n",
              "        \n",
              "    \n",
              "            var tile_layer_75fd971a8e69e15ff4a90855b9db856a = L.tileLayer(\n",
              "                &quot;https://{s}.tile.openstreetmap.org/{z}/{x}/{y}.png&quot;,\n",
              "                {&quot;attribution&quot;: &quot;Data by \\u0026copy; \\u003ca href=\\&quot;http://openstreetmap.org\\&quot;\\u003eOpenStreetMap\\u003c/a\\u003e, under \\u003ca href=\\&quot;http://www.openstreetmap.org/copyright\\&quot;\\u003eODbL\\u003c/a\\u003e.&quot;, &quot;detectRetina&quot;: false, &quot;maxNativeZoom&quot;: 18, &quot;maxZoom&quot;: 18, &quot;minZoom&quot;: 0, &quot;noWrap&quot;: false, &quot;opacity&quot;: 1, &quot;subdomains&quot;: &quot;abc&quot;, &quot;tms&quot;: false}\n",
              "            ).addTo(map_20b1727e3bf8a209adff444d57a4429b);\n",
              "        \n",
              "&lt;/script&gt;\" style=\"position:absolute;width:100%;height:100%;left:0;top:0;border:none !important;\" allowfullscreen webkitallowfullscreen mozallowfullscreen></iframe></div></div>"
            ]
          },
          "metadata": {},
          "execution_count": 73
        }
      ]
    },
    {
      "cell_type": "markdown",
      "source": [
        "Changing the tile set, see the [documentation](https://python-visualization.github.io/folium/modules.html) for built-in tiles."
      ],
      "metadata": {
        "id": "5BwGs7UJhZSX"
      }
    },
    {
      "cell_type": "code",
      "source": [
        "map = folium.Map(\n",
        "    location = [45, 0],\n",
        "    zoom_start = 4,\n",
        "    tiles = 'Stamen Toner'\n",
        "\n",
        "    #default would be\n",
        "    #tiles = 'OpenStreetMap'\n",
        ")\n",
        "map"
      ],
      "metadata": {
        "id": "gurdzGuZhdiP",
        "colab": {
          "base_uri": "https://localhost:8080/",
          "height": 794
        },
        "outputId": "c33b722f-bc32-4aaa-8715-25466dbeefd2"
      },
      "execution_count": 74,
      "outputs": [
        {
          "output_type": "execute_result",
          "data": {
            "text/plain": [
              "<folium.folium.Map at 0x7f843d802410>"
            ],
            "text/html": [
              "<div style=\"width:100%;\"><div style=\"position:relative;width:100%;height:0;padding-bottom:60%;\"><span style=\"color:#565656\">Make this Notebook Trusted to load map: File -> Trust Notebook</span><iframe srcdoc=\"&lt;!DOCTYPE html&gt;\n",
              "&lt;head&gt;    \n",
              "    &lt;meta http-equiv=&quot;content-type&quot; content=&quot;text/html; charset=UTF-8&quot; /&gt;\n",
              "    \n",
              "        &lt;script&gt;\n",
              "            L_NO_TOUCH = false;\n",
              "            L_DISABLE_3D = false;\n",
              "        &lt;/script&gt;\n",
              "    \n",
              "    &lt;style&gt;html, body {width: 100%;height: 100%;margin: 0;padding: 0;}&lt;/style&gt;\n",
              "    &lt;style&gt;#map {position:absolute;top:0;bottom:0;right:0;left:0;}&lt;/style&gt;\n",
              "    &lt;script src=&quot;https://cdn.jsdelivr.net/npm/leaflet@1.6.0/dist/leaflet.js&quot;&gt;&lt;/script&gt;\n",
              "    &lt;script src=&quot;https://code.jquery.com/jquery-1.12.4.min.js&quot;&gt;&lt;/script&gt;\n",
              "    &lt;script src=&quot;https://maxcdn.bootstrapcdn.com/bootstrap/3.2.0/js/bootstrap.min.js&quot;&gt;&lt;/script&gt;\n",
              "    &lt;script src=&quot;https://cdnjs.cloudflare.com/ajax/libs/Leaflet.awesome-markers/2.0.2/leaflet.awesome-markers.js&quot;&gt;&lt;/script&gt;\n",
              "    &lt;link rel=&quot;stylesheet&quot; href=&quot;https://cdn.jsdelivr.net/npm/leaflet@1.6.0/dist/leaflet.css&quot;/&gt;\n",
              "    &lt;link rel=&quot;stylesheet&quot; href=&quot;https://maxcdn.bootstrapcdn.com/bootstrap/3.2.0/css/bootstrap.min.css&quot;/&gt;\n",
              "    &lt;link rel=&quot;stylesheet&quot; href=&quot;https://maxcdn.bootstrapcdn.com/bootstrap/3.2.0/css/bootstrap-theme.min.css&quot;/&gt;\n",
              "    &lt;link rel=&quot;stylesheet&quot; href=&quot;https://maxcdn.bootstrapcdn.com/font-awesome/4.6.3/css/font-awesome.min.css&quot;/&gt;\n",
              "    &lt;link rel=&quot;stylesheet&quot; href=&quot;https://cdnjs.cloudflare.com/ajax/libs/Leaflet.awesome-markers/2.0.2/leaflet.awesome-markers.css&quot;/&gt;\n",
              "    &lt;link rel=&quot;stylesheet&quot; href=&quot;https://cdn.jsdelivr.net/gh/python-visualization/folium/folium/templates/leaflet.awesome.rotate.min.css&quot;/&gt;\n",
              "    \n",
              "            &lt;meta name=&quot;viewport&quot; content=&quot;width=device-width,\n",
              "                initial-scale=1.0, maximum-scale=1.0, user-scalable=no&quot; /&gt;\n",
              "            &lt;style&gt;\n",
              "                #map_8efb4b85862fb54b2fc257fdd1cbb268 {\n",
              "                    position: relative;\n",
              "                    width: 100.0%;\n",
              "                    height: 100.0%;\n",
              "                    left: 0.0%;\n",
              "                    top: 0.0%;\n",
              "                }\n",
              "            &lt;/style&gt;\n",
              "        \n",
              "&lt;/head&gt;\n",
              "&lt;body&gt;    \n",
              "    \n",
              "            &lt;div class=&quot;folium-map&quot; id=&quot;map_8efb4b85862fb54b2fc257fdd1cbb268&quot; &gt;&lt;/div&gt;\n",
              "        \n",
              "&lt;/body&gt;\n",
              "&lt;script&gt;    \n",
              "    \n",
              "            var map_8efb4b85862fb54b2fc257fdd1cbb268 = L.map(\n",
              "                &quot;map_8efb4b85862fb54b2fc257fdd1cbb268&quot;,\n",
              "                {\n",
              "                    center: [45.0, 0.0],\n",
              "                    crs: L.CRS.EPSG3857,\n",
              "                    zoom: 4,\n",
              "                    zoomControl: true,\n",
              "                    preferCanvas: false,\n",
              "                }\n",
              "            );\n",
              "\n",
              "            \n",
              "\n",
              "        \n",
              "    \n",
              "            var tile_layer_d813a75bea565c9c48a63de4a5b60bd9 = L.tileLayer(\n",
              "                &quot;https://stamen-tiles-{s}.a.ssl.fastly.net/toner/{z}/{x}/{y}.png&quot;,\n",
              "                {&quot;attribution&quot;: &quot;Map tiles by \\u003ca href=\\&quot;http://stamen.com\\&quot;\\u003eStamen Design\\u003c/a\\u003e, under \\u003ca href=\\&quot;http://creativecommons.org/licenses/by/3.0\\&quot;\\u003eCC BY 3.0\\u003c/a\\u003e. Data by \\u0026copy; \\u003ca href=\\&quot;http://openstreetmap.org\\&quot;\\u003eOpenStreetMap\\u003c/a\\u003e, under \\u003ca href=\\&quot;http://www.openstreetmap.org/copyright\\&quot;\\u003eODbL\\u003c/a\\u003e.&quot;, &quot;detectRetina&quot;: false, &quot;maxNativeZoom&quot;: 18, &quot;maxZoom&quot;: 18, &quot;minZoom&quot;: 0, &quot;noWrap&quot;: false, &quot;opacity&quot;: 1, &quot;subdomains&quot;: &quot;abc&quot;, &quot;tms&quot;: false}\n",
              "            ).addTo(map_8efb4b85862fb54b2fc257fdd1cbb268);\n",
              "        \n",
              "&lt;/script&gt;\" style=\"position:absolute;width:100%;height:100%;left:0;top:0;border:none !important;\" allowfullscreen webkitallowfullscreen mozallowfullscreen></iframe></div></div>"
            ]
          },
          "metadata": {},
          "execution_count": 74
        }
      ]
    },
    {
      "cell_type": "code",
      "source": [
        "map = folium.Map(\n",
        "    location = [45, 0],\n",
        "    zoom_start = 8,\n",
        "    tiles = 'Stamen Terrain'\n",
        ")\n",
        "map"
      ],
      "metadata": {
        "id": "69Ient26hgKp",
        "colab": {
          "base_uri": "https://localhost:8080/",
          "height": 794
        },
        "outputId": "d27cb875-6273-47a7-ed9f-35798075fb45"
      },
      "execution_count": 75,
      "outputs": [
        {
          "output_type": "execute_result",
          "data": {
            "text/plain": [
              "<folium.folium.Map at 0x7f843d37e950>"
            ],
            "text/html": [
              "<div style=\"width:100%;\"><div style=\"position:relative;width:100%;height:0;padding-bottom:60%;\"><span style=\"color:#565656\">Make this Notebook Trusted to load map: File -> Trust Notebook</span><iframe srcdoc=\"&lt;!DOCTYPE html&gt;\n",
              "&lt;head&gt;    \n",
              "    &lt;meta http-equiv=&quot;content-type&quot; content=&quot;text/html; charset=UTF-8&quot; /&gt;\n",
              "    \n",
              "        &lt;script&gt;\n",
              "            L_NO_TOUCH = false;\n",
              "            L_DISABLE_3D = false;\n",
              "        &lt;/script&gt;\n",
              "    \n",
              "    &lt;style&gt;html, body {width: 100%;height: 100%;margin: 0;padding: 0;}&lt;/style&gt;\n",
              "    &lt;style&gt;#map {position:absolute;top:0;bottom:0;right:0;left:0;}&lt;/style&gt;\n",
              "    &lt;script src=&quot;https://cdn.jsdelivr.net/npm/leaflet@1.6.0/dist/leaflet.js&quot;&gt;&lt;/script&gt;\n",
              "    &lt;script src=&quot;https://code.jquery.com/jquery-1.12.4.min.js&quot;&gt;&lt;/script&gt;\n",
              "    &lt;script src=&quot;https://maxcdn.bootstrapcdn.com/bootstrap/3.2.0/js/bootstrap.min.js&quot;&gt;&lt;/script&gt;\n",
              "    &lt;script src=&quot;https://cdnjs.cloudflare.com/ajax/libs/Leaflet.awesome-markers/2.0.2/leaflet.awesome-markers.js&quot;&gt;&lt;/script&gt;\n",
              "    &lt;link rel=&quot;stylesheet&quot; href=&quot;https://cdn.jsdelivr.net/npm/leaflet@1.6.0/dist/leaflet.css&quot;/&gt;\n",
              "    &lt;link rel=&quot;stylesheet&quot; href=&quot;https://maxcdn.bootstrapcdn.com/bootstrap/3.2.0/css/bootstrap.min.css&quot;/&gt;\n",
              "    &lt;link rel=&quot;stylesheet&quot; href=&quot;https://maxcdn.bootstrapcdn.com/bootstrap/3.2.0/css/bootstrap-theme.min.css&quot;/&gt;\n",
              "    &lt;link rel=&quot;stylesheet&quot; href=&quot;https://maxcdn.bootstrapcdn.com/font-awesome/4.6.3/css/font-awesome.min.css&quot;/&gt;\n",
              "    &lt;link rel=&quot;stylesheet&quot; href=&quot;https://cdnjs.cloudflare.com/ajax/libs/Leaflet.awesome-markers/2.0.2/leaflet.awesome-markers.css&quot;/&gt;\n",
              "    &lt;link rel=&quot;stylesheet&quot; href=&quot;https://cdn.jsdelivr.net/gh/python-visualization/folium/folium/templates/leaflet.awesome.rotate.min.css&quot;/&gt;\n",
              "    \n",
              "            &lt;meta name=&quot;viewport&quot; content=&quot;width=device-width,\n",
              "                initial-scale=1.0, maximum-scale=1.0, user-scalable=no&quot; /&gt;\n",
              "            &lt;style&gt;\n",
              "                #map_f0ae582c6bb8e06b82481dab7f3f0146 {\n",
              "                    position: relative;\n",
              "                    width: 100.0%;\n",
              "                    height: 100.0%;\n",
              "                    left: 0.0%;\n",
              "                    top: 0.0%;\n",
              "                }\n",
              "            &lt;/style&gt;\n",
              "        \n",
              "&lt;/head&gt;\n",
              "&lt;body&gt;    \n",
              "    \n",
              "            &lt;div class=&quot;folium-map&quot; id=&quot;map_f0ae582c6bb8e06b82481dab7f3f0146&quot; &gt;&lt;/div&gt;\n",
              "        \n",
              "&lt;/body&gt;\n",
              "&lt;script&gt;    \n",
              "    \n",
              "            var map_f0ae582c6bb8e06b82481dab7f3f0146 = L.map(\n",
              "                &quot;map_f0ae582c6bb8e06b82481dab7f3f0146&quot;,\n",
              "                {\n",
              "                    center: [45.0, 0.0],\n",
              "                    crs: L.CRS.EPSG3857,\n",
              "                    zoom: 8,\n",
              "                    zoomControl: true,\n",
              "                    preferCanvas: false,\n",
              "                }\n",
              "            );\n",
              "\n",
              "            \n",
              "\n",
              "        \n",
              "    \n",
              "            var tile_layer_4f03c3f21c962d068091770f66aae11d = L.tileLayer(\n",
              "                &quot;https://stamen-tiles-{s}.a.ssl.fastly.net/terrain/{z}/{x}/{y}.jpg&quot;,\n",
              "                {&quot;attribution&quot;: &quot;Map tiles by \\u003ca href=\\&quot;http://stamen.com\\&quot;\\u003eStamen Design\\u003c/a\\u003e, under \\u003ca href=\\&quot;http://creativecommons.org/licenses/by/3.0\\&quot;\\u003eCC BY 3.0\\u003c/a\\u003e. Data by \\u0026copy; \\u003ca href=\\&quot;http://openstreetmap.org\\&quot;\\u003eOpenStreetMap\\u003c/a\\u003e, under \\u003ca href=\\&quot;http://creativecommons.org/licenses/by-sa/3.0\\&quot;\\u003eCC BY SA\\u003c/a\\u003e.&quot;, &quot;detectRetina&quot;: false, &quot;maxNativeZoom&quot;: 18, &quot;maxZoom&quot;: 18, &quot;minZoom&quot;: 0, &quot;noWrap&quot;: false, &quot;opacity&quot;: 1, &quot;subdomains&quot;: &quot;abc&quot;, &quot;tms&quot;: false}\n",
              "            ).addTo(map_f0ae582c6bb8e06b82481dab7f3f0146);\n",
              "        \n",
              "&lt;/script&gt;\" style=\"position:absolute;width:100%;height:100%;left:0;top:0;border:none !important;\" allowfullscreen webkitallowfullscreen mozallowfullscreen></iframe></div></div>"
            ]
          },
          "metadata": {},
          "execution_count": 75
        }
      ]
    },
    {
      "cell_type": "markdown",
      "source": [
        "Adding a minimap\n",
        "\n"
      ],
      "metadata": {
        "id": "QFTELdhNCLG7"
      }
    },
    {
      "cell_type": "code",
      "source": [
        "from folium import plugins\n",
        "\n",
        "minimap = plugins.MiniMap()\n",
        "\n",
        "map.add_child(minimap)\n",
        "map"
      ],
      "metadata": {
        "colab": {
          "base_uri": "https://localhost:8080/",
          "height": 794
        },
        "id": "QIpjo5lBCOHg",
        "outputId": "5f289fd9-8cfa-4115-9db3-bbefdcf81dde"
      },
      "execution_count": 76,
      "outputs": [
        {
          "output_type": "execute_result",
          "data": {
            "text/plain": [
              "<folium.folium.Map at 0x7f843d37e950>"
            ],
            "text/html": [
              "<div style=\"width:100%;\"><div style=\"position:relative;width:100%;height:0;padding-bottom:60%;\"><span style=\"color:#565656\">Make this Notebook Trusted to load map: File -> Trust Notebook</span><iframe srcdoc=\"&lt;!DOCTYPE html&gt;\n",
              "&lt;head&gt;    \n",
              "    &lt;meta http-equiv=&quot;content-type&quot; content=&quot;text/html; charset=UTF-8&quot; /&gt;\n",
              "    \n",
              "        &lt;script&gt;\n",
              "            L_NO_TOUCH = false;\n",
              "            L_DISABLE_3D = false;\n",
              "        &lt;/script&gt;\n",
              "    \n",
              "    &lt;style&gt;html, body {width: 100%;height: 100%;margin: 0;padding: 0;}&lt;/style&gt;\n",
              "    &lt;style&gt;#map {position:absolute;top:0;bottom:0;right:0;left:0;}&lt;/style&gt;\n",
              "    &lt;script src=&quot;https://cdn.jsdelivr.net/npm/leaflet@1.6.0/dist/leaflet.js&quot;&gt;&lt;/script&gt;\n",
              "    &lt;script src=&quot;https://code.jquery.com/jquery-1.12.4.min.js&quot;&gt;&lt;/script&gt;\n",
              "    &lt;script src=&quot;https://maxcdn.bootstrapcdn.com/bootstrap/3.2.0/js/bootstrap.min.js&quot;&gt;&lt;/script&gt;\n",
              "    &lt;script src=&quot;https://cdnjs.cloudflare.com/ajax/libs/Leaflet.awesome-markers/2.0.2/leaflet.awesome-markers.js&quot;&gt;&lt;/script&gt;\n",
              "    &lt;link rel=&quot;stylesheet&quot; href=&quot;https://cdn.jsdelivr.net/npm/leaflet@1.6.0/dist/leaflet.css&quot;/&gt;\n",
              "    &lt;link rel=&quot;stylesheet&quot; href=&quot;https://maxcdn.bootstrapcdn.com/bootstrap/3.2.0/css/bootstrap.min.css&quot;/&gt;\n",
              "    &lt;link rel=&quot;stylesheet&quot; href=&quot;https://maxcdn.bootstrapcdn.com/bootstrap/3.2.0/css/bootstrap-theme.min.css&quot;/&gt;\n",
              "    &lt;link rel=&quot;stylesheet&quot; href=&quot;https://maxcdn.bootstrapcdn.com/font-awesome/4.6.3/css/font-awesome.min.css&quot;/&gt;\n",
              "    &lt;link rel=&quot;stylesheet&quot; href=&quot;https://cdnjs.cloudflare.com/ajax/libs/Leaflet.awesome-markers/2.0.2/leaflet.awesome-markers.css&quot;/&gt;\n",
              "    &lt;link rel=&quot;stylesheet&quot; href=&quot;https://cdn.jsdelivr.net/gh/python-visualization/folium/folium/templates/leaflet.awesome.rotate.min.css&quot;/&gt;\n",
              "    \n",
              "            &lt;meta name=&quot;viewport&quot; content=&quot;width=device-width,\n",
              "                initial-scale=1.0, maximum-scale=1.0, user-scalable=no&quot; /&gt;\n",
              "            &lt;style&gt;\n",
              "                #map_f0ae582c6bb8e06b82481dab7f3f0146 {\n",
              "                    position: relative;\n",
              "                    width: 100.0%;\n",
              "                    height: 100.0%;\n",
              "                    left: 0.0%;\n",
              "                    top: 0.0%;\n",
              "                }\n",
              "            &lt;/style&gt;\n",
              "        \n",
              "    &lt;script src=&quot;https://cdnjs.cloudflare.com/ajax/libs/leaflet-minimap/3.6.1/Control.MiniMap.js&quot;&gt;&lt;/script&gt;\n",
              "    &lt;link rel=&quot;stylesheet&quot; href=&quot;https://cdnjs.cloudflare.com/ajax/libs/leaflet-minimap/3.6.1/Control.MiniMap.css&quot;/&gt;\n",
              "&lt;/head&gt;\n",
              "&lt;body&gt;    \n",
              "    \n",
              "            &lt;div class=&quot;folium-map&quot; id=&quot;map_f0ae582c6bb8e06b82481dab7f3f0146&quot; &gt;&lt;/div&gt;\n",
              "        \n",
              "&lt;/body&gt;\n",
              "&lt;script&gt;    \n",
              "    \n",
              "            var map_f0ae582c6bb8e06b82481dab7f3f0146 = L.map(\n",
              "                &quot;map_f0ae582c6bb8e06b82481dab7f3f0146&quot;,\n",
              "                {\n",
              "                    center: [45.0, 0.0],\n",
              "                    crs: L.CRS.EPSG3857,\n",
              "                    zoom: 8,\n",
              "                    zoomControl: true,\n",
              "                    preferCanvas: false,\n",
              "                }\n",
              "            );\n",
              "\n",
              "            \n",
              "\n",
              "        \n",
              "    \n",
              "            var tile_layer_4f03c3f21c962d068091770f66aae11d = L.tileLayer(\n",
              "                &quot;https://stamen-tiles-{s}.a.ssl.fastly.net/terrain/{z}/{x}/{y}.jpg&quot;,\n",
              "                {&quot;attribution&quot;: &quot;Map tiles by \\u003ca href=\\&quot;http://stamen.com\\&quot;\\u003eStamen Design\\u003c/a\\u003e, under \\u003ca href=\\&quot;http://creativecommons.org/licenses/by/3.0\\&quot;\\u003eCC BY 3.0\\u003c/a\\u003e. Data by \\u0026copy; \\u003ca href=\\&quot;http://openstreetmap.org\\&quot;\\u003eOpenStreetMap\\u003c/a\\u003e, under \\u003ca href=\\&quot;http://creativecommons.org/licenses/by-sa/3.0\\&quot;\\u003eCC BY SA\\u003c/a\\u003e.&quot;, &quot;detectRetina&quot;: false, &quot;maxNativeZoom&quot;: 18, &quot;maxZoom&quot;: 18, &quot;minZoom&quot;: 0, &quot;noWrap&quot;: false, &quot;opacity&quot;: 1, &quot;subdomains&quot;: &quot;abc&quot;, &quot;tms&quot;: false}\n",
              "            ).addTo(map_f0ae582c6bb8e06b82481dab7f3f0146);\n",
              "        \n",
              "    \n",
              "            var tile_layer_a03869a87b8e73aea51624dfcd1dbe4f = L.tileLayer(\n",
              "                &quot;https://{s}.tile.openstreetmap.org/{z}/{x}/{y}.png&quot;,\n",
              "                {&quot;attribution&quot;: &quot;Data by \\u0026copy; \\u003ca href=\\&quot;http://openstreetmap.org\\&quot;\\u003eOpenStreetMap\\u003c/a\\u003e, under \\u003ca href=\\&quot;http://www.openstreetmap.org/copyright\\&quot;\\u003eODbL\\u003c/a\\u003e.&quot;, &quot;detectRetina&quot;: false, &quot;maxNativeZoom&quot;: 18, &quot;maxZoom&quot;: 18, &quot;minZoom&quot;: 0, &quot;noWrap&quot;: false, &quot;opacity&quot;: 1, &quot;subdomains&quot;: &quot;abc&quot;, &quot;tms&quot;: false}\n",
              "            );\n",
              "            var mini_map_9e422f65ebb70dc8a26b1db08def9535 = new L.Control.MiniMap(\n",
              "                tile_layer_a03869a87b8e73aea51624dfcd1dbe4f,\n",
              "                {&quot;autoToggleDisplay&quot;: false, &quot;centerFixed&quot;: false, &quot;collapsedHeight&quot;: 25, &quot;collapsedWidth&quot;: 25, &quot;height&quot;: 150, &quot;minimized&quot;: false, &quot;position&quot;: &quot;bottomright&quot;, &quot;toggleDisplay&quot;: false, &quot;width&quot;: 150, &quot;zoomAnimation&quot;: false, &quot;zoomLevelOffset&quot;: -5}\n",
              "            );\n",
              "            map_f0ae582c6bb8e06b82481dab7f3f0146.addControl(mini_map_9e422f65ebb70dc8a26b1db08def9535);\n",
              "        \n",
              "&lt;/script&gt;\" style=\"position:absolute;width:100%;height:100%;left:0;top:0;border:none !important;\" allowfullscreen webkitallowfullscreen mozallowfullscreen></iframe></div></div>"
            ]
          },
          "metadata": {},
          "execution_count": 76
        }
      ]
    },
    {
      "cell_type": "markdown",
      "source": [
        "Saving the map to html (not many options here)."
      ],
      "metadata": {
        "id": "Fk8q_DJVhkHu"
      }
    },
    {
      "cell_type": "code",
      "source": [
        "map.save('mymap.html')"
      ],
      "metadata": {
        "id": "l9_5Cw6mhnxT"
      },
      "execution_count": null,
      "outputs": []
    },
    {
      "cell_type": "markdown",
      "source": [
        "---\n",
        "\n",
        "# ASSIGNMENT! Remove interactivity\n",
        "\n",
        "Create a map with a starting location and zoom of your choice, and find the options to make the map completely static: no dragging, zooming with the button or with the mouse scrolling.\n",
        "\n",
        "---\n"
      ],
      "metadata": {
        "id": "N4NWu9qLeAJG"
      }
    },
    {
      "cell_type": "code",
      "source": [
        "# your solution here"
      ],
      "metadata": {
        "id": "vbpMmqxohod_"
      },
      "execution_count": null,
      "outputs": []
    },
    {
      "cell_type": "markdown",
      "source": [
        "# Markers\n",
        "\n",
        "All the stuff that you want to add to a map must stay inside a `FeatureGroup` object ([doc](https://python-visualization.github.io/folium/modules.html#folium.map.FeatureGroup)). As the name implies, a `FeatureGroup` can contain many things (hence it's called group). \n",
        "\n",
        "In the following example we add two `CircleMarker`s to the map ([doc](https://python-visualization.github.io/folium/modules.html#folium.vector_layers.CircleMarker))"
      ],
      "metadata": {
        "id": "F6XcaOOt069U"
      }
    },
    {
      "cell_type": "code",
      "source": [
        "#declaring the map, we are going to France\n",
        "west_france = folium.Map(\n",
        "    location = [45, 0],\n",
        "    zoom_start = 10\n",
        ")\n",
        "\n",
        "#the FeatureGroup that will contain all the markers\n",
        "libourne = folium.map.FeatureGroup()\n",
        "\n",
        "#declaring the first marker\n",
        "m = folium.features.CircleMarker(\n",
        "        [44.90, -0.25],\n",
        "        fill=True,\n",
        "        popup=\"Libourne city center\",\n",
        "    )\n",
        "\n",
        "\n",
        "#adding the marker to the group\n",
        "libourne.add_child(m)\n",
        "\n",
        "#adding second marker in a single instruction\n",
        "libourne.add_child(folium.features.CircleMarker(\n",
        "        [44.85, -0.58],\n",
        "        fill=True,\n",
        "        popup=\"Bourdeaux city center\"\n",
        "    )\n",
        ")\n",
        "\n",
        "#adding the feature group to the map\n",
        "west_france.add_child(libourne)\n",
        "\n",
        "#showing the map\n",
        "west_france"
      ],
      "metadata": {
        "id": "2O1_t2Poe66d"
      },
      "execution_count": null,
      "outputs": []
    },
    {
      "cell_type": "markdown",
      "source": [
        "---\n",
        "\n",
        "# ASSIGNMENT! Custom markers\n",
        "\n",
        "Update the markers in the map above doing the following:\n",
        "\n",
        "* the marker for Bordeux is bigger\n",
        "* the marker for Libourne has a red border and is filled with another color of your choice\n",
        "* the marker for Bordeux is a pentagon\n",
        "---"
      ],
      "metadata": {
        "id": "AN0uc6MI20Ia"
      }
    },
    {
      "cell_type": "code",
      "source": [
        "# your solution here"
      ],
      "metadata": {
        "id": "U20PqGvbhrMq"
      },
      "execution_count": null,
      "outputs": []
    },
    {
      "cell_type": "markdown",
      "source": [
        "# The usual Canada dataset"
      ],
      "metadata": {
        "id": "UXSGBUlGizeJ"
      }
    },
    {
      "cell_type": "code",
      "source": [
        "import numpy as np\n",
        "import pandas as pd\n",
        "\n",
        "df_canada = pd.read_excel(\n",
        "    'https://github.com/ne1s0n/dataviz_python/raw/main/resources/Canada.xlsx',\n",
        "    sheet_name = 'Canada by Citizenship',\n",
        "    skiprows = range(20),\n",
        "    skipfooter = 2\n",
        ")\n",
        "\n",
        "#the country is in the \"OdName\" column, let's make it more explicit\n",
        "df_canada.rename(columns = {'OdName':'Country'}, inplace = True)\n",
        "\n",
        "#adding a \"Total\" column with the total immigrants for that country\n",
        "years = df_canada.columns[9:43]\n",
        "df_canada['Total'] = df_canada.loc[:, years].sum(axis=1)\n",
        "\n",
        "#taking a look\n",
        "df_canada.head()"
      ],
      "metadata": {
        "id": "p95-QVe2i3VP"
      },
      "execution_count": null,
      "outputs": []
    },
    {
      "cell_type": "markdown",
      "source": [
        "# Choropleth map\n",
        "\n",
        "A choropleth map is a map that color-codes areas of the map (e.g. countries) to express numerical values.\n",
        "\n",
        "To do so we need two components:\n",
        "\n",
        "* the numerical values to be plotted (easy)\n",
        "* the shape of the areas on the map, usually in json forma (difficult)\n",
        "\n",
        "For our example we have the shapes of world countries saved at the following URL:\n",
        "\n"
      ],
      "metadata": {
        "id": "ZDX7dMSdiZ3F"
      }
    },
    {
      "cell_type": "code",
      "source": [
        "COUNTRIES_URL = 'https://github.com/ne1s0n/dataviz_python/raw/main/resources/world_countries.json'"
      ],
      "metadata": {
        "id": "-TPyLhaju1UA"
      },
      "execution_count": null,
      "outputs": []
    },
    {
      "cell_type": "markdown",
      "source": [
        "Creating your own geojson file may be complicated. You may find geometry files online (maybe in a different format, and in that case you may need [a converter](https://products.aspose.app/gis/conversion/convert-to-geojson)).\n",
        "Otherwise you may go and create your own shapes using online tools like \n",
        "[geojson.io](http://geojson.io/)"
      ],
      "metadata": {
        "id": "dQ0Hc7hjwDF1"
      }
    },
    {
      "cell_type": "code",
      "source": [
        "#this is needed for manipulating json files\n",
        "!pip install js"
      ],
      "metadata": {
        "id": "9RHmzvwjy_j5"
      },
      "execution_count": null,
      "outputs": []
    },
    {
      "cell_type": "code",
      "source": [
        "# download countries geojson file\n",
        "import json\n",
        "from os.path import exists\n",
        "import urllib.request \n",
        "\n",
        "if not exists('world_countries.json'):\n",
        "  #downloading file\n",
        "  urllib.request.urlretrieve(COUNTRIES_URL, \"world_countries.json\")\n",
        "\n",
        "#data = io.BytesIO((await resp.arrayBuffer()).to_py())\n",
        "f = open('world_countries.json',)\n",
        "world_geo = json.load(f)\n",
        "f.close()\n",
        "\n",
        "print('GeoJSON file loaded!')"
      ],
      "metadata": {
        "id": "pTHQuuB9nI4D"
      },
      "execution_count": null,
      "outputs": []
    },
    {
      "cell_type": "markdown",
      "source": [
        "Just taking a look at the geojson content using adding a [`folium.GeoJson`](https://python-visualization.github.io/folium/modules.html#folium.features.GeoJson) object to a map:"
      ],
      "metadata": {
        "id": "lQOK6u5_z18s"
      }
    },
    {
      "cell_type": "code",
      "source": [
        "m = folium.Map()\n",
        "m.add_child(folium.GeoJson(world_geo))\n",
        "m"
      ],
      "metadata": {
        "id": "ySIdSyiIz_jf"
      },
      "execution_count": null,
      "outputs": []
    },
    {
      "cell_type": "markdown",
      "source": [
        "We can avoid explicitly loading the file and just use the URL."
      ],
      "metadata": {
        "id": "9ijXbFO51BBW"
      }
    },
    {
      "cell_type": "code",
      "source": [
        "m = folium.Map()\n",
        "m.add_child(folium.GeoJson(COUNTRIES_URL))\n",
        "\n",
        "#show the map\n",
        "m"
      ],
      "metadata": {
        "id": "ZCDBNB3m03Ea"
      },
      "execution_count": null,
      "outputs": []
    },
    {
      "cell_type": "markdown",
      "source": [
        "`GeoJson` object provide options for changing aesthetics through the use of a [lambda function](https://www.w3schools.com/python/python_lambda.asp), and in particular through `lambda feature: {}` that sets the style of each feature.\n",
        "\n",
        "Options come from `leaflet.js`, the visualization library used as a basis for building folium. Possible options, see:\n",
        "\n",
        "* for `Point` and `MultiPoint`, see http://leafletjs.com/reference.html#marker\n",
        "* for other features, see http://leafletjs.com/reference.html#path-options and http://leafletjs.com/reference.html#polyline-options\n"
      ],
      "metadata": {
        "id": "6o87NJUJ1dLF"
      }
    },
    {
      "cell_type": "code",
      "source": [
        "m = folium.Map()\n",
        "m.add_child(\n",
        "folium.GeoJson(\n",
        "    COUNTRIES_URL,\n",
        "    style_function=lambda feature: {\n",
        "        \"fillColor\": \"#ffff00\",\n",
        "        \"color\": \"black\",\n",
        "        \"weight\": 2,\n",
        "        \"dashArray\": \"5, 5\",\n",
        "    }\n",
        "  )    \n",
        ")\n",
        "\n",
        "#show the map\n",
        "m"
      ],
      "metadata": {
        "id": "F6pEXjsu2Nfp"
      },
      "execution_count": null,
      "outputs": []
    },
    {
      "cell_type": "markdown",
      "source": [
        "There's a lot of potential for adaptive customization. In the following example we are using a [defaultdict](https://docs.python.org/3/library/collections.html#collections.defaultdict) object to define a default color for all countries, and the define a couple of custom colors for two countries."
      ],
      "metadata": {
        "id": "JogNUolH4imL"
      }
    },
    {
      "cell_type": "code",
      "source": [
        "from collections import defaultdict\n",
        "\n",
        "#a function that returns the default color\n",
        "def default_color():\n",
        "  return('yellow')\n",
        "\n",
        "#defining the defaultdict object with a default value and\n",
        "#two custom values\n",
        "mycolors = defaultdict(default_color)\n",
        "mycolors['Italy'] = 'red'\n",
        "mycolors['China'] = 'blue'\n",
        "\n",
        "#test that's working\n",
        "mycolors['Russia']"
      ],
      "metadata": {
        "id": "J7bpjOCL3SwJ"
      },
      "execution_count": null,
      "outputs": []
    },
    {
      "cell_type": "code",
      "source": [
        "#map + custom color\n",
        "m = folium.Map()\n",
        "m.add_child(\n",
        "folium.GeoJson(\n",
        "    COUNTRIES_URL,\n",
        "    style_function=lambda feature: {\n",
        "        \"fillColor\" : mycolors[feature[\"properties\"][\"name\"]],\n",
        "        \"color\": \"black\",\n",
        "        \"weight\": 2,\n",
        "        \"dashArray\": \"5, 5\",\n",
        "    }\n",
        "  )    \n",
        ")\n",
        "\n",
        "#show the map\n",
        "m"
      ],
      "metadata": {
        "id": "w1Z6eX5V2vyg"
      },
      "execution_count": null,
      "outputs": []
    },
    {
      "cell_type": "markdown",
      "source": [
        "Or even more convoluted/adaptive logic (here we are using the [inline if/else ternary operator](https://docs.python.org/3/reference/expressions.html#conditional-expressions)):"
      ],
      "metadata": {
        "id": "_41K2wgT4c3S"
      }
    },
    {
      "cell_type": "code",
      "source": [
        "m = folium.Map()\n",
        "m.add_child(\n",
        "folium.GeoJson(\n",
        "    COUNTRIES_URL,\n",
        "    style_function=lambda feature: {\n",
        "        \"fillColor\": \"green\"  if \"e\" in feature[\"properties\"][\"name\"].lower() else \"blue\",\n",
        "        \"color\": \"black\",\n",
        "        \"weight\": 2,\n",
        "        \"dashArray\": \"5, 5\",\n",
        "    }\n",
        "  )    \n",
        ")\n",
        "\n",
        "#show the map\n",
        "m"
      ],
      "metadata": {
        "id": "X_grqEzd4b2j"
      },
      "execution_count": null,
      "outputs": []
    },
    {
      "cell_type": "markdown",
      "source": [
        "This start to look like a choropleth, and with some additional logic we may end up creating one. That said, it's easier to directly use the [`choropleth class`](https://python-visualization.github.io/folium/modules.html#folium.features.Choropleth), that's built exactly for this:"
      ],
      "metadata": {
        "id": "eC5Al-o76Mf7"
      }
    },
    {
      "cell_type": "code",
      "source": [
        "world_map = folium.Map()\n",
        "\n",
        "world_map.add_child(\n",
        "    folium.Choropleth(\n",
        "      geo_data = COUNTRIES_URL,\n",
        "      data = df_canada,\n",
        "      columns = ['Country', 'Total'], #column 1 as the key, and column 2 the values\n",
        "      key_on = 'feature.properties.name'\n",
        "  )\n",
        ")\n",
        "\n",
        "# display map\n",
        "world_map"
      ],
      "metadata": {
        "id": "BnNwkSro66Zq"
      },
      "execution_count": null,
      "outputs": []
    },
    {
      "cell_type": "markdown",
      "source": [
        "A bit of aesthetics:"
      ],
      "metadata": {
        "id": "ekah8o7Y787h"
      }
    },
    {
      "cell_type": "code",
      "source": [
        "world_map = folium.Map()\n",
        "\n",
        "world_map.add_child(\n",
        "    folium.Choropleth(\n",
        "      geo_data = COUNTRIES_URL,\n",
        "      data = df_canada,\n",
        "      columns = ['Country', 'Total'], #column 1 as the key, and column 2 the values\n",
        "      key_on = 'feature.properties.name',\n",
        "      fill_color='YlOrRd', \n",
        "      fill_opacity=0.7, \n",
        "      line_opacity=0.2\n",
        "  )\n",
        ")"
      ],
      "metadata": {
        "id": "w8CZoD2vpCzG"
      },
      "execution_count": null,
      "outputs": []
    },
    {
      "cell_type": "markdown",
      "source": [
        "---\n",
        "\n",
        "# ASSIGNMENT customize Choropleth\n",
        "\n",
        "Take a look at the Choropleth documentation and improve the above map:\n",
        "\n",
        "* add a title to the legend\n",
        "* activate the highlight functionality so that when you move your mouse over a country it is highlighted\n",
        "* change the number of bins so that only three colors are used\n",
        "* assign a custom color to countries with missing data (e.g. Antarctica)\n",
        "\n",
        "---"
      ],
      "metadata": {
        "id": "OfdEm2fd8lLi"
      }
    },
    {
      "cell_type": "code",
      "source": [
        "#your solution here"
      ],
      "metadata": {
        "id": "BC1ZW1sO95nG"
      },
      "execution_count": null,
      "outputs": []
    },
    {
      "cell_type": "markdown",
      "source": [
        "# Not included\n",
        "\n",
        "* [marker clusters](https://deparkes.co.uk/2016/06/24/folium-marker-clusters/)\n",
        "* [heatmaps](https://blog.jovian.ai/interesting-heatmaps-using-python-folium-ee41b118a996)"
      ],
      "metadata": {
        "id": "T1bn3H-eB0OR"
      }
    }
  ]
}