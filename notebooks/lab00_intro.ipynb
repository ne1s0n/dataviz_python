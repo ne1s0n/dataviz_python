{
  "nbformat": 4,
  "nbformat_minor": 0,
  "metadata": {
    "colab": {
      "provenance": [],
      "collapsed_sections": [
        "5qq0sh1k6uNC",
        "tz5Xy6yUeCfH",
        "YK6NOjTz9szI",
        "vRE3lZPF8O4-",
        "9l7LuQ9C8S89",
        "WwGTvOt-9s8f"
      ],
      "toc_visible": true
    },
    "kernelspec": {
      "name": "python3",
      "display_name": "Python 3"
    },
    "language_info": {
      "name": "python"
    }
  },
  "cells": [
    {
      "cell_type": "markdown",
      "source": [
        "# Welcome Data Visualization in python 2022!"
      ],
      "metadata": {
        "id": "OHXN1cU1-u8Z"
      }
    },
    {
      "cell_type": "markdown",
      "source": [
        "## Introducing the teacher"
      ],
      "metadata": {
        "id": "66naFeY09b9a"
      }
    },
    {
      "cell_type": "markdown",
      "source": [
        "![nelson](https://genleg.crea.gov.it/wp-content/uploads/2022/05/74018_1695322106563_3777923_n_small.jpg)\n",
        "\n",
        "\n",
        "\n",
        "Scientist, bioinformatician <br>\n",
        "Centre for Animal Production and Aquaculture, Council for Agricultural Research and Economics (CREA) <br>\n",
        "Address: viale Piacenza 29, 26900 Lodi, Italy <br>\n",
        "E-mail: nelson.nazzicari [at] crea.gov.it <br>\n",
        "[Find me on ResearchGate](https://www.researchgate.net/profile/Nelson-Nazzicari) <br>\n",
        "[Find me on Google Scholar](https://scholar.google.it/citations?user=i2dlVhgAAAAJ&hl=en)<br>\n",
        "[My personal page on GENLEG project](https://genleg.crea.gov.it/index.php/2022/02/14/nelson-nazzicari/)\n"
      ],
      "metadata": {
        "id": "K9rx4-mQ9gKr"
      }
    },
    {
      "cell_type": "markdown",
      "source": [
        "## Introducing the course"
      ],
      "metadata": {
        "id": "wKESguPd9rnA"
      }
    },
    {
      "cell_type": "markdown",
      "source": [
        "## Roadmap"
      ],
      "metadata": {
        "id": "5qq0sh1k6uNC"
      }
    },
    {
      "cell_type": "markdown",
      "source": [
        "The course is technical, and aimed to data visualization for science\n",
        "\n",
        "\n",
        "* intro to python\n",
        "* core packages: numpy, pandas\n",
        "* graphical library: matplotlib.pyplot\n",
        "  * long assignment project\n",
        "* graphical library: seaborn\n",
        "* focus lesson: dendrograms, maps & geographical data\n",
        "* last day: bring your own data\n",
        "\n",
        "Warning: this is the first edition of the course"
      ],
      "metadata": {
        "id": "OKogtfhD6waJ"
      }
    },
    {
      "cell_type": "markdown",
      "source": [
        "## Lesson timing"
      ],
      "metadata": {
        "id": "tz5Xy6yUeCfH"
      }
    },
    {
      "cell_type": "markdown",
      "source": [
        "Lessons are 6 hours, from 2 pm to 8 pm (Berlin time) with two half an hour breaks:\n",
        "\n",
        "* 2:00 -> 4:00 lesson\n",
        "* 4:00 -> 4:30 break\n",
        "* 4:30 -> 6:30 lesson\n",
        "* 6:30 -> 7:00 break\n",
        "* 7:00 -> 8:00 break\n",
        "\n"
      ],
      "metadata": {
        "id": "3Hcka8Kj9VWE"
      }
    },
    {
      "cell_type": "markdown",
      "source": [
        "## What does doing dataviz looks like?"
      ],
      "metadata": {
        "id": "YK6NOjTz9szI"
      }
    },
    {
      "cell_type": "markdown",
      "source": [
        "### The sad truth"
      ],
      "metadata": {
        "id": "vRE3lZPF8O4-"
      }
    },
    {
      "cell_type": "markdown",
      "source": [
        "![sad](https://github.com/ne1s0n/dataviz_python/raw/main/resources/sad_truth.png)"
      ],
      "metadata": {
        "id": "dgRp26uJ8SM4"
      }
    },
    {
      "cell_type": "markdown",
      "source": [
        "### An unspoken secret"
      ],
      "metadata": {
        "id": "9l7LuQ9C8S89"
      }
    },
    {
      "cell_type": "markdown",
      "source": [
        "Graphical libraries are [HUGE](https://matplotlib.org/stable/api/index.html)!\n",
        "\n",
        "And they must be."
      ],
      "metadata": {
        "id": "GD6GXEOX9szQ"
      }
    },
    {
      "cell_type": "code",
      "source": [
        "x = [1, 2, 3,  4,  5]\n",
        "y = [1, 4, 9, 16, 25]\n",
        "\n",
        "import matplotlib.pyplot as plt\n",
        "\n",
        "plt.plot(x, y)"
      ],
      "metadata": {
        "id": "yQclzLjjEads"
      },
      "execution_count": null,
      "outputs": []
    },
    {
      "cell_type": "markdown",
      "source": [
        "And the secret is..."
      ],
      "metadata": {
        "id": "P5HmVDtQE8Vi"
      }
    },
    {
      "cell_type": "markdown",
      "source": [
        "## Errors in dataviz"
      ],
      "metadata": {
        "id": "F6570-p89s51"
      }
    },
    {
      "cell_type": "markdown",
      "source": [
        "\n",
        "\n",
        "Courtesy of professor [Karl Broman's](https://www.biostat.wisc.edu/~kbroman/topten_worstgraphs/) page on bad plots in scientific literature:\n",
        "\n",
        "* [3D ribbons](https://github.com/ne1s0n/dataviz_python/raw/main/resources/bad_charts/3D_ribbonds.jpg)\n",
        "* [populations](https://github.com/ne1s0n/dataviz_python/raw/main/resources/bad_charts/population.png)\n",
        "* [coverage](https://github.com/ne1s0n/dataviz_python/raw/main/resources/bad_charts/coverage.jpg)\n",
        "* [female:male](https://github.com/ne1s0n/dataviz_python/raw/main/resources/bad_charts/male_female_ratio.jpg)\n",
        "\n",
        "Courtesy of Eager eyes:\n",
        "\n",
        "* [Bubbles](https://github.com/ne1s0n/dataviz_python/raw/main/resources/bad_charts/bubbles.jpg) from [NY Times best and worst dataviz](https://eagereyes.org/blog/2008/ny-times-the-best-and-worst-of-data-visualization)\n",
        "\n",
        "Courtesy of junkcharts:\n",
        "\n",
        "* [universities](https://github.com/ne1s0n/dataviz_python/raw/main/resources/bad_charts/universities.jpg)"
      ],
      "metadata": {
        "id": "A4oLJLTiNMyC"
      }
    },
    {
      "cell_type": "markdown",
      "source": [
        "## What is good dataviz?"
      ],
      "metadata": {
        "id": "NJ1b8vqKQr6Y"
      }
    },
    {
      "cell_type": "markdown",
      "source": [
        "It's hard to condense the rules of aesthetics, but try to be:\n",
        "\n",
        "1. goal oriented\n",
        "2. in your audience's shoes\n",
        "  * context\n",
        "  * familiarity\n",
        "3. less is more\n",
        "  * decorations, background...\n",
        "  * label wisely\n",
        "4. honest\n",
        "\n",
        "Interesting links:\n",
        "\n",
        "* Eager eyes on \n",
        "  * [\"visual data analysis\" vs. \"data driven aesthetics images\"](https://eagereyes.org/criticism/data-visualization-should-we-divide-it)\n",
        "  * [data visualization](https://eagereyes.org/?s=data+visualization)\n",
        "* Dark Horse Analytics on better visualization ([part1](https://www.darkhorseanalytics.com/blog/towards-better-visualizations-part-1-the-visual-frontier), [part2](https://www.darkhorseanalytics.com/blog/towards-better-visualizations-part-2))\n"
      ],
      "metadata": {
        "id": "mkEyjUjt9s54"
      }
    },
    {
      "cell_type": "markdown",
      "source": [
        "## How to organize a project?"
      ],
      "metadata": {
        "id": "WwGTvOt-9s8f"
      }
    },
    {
      "cell_type": "markdown",
      "source": [
        "* My approach\n",
        "  * An example from Newtech microbiome (\"crea-za_newtech_microbioma\")\n",
        "* Standard folder organization\n",
        "* Use git (github, gitlab)\n",
        "  * if you are really lazy: dropbox, google drive..."
      ],
      "metadata": {
        "id": "rnuNMADuFSPH"
      }
    },
    {
      "cell_type": "markdown",
      "source": [
        "## Where to find the teaching material?"
      ],
      "metadata": {
        "id": "ei9GRlAFFHp1"
      }
    },
    {
      "cell_type": "markdown",
      "source": [
        "https://github.com/ne1s0n/dataviz_python/"
      ],
      "metadata": {
        "id": "7mYSjAhEFPhk"
      }
    }
  ]
}