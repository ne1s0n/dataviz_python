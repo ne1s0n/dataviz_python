{
  "nbformat": 4,
  "nbformat_minor": 0,
  "metadata": {
    "colab": {
      "provenance": [],
      "collapsed_sections": [],
      "toc_visible": true
    },
    "kernelspec": {
      "name": "python3",
      "display_name": "Python 3"
    },
    "language_info": {
      "name": "python"
    }
  },
  "cells": [
    {
      "cell_type": "markdown",
      "source": [
        "# Intro to numpy\n",
        "\n",
        "Numpy is a very popular python module for managing numeric datasets and all things mathematics.\n",
        "\n",
        "It is already installed in Colab and it's usually imported like:"
      ],
      "metadata": {
        "id": "mRBl6O5o_KgV"
      }
    },
    {
      "cell_type": "code",
      "execution_count": 1,
      "metadata": {
        "id": "LNXnXiX7_lTo"
      },
      "outputs": [],
      "source": [
        "import numpy as np"
      ]
    },
    {
      "cell_type": "markdown",
      "source": [
        "The core type you'll manage with numpy is the ``ndarray``, which stands for N-dimensional array, since it can support an arbitrary number of dimensions. Let's start with one."
      ],
      "metadata": {
        "id": "ZXFSYd29_4Ww"
      }
    },
    {
      "cell_type": "code",
      "source": [
        "#a standard python list\n",
        "my_list = [1, 2, 3, 4, 5, 0, 7, 1, 9]\n",
        "\n",
        "#a numpy 1D array\n",
        "my_array = np.array([1, 2, 3, 4, 5, 0, 7, 1, 9])"
      ],
      "metadata": {
        "id": "956phiLw_vbF"
      },
      "execution_count": 4,
      "outputs": []
    },
    {
      "cell_type": "markdown",
      "source": [
        "At a superficial level they are similar"
      ],
      "metadata": {
        "id": "vOG4OphgA3Ql"
      }
    },
    {
      "cell_type": "code",
      "source": [
        "print(my_list)\n",
        "print(my_array)"
      ],
      "metadata": {
        "colab": {
          "base_uri": "https://localhost:8080/"
        },
        "id": "O7U6ohHcAz6M",
        "outputId": "7d6724f3-1daf-4dc2-a1b1-867dc476d38b"
      },
      "execution_count": 5,
      "outputs": [
        {
          "output_type": "stream",
          "name": "stdout",
          "text": [
            "[1, 2, 3, 4, 5, 0, 7, 1, 9]\n",
            "[1 2 3 4 5 0 7 1 9]\n"
          ]
        }
      ]
    },
    {
      "cell_type": "markdown",
      "source": [
        "But obviously of different types"
      ],
      "metadata": {
        "id": "H5YCDANvA-vV"
      }
    },
    {
      "cell_type": "code",
      "source": [
        "print(type(my_list))\n",
        "print(type(my_array))"
      ],
      "metadata": {
        "colab": {
          "base_uri": "https://localhost:8080/"
        },
        "id": "AtGpCLsOALc4",
        "outputId": "74ebbae1-3f4a-4f6c-e39e-df9b47aa62c4"
      },
      "execution_count": 6,
      "outputs": [
        {
          "output_type": "stream",
          "name": "stdout",
          "text": [
            "<class 'list'>\n",
            "<class 'numpy.ndarray'>\n"
          ]
        }
      ]
    },
    {
      "cell_type": "markdown",
      "source": [
        "Numpy array support a long list of [attributes](https://numpy.org/doc/stable/reference/arrays.ndarray.html#array-attributes) and [methods](https://numpy.org/doc/stable/reference/arrays.ndarray.html#array-methods). E.g. you can retrieve its dimension(s) through the ``.shape`` attribute."
      ],
      "metadata": {
        "id": "SbEVRumzBHeI"
      }
    },
    {
      "cell_type": "code",
      "source": [
        "my_array.shape"
      ],
      "metadata": {
        "colab": {
          "base_uri": "https://localhost:8080/"
        },
        "id": "KM6DShpfBEOq",
        "outputId": "75e91ace-7d1a-4676-a057-4bd0b3680652"
      },
      "execution_count": 8,
      "outputs": [
        {
          "output_type": "execute_result",
          "data": {
            "text/plain": [
              "(9,)"
            ]
          },
          "metadata": {},
          "execution_count": 8
        }
      ]
    },
    {
      "cell_type": "markdown",
      "source": [
        "We see that by default `numpy` does not specify the second dimension for one-dimensional arrays (vectors). If you want to make this explicit (which may turn out to be helpful for some array operations and to avoid ambiguous results), you can use the **method** `reshape()`:"
      ],
      "metadata": {
        "id": "WBvP-539B1-r"
      }
    },
    {
      "cell_type": "code",
      "source": [
        "my_array = my_array.reshape(len(my_array),1)\n",
        "print(my_array.shape)"
      ],
      "metadata": {
        "colab": {
          "base_uri": "https://localhost:8080/"
        },
        "id": "SOdv1H2jBPpD",
        "outputId": "defe07cb-04ff-4321-f962-5df5268adc9d"
      },
      "execution_count": 9,
      "outputs": [
        {
          "output_type": "stream",
          "name": "stdout",
          "text": [
            "(9, 1)\n"
          ]
        }
      ]
    },
    {
      "cell_type": "markdown",
      "source": [
        "Going up in dimensions:"
      ],
      "metadata": {
        "id": "Pmz0mK1zCEaD"
      }
    },
    {
      "cell_type": "code",
      "source": [
        "my_array_2d = np.array([[1, 2, 3, 4], [5, 6, 7, 8]])\n",
        "print(my_array_2d)\n",
        "print(my_array_2d.shape) "
      ],
      "metadata": {
        "colab": {
          "base_uri": "https://localhost:8080/"
        },
        "id": "faC_fH8bB-gf",
        "outputId": "373500c9-abab-42fd-aa32-5c8b7fbcd9db"
      },
      "execution_count": 10,
      "outputs": [
        {
          "output_type": "stream",
          "name": "stdout",
          "text": [
            "[[1 2 3 4]\n",
            " [5 6 7 8]]\n",
            "(2, 4)\n"
          ]
        }
      ]
    },
    {
      "cell_type": "code",
      "source": [
        "my_array_3d = np.array([[1, 2, 3, 4], [5, 6, 7, 8], [9, 10, 11, 12]])\n",
        "print(my_array_3d)\n",
        "print(my_array_3d.shape) "
      ],
      "metadata": {
        "colab": {
          "base_uri": "https://localhost:8080/"
        },
        "id": "9kVdkC1ACQKg",
        "outputId": "446b6a6d-65c2-4bca-91c9-972da878d687"
      },
      "execution_count": 11,
      "outputs": [
        {
          "output_type": "stream",
          "name": "stdout",
          "text": [
            "[[ 1  2  3  4]\n",
            " [ 5  6  7  8]\n",
            " [ 9 10 11 12]]\n",
            "(3, 4)\n"
          ]
        }
      ]
    },
    {
      "cell_type": "markdown",
      "source": [
        "# Typing\n",
        "\n",
        "Numpy array must have the same types, and are managed as such:"
      ],
      "metadata": {
        "id": "MyeLLqLICu4U"
      }
    },
    {
      "cell_type": "code",
      "source": [
        "my_array1 = np.array([1, 2, 3])\n",
        "print(my_array1)\n",
        "\n",
        "my_array2 = np.array([1, 2, 3.14])\n",
        "print(my_array2)"
      ],
      "metadata": {
        "colab": {
          "base_uri": "https://localhost:8080/"
        },
        "id": "3CdbzzoXCddT",
        "outputId": "e876837a-d355-4f2c-fa04-5913c62ff935"
      },
      "execution_count": 14,
      "outputs": [
        {
          "output_type": "stream",
          "name": "stdout",
          "text": [
            "[1 2 3]\n",
            "[1.   2.   3.14]\n"
          ]
        }
      ]
    },
    {
      "cell_type": "markdown",
      "source": [
        "We can explicitly access the [data type](https://numpy.org/doc/stable/reference/arrays.scalars.html#arrays-scalars-built-in) via the ``.dtype`` property:"
      ],
      "metadata": {
        "id": "CaRkHi9uDIcb"
      }
    },
    {
      "cell_type": "code",
      "source": [
        "print(my_array1.dtype)\n",
        "print(my_array2.dtype)"
      ],
      "metadata": {
        "colab": {
          "base_uri": "https://localhost:8080/"
        },
        "id": "S-B6Pr7LCs3n",
        "outputId": "a6efe484-3b1d-48dd-b471-5ace8f133363"
      },
      "execution_count": 15,
      "outputs": [
        {
          "output_type": "stream",
          "name": "stdout",
          "text": [
            "int64\n",
            "float64\n"
          ]
        }
      ]
    },
    {
      "cell_type": "markdown",
      "source": [
        "# Missing values\n",
        "\n",
        "Numpy doesn't support \"holes\" in the arrays. However there are two special values, namely \"not a number\" and \"infinite\" that can be used for that purpose.   "
      ],
      "metadata": {
        "id": "nbRIOK3gEVe1"
      }
    },
    {
      "cell_type": "code",
      "source": [
        "my_array = np.array([1, 2, 3, np.NaN, np.inf])\n",
        "print(my_array)\n",
        "print(my_array.dtype)"
      ],
      "metadata": {
        "colab": {
          "base_uri": "https://localhost:8080/"
        },
        "id": "kkdc5L7SDdLI",
        "outputId": "dd9c58db-4a64-4fe9-c7db-4237f5c1f725"
      },
      "execution_count": 23,
      "outputs": [
        {
          "output_type": "stream",
          "name": "stdout",
          "text": [
            "[ 1.  2.  3. nan inf]\n",
            "float64\n"
          ]
        }
      ]
    },
    {
      "cell_type": "markdown",
      "source": [
        "Since they are numeric values, technically you can do operations with them."
      ],
      "metadata": {
        "id": "LD8wPIFZGUkH"
      }
    },
    {
      "cell_type": "code",
      "source": [
        " #predict the output!\n",
        " print(np.NaN + 3)\n",
        " print(np.inf + 3)\n",
        " print(np.NaN + np.inf)"
      ],
      "metadata": {
        "colab": {
          "base_uri": "https://localhost:8080/"
        },
        "id": "e6JoH74bEIcn",
        "outputId": "8f1499b5-9b13-4675-faff-5ba24c517134"
      },
      "execution_count": 27,
      "outputs": [
        {
          "output_type": "stream",
          "name": "stdout",
          "text": [
            "nan\n",
            "inf\n",
            "nan\n"
          ]
        }
      ]
    },
    {
      "cell_type": "markdown",
      "source": [
        "And there is functionality to select and count them:\n",
        "\n"
      ],
      "metadata": {
        "id": "YC4rnV25GiTS"
      }
    },
    {
      "cell_type": "code",
      "source": [
        "my_array = np.array([1, 2, 3, np.NaN, np.inf])\n",
        "print(np.isnan(my_array))"
      ],
      "metadata": {
        "colab": {
          "base_uri": "https://localhost:8080/"
        },
        "id": "0NoWh_85GuEi",
        "outputId": "498bc0f4-c6f0-4618-f7ba-d96c043a1d9a"
      },
      "execution_count": 29,
      "outputs": [
        {
          "output_type": "stream",
          "name": "stdout",
          "text": [
            "[False False False  True False]\n"
          ]
        }
      ]
    },
    {
      "cell_type": "markdown",
      "source": [
        "# Slicing\n",
        "\n",
        "With \"slicing\" we refer to the act of selecting subsets of numpy arrays. The general syntax uses the square brackets ``[]`` to indicate the operation of subsetting, and the semicolon ``:`` to indicate an interval, like this:\n",
        "\n",
        "- use array indices for slicing: `[start:end]`\n",
        "- a step argument can be added: `[start:end:step]`\n",
        "\n",
        "Keep in mind that ``start`` is the coordinate (zero-indexed) for the first element to be included, ``end`` is the coordinate (zero-indexed) for the first element to be **excluded**"
      ],
      "metadata": {
        "id": "axQ7wfhuGece"
      }
    },
    {
      "cell_type": "code",
      "source": [
        "#declaring a 1-dimensional array\n",
        "arr_1d = np.array([1, 2, 3, 4, 5, 0, 7, 1, 9])\n",
        "\n",
        "#predict the output!\n",
        "print(arr_1d[:])   \n",
        "print(arr_1d[3:6]) \n",
        "print(arr_1d[:3])  \n",
        "print(arr_1d[7:])  \n",
        "print(arr_1d[::2]) "
      ],
      "metadata": {
        "colab": {
          "base_uri": "https://localhost:8080/"
        },
        "id": "JIbY-vSvGHyH",
        "outputId": "c96660e3-0158-45e1-88e2-93e67dac871e"
      },
      "execution_count": 39,
      "outputs": [
        {
          "output_type": "stream",
          "name": "stdout",
          "text": [
            "[1 2 3 4 5 0 7 1 9]\n",
            "[4 5 0]\n",
            "[1 2 3]\n",
            "[1 9]\n",
            "[1 3 5 7 9]\n"
          ]
        }
      ]
    },
    {
      "cell_type": "markdown",
      "source": [
        "You can also do \"negative slicing\", passing negative values to refer to an index from the end: "
      ],
      "metadata": {
        "id": "PU9E0S3BITio"
      }
    },
    {
      "cell_type": "code",
      "source": [
        "#declaring a 1-dimensional array\n",
        "arr_1d = np.array([1, 2, 3, 4, 5, 0, 7, 1, 9])\n",
        "\n",
        "#predict the output!\n",
        "print(arr_1d[-3:])  \n",
        "print(arr_1d[-3:-1])  \n",
        "print(arr_1d[2:-3]) "
      ],
      "metadata": {
        "id": "iMLWrQx_H37a"
      },
      "execution_count": null,
      "outputs": []
    },
    {
      "cell_type": "markdown",
      "source": [
        "# Operations\n",
        "\n",
        "Since numpy arrays are big chuncks of numeric data, they support a lot of mathematical operations"
      ],
      "metadata": {
        "id": "mT_lkUFzI4wF"
      }
    },
    {
      "cell_type": "code",
      "source": [
        "arr_1d = np.array([1, 2, 3, 4, 5, 0, 7, 1, 9])\n",
        "\n",
        "#predict the output!\n",
        "print(arr_1d + 3)\n",
        "print(arr_1d + 2.5)\n",
        "print(arr_1d * 5)\n",
        "print(arr_1d + arr_1d)"
      ],
      "metadata": {
        "colab": {
          "base_uri": "https://localhost:8080/"
        },
        "id": "vkm9YvmRIihq",
        "outputId": "69ffd9d2-7a2d-42da-fae3-3ac38352589a"
      },
      "execution_count": 35,
      "outputs": [
        {
          "output_type": "stream",
          "name": "stdout",
          "text": [
            "[ 4  5  6  7  8  3 10  4 12]\n",
            "[ 5 10 15 20 25  0 35  5 45]\n",
            "[ 2  4  6  8 10  0 14  2 18]\n"
          ]
        }
      ]
    },
    {
      "cell_type": "markdown",
      "source": [
        "It works on more dimensions, too"
      ],
      "metadata": {
        "id": "MhYvfdBkJ6Vb"
      }
    },
    {
      "cell_type": "code",
      "source": [
        "my_array_2d = np.array([[1, 2, 3, 4], [5, 6, 7, 8]])\n",
        "\n",
        "#predict the output!\n",
        "print(my_array_2d + 1000)\n",
        "print(my_array_2d + my_array_2d)\n",
        "print(my_array_2d * my_array_2d)"
      ],
      "metadata": {
        "colab": {
          "base_uri": "https://localhost:8080/"
        },
        "id": "nds-xT36Jvyv",
        "outputId": "8fbcc673-78e5-45d2-fb8d-0fff4fef412d"
      },
      "execution_count": 38,
      "outputs": [
        {
          "output_type": "stream",
          "name": "stdout",
          "text": [
            "[[1001 1002 1003 1004]\n",
            " [1005 1006 1007 1008]]\n",
            "[[ 2  4  6  8]\n",
            " [10 12 14 16]]\n",
            "[[ 1  4  9 16]\n",
            " [25 36 49 64]]\n"
          ]
        }
      ]
    },
    {
      "cell_type": "markdown",
      "source": [
        "But the dimensions need to be compatible"
      ],
      "metadata": {
        "id": "7txzlqqWKQHc"
      }
    },
    {
      "cell_type": "code",
      "source": [
        "arr_1d = np.array([1, 2, 3, 4, 5, 0, 7, 1, 9])\n",
        "\n",
        "#predict the output!\n",
        "print(arr_1d[0:3] + arr_1d)"
      ],
      "metadata": {
        "colab": {
          "base_uri": "https://localhost:8080/",
          "height": 203
        },
        "id": "gmpgMGfPJok8",
        "outputId": "97e9d01c-367d-4f8b-e26b-0a7fc1c14016"
      },
      "execution_count": 40,
      "outputs": [
        {
          "output_type": "error",
          "ename": "ValueError",
          "evalue": "ignored",
          "traceback": [
            "\u001b[0;31m---------------------------------------------------------------------------\u001b[0m",
            "\u001b[0;31mValueError\u001b[0m                                Traceback (most recent call last)",
            "\u001b[0;32m<ipython-input-40-73885befa486>\u001b[0m in \u001b[0;36m<module>\u001b[0;34m\u001b[0m\n\u001b[1;32m      1\u001b[0m \u001b[0marr_1d\u001b[0m \u001b[0;34m=\u001b[0m \u001b[0mnp\u001b[0m\u001b[0;34m.\u001b[0m\u001b[0marray\u001b[0m\u001b[0;34m(\u001b[0m\u001b[0;34m[\u001b[0m\u001b[0;36m1\u001b[0m\u001b[0;34m,\u001b[0m \u001b[0;36m2\u001b[0m\u001b[0;34m,\u001b[0m \u001b[0;36m3\u001b[0m\u001b[0;34m,\u001b[0m \u001b[0;36m4\u001b[0m\u001b[0;34m,\u001b[0m \u001b[0;36m5\u001b[0m\u001b[0;34m,\u001b[0m \u001b[0;36m0\u001b[0m\u001b[0;34m,\u001b[0m \u001b[0;36m7\u001b[0m\u001b[0;34m,\u001b[0m \u001b[0;36m1\u001b[0m\u001b[0;34m,\u001b[0m \u001b[0;36m9\u001b[0m\u001b[0;34m]\u001b[0m\u001b[0;34m)\u001b[0m\u001b[0;34m\u001b[0m\u001b[0;34m\u001b[0m\u001b[0m\n\u001b[1;32m      2\u001b[0m \u001b[0;34m\u001b[0m\u001b[0m\n\u001b[0;32m----> 3\u001b[0;31m \u001b[0mprint\u001b[0m\u001b[0;34m(\u001b[0m\u001b[0marr_1d\u001b[0m\u001b[0;34m[\u001b[0m\u001b[0;36m0\u001b[0m\u001b[0;34m:\u001b[0m\u001b[0;36m3\u001b[0m\u001b[0;34m]\u001b[0m \u001b[0;34m+\u001b[0m \u001b[0marr_1d\u001b[0m\u001b[0;34m)\u001b[0m\u001b[0;34m\u001b[0m\u001b[0;34m\u001b[0m\u001b[0m\n\u001b[0m",
            "\u001b[0;31mValueError\u001b[0m: operands could not be broadcast together with shapes (3,) (9,) "
          ]
        }
      ]
    },
    {
      "cell_type": "markdown",
      "source": [
        "# Filtering\n",
        "\n",
        "It's easy to filter an array when you know the indexes of the cells to be picked, but it's way more interesting to extract subsets of it based on the actual values.\n",
        "\n",
        "Luckily any boolean list can be used for indexing.\n",
        "\n",
        "https://www.w3schools.com/python/numpy/numpy_array_filter.asp\n",
        "\n",
        "https://www.w3schools.com/python/numpy/numpy_exercises.asp"
      ],
      "metadata": {
        "id": "OMELYVYzM_Cn"
      }
    },
    {
      "cell_type": "code",
      "source": [
        "my_array = np.array([1, 2, 4, 8, 16])\n",
        "\n",
        "#predict the output!\n",
        "\n",
        "my_first_filter = [True, False, True, False, True]\n",
        "print(my_array[my_first_filter]) \n",
        "\n",
        "my_second_filter = my_array > 5\n",
        "print(my_array[my_second_filter]) "
      ],
      "metadata": {
        "colab": {
          "base_uri": "https://localhost:8080/"
        },
        "id": "vMQ76faaQAMr",
        "outputId": "ba99ff12-a503-407f-bb2e-e04669c6ac3a"
      },
      "execution_count": 42,
      "outputs": [
        {
          "output_type": "stream",
          "name": "stdout",
          "text": [
            "[ 1  4 16]\n",
            "[ 8 16]\n"
          ]
        }
      ]
    },
    {
      "cell_type": "markdown",
      "source": [
        "---\n",
        "\n",
        "# ASSIGNMENT! (filtering)\n",
        "\n",
        "* use the basic python [range()](https://www.w3schools.com/python/ref_func_range.asp) function to fill a numpy array with all the integer numebers between 100 and 200.\n",
        "* filter the array so to select only the elements that are divisible by seven (remember the ``%`` operator)\n",
        "---"
      ],
      "metadata": {
        "id": "D5GTtGJ0QYek"
      }
    },
    {
      "cell_type": "code",
      "source": [
        "#your solution here"
      ],
      "metadata": {
        "id": "iPwZKdGzQvq0"
      },
      "execution_count": null,
      "outputs": []
    },
    {
      "cell_type": "markdown",
      "source": [
        "# Random\n",
        "\n",
        "The ``numpy.random`` submodule is useful for generating values that follow a defined distribution. This come handy for examples and for simulating data.\n",
        "\n",
        "As an example you can use the [randint()](https://numpy.org/doc/stable/reference/random/generated/numpy.random.randint.html) function to generate a random integer between 0 and 100."
      ],
      "metadata": {
        "id": "HucrSptJOYM7"
      }
    },
    {
      "cell_type": "code",
      "source": [
        "from numpy import random\n",
        "\n",
        "print(random.randint(101))\n",
        "print(random.randint(101))\n",
        "print(random.randint(101))\n",
        "print(random.randint(101))\n",
        "print(random.randint(101))"
      ],
      "metadata": {
        "colab": {
          "base_uri": "https://localhost:8080/"
        },
        "id": "j9yAJ0iM6Sn9",
        "outputId": "4ded353a-0c9b-49e5-cf7f-8ac9e1ddedfc"
      },
      "execution_count": 3,
      "outputs": [
        {
          "output_type": "stream",
          "name": "stdout",
          "text": [
            "87\n",
            "64\n",
            "89\n",
            "36\n",
            "64\n"
          ]
        }
      ]
    },
    {
      "cell_type": "markdown",
      "source": [
        "Each successive call is a new (pseudo)random number, and each of you has a different result. It is possible however to \"synchronize\" our random generators, through an operation called \"setting the seed\"."
      ],
      "metadata": {
        "id": "6o7kYxBz6653"
      }
    },
    {
      "cell_type": "code",
      "source": [
        "random.seed(42)\n",
        "print(random.randint(101))\n",
        "print(random.randint(101))\n",
        "print(random.randint(101))\n",
        "print(random.randint(101))\n",
        "print(random.randint(101))\n",
        "\n",
        "print ('')\n",
        "\n",
        "random.seed(42)\n",
        "print(random.randint(101))\n",
        "print(random.randint(101))\n",
        "print(random.randint(101))\n",
        "print(random.randint(101))\n",
        "print(random.randint(101))"
      ],
      "metadata": {
        "colab": {
          "base_uri": "https://localhost:8080/"
        },
        "id": "gV1Ao19l7eGK",
        "outputId": "b316d94e-74c6-45b1-8fcd-f903ed6351ae"
      },
      "execution_count": 6,
      "outputs": [
        {
          "output_type": "stream",
          "name": "stdout",
          "text": [
            "51\n",
            "92\n",
            "14\n",
            "71\n",
            "60\n",
            "\n",
            "51\n",
            "92\n",
            "14\n",
            "71\n",
            "60\n"
          ]
        }
      ]
    },
    {
      "cell_type": "markdown",
      "source": [
        "---\n",
        "\n",
        "# ASSIGNMENT! (random)\n",
        "\n",
        "Look up the numpy function needed to generate samples from a normal (gaussian) distribution, then use it to generate 100 samples from a distribution with mean = 5 and standard deviation = 2.\n",
        "\n",
        "---"
      ],
      "metadata": {
        "id": "oQQcPSMW7w6P"
      }
    },
    {
      "cell_type": "code",
      "source": [
        "#your solution here"
      ],
      "metadata": {
        "id": "N5Fl3Boe8lgs"
      },
      "execution_count": null,
      "outputs": []
    },
    {
      "cell_type": "markdown",
      "source": [
        "# Functions\n",
        "\n",
        "There's a lot of useful functions in numpy. Let's just cite:\n",
        "\n",
        "* array manipulation\n",
        "  * [transpose()](https://numpy.org/doc/stable/reference/generated/numpy.transpose.html) : reverse or permute the axes \n",
        "  * [sort()](https://numpy.org/doc/stable/reference/generated/numpy.sort.html) : sort the array \n",
        "  * [concatenate()](https://numpy.org/doc/stable/reference/generated/numpy.concatenate.html) : used to collate array along existing axes\n",
        "* maths\n",
        "  * [sum()](https://numpy.org/devdocs/reference/generated/numpy.sum.html#numpy.sum) : adding elements\n",
        "  * [mean()](https://numpy.org/doc/stable/reference/generated/numpy.mean.html) : compute the average \n",
        "  * [sqrt()](https://numpy.org/doc/stable/reference/generated/numpy.sqrt.html) : square root\n",
        "  * [sin()](https://numpy.org/doc/stable/reference/generated/numpy.sin.html) [cos()](https://numpy.org/doc/stable/reference/generated/numpy.cos.html) ... : all the trig functions\n",
        "  * [max()](https://docs.python.org/3/library/functions.html#max), [argmax()](https://numpy.org/devdocs/reference/generated/numpy.argmax.html#numpy.argmax) : find the maximum value, or the index for the maximum value \n",
        "* logical\n",
        "  * [any()](https://numpy.org/doc/stable/reference/generated/numpy.any.html) : return ``True`` if at least one of the element of the array is ``True``\n",
        "  * [all()](https://numpy.org/doc/stable/reference/generated/numpy.all.html#numpy.all) : return ``True`` if all the elements of the array are ``True``"
      ],
      "metadata": {
        "id": "zRd9ofz6KmuL"
      }
    },
    {
      "cell_type": "markdown",
      "source": [
        "---\n",
        "\n",
        "# ASSIGNMENT! (final numpy)\n",
        "\n",
        "In this final assignment you'll test a mix of what we have seen. You are required to:\n",
        "\n",
        "* create an array of 100 random integer between 1 and 10 picked from a uniform distribution\n",
        "* compute and print the average\n",
        "* subtract the average from the array\n",
        "* compute and print the average again (can you predict this value?)\n",
        "* compute the third quartile value (e.g. the threshold that separates the top 25% of values from the remainer part). Hint: there's a quantile function in numpy...\n",
        "* print the values in the top quartile\n",
        "* how many values are in the top quartile?\n",
        "---"
      ],
      "metadata": {
        "id": "n2Yn6PZnOapn"
      }
    },
    {
      "cell_type": "code",
      "source": [
        "#your solution here"
      ],
      "metadata": {
        "id": "dHlKGeJtKgVu"
      },
      "execution_count": null,
      "outputs": []
    }
  ]
}